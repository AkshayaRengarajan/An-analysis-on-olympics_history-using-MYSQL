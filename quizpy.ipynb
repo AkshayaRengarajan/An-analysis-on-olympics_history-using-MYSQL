{
  "nbformat": 4,
  "nbformat_minor": 0,
  "metadata": {
    "colab": {
      "provenance": [],
      "authorship_tag": "ABX9TyOVW9rQcy297jPtK1vQnfYJ",
      "include_colab_link": true
    },
    "kernelspec": {
      "name": "python3",
      "display_name": "Python 3"
    },
    "language_info": {
      "name": "python"
    }
  },
  "cells": [
    {
      "cell_type": "markdown",
      "metadata": {
        "id": "view-in-github",
        "colab_type": "text"
      },
      "source": [
        "<a href=\"https://colab.research.google.com/github/AkshayaRengarajan/An-analysis-on-olympics_history-using-MYSQL/blob/main/quizpy.ipynb\" target=\"_parent\"><img src=\"https://colab.research.google.com/assets/colab-badge.svg\" alt=\"Open In Colab\"/></a>"
      ]
    },
    {
      "cell_type": "code",
      "execution_count": 7,
      "metadata": {
        "id": "oD8DnSaqxY54"
      },
      "outputs": [],
      "source": [
        "question_bank=[\n",
        "    {\"text\":\"The ability of one class to accquire methods and attrubutes of another class is called_____\",\"answer\":\"A\"},\n",
        "    {\"text\":\"which type of inheritance has multiple subclasses to a single superclass?\",\"answer\":\"C\"},\n",
        "    {\"text\":\"Which of the following functions is a built-in function in python? \",\"answer\":\"D\"},\n",
        "    {\"text\":\"What is the maximum possible length of an identifier?\",\"answer\":\"D\"},\n",
        "    {\"text\":\"Who developed the Python language?\",\"answer\":\"B\"}\n",
        "]\n",
        "\n",
        "options =[[\"A.Inheritance\",\"B.Abstraction\",\"C.Polymorphism\",\"D.Objects\"],\n",
        "          [\"A.Multiple Iheritance\",\"B.Multilevel Inheritance\",\"C.Hierarchical Inheritance\",\"D.None of above\"],\n",
        "          [\"A.Seed()\",\"B.sqrt()\",\"C.factorial()\",\"D.print()\"],\n",
        "          [\"A.16\",\"B.32\",\"C.64\",\"D.None of above\"],\n",
        "          [\"A.Zim Den\",\"B.Guido van Rossum\",\"C.Niene Stom\",\"D.Wick van Rossum\"]\n",
        "\n",
        "]\n",
        "\n",
        "\n",
        "\n",
        "\n",
        "\n"
      ]
    },
    {
      "cell_type": "code",
      "source": [
        "\n",
        "name = input(\"enter your name:\")\n",
        "print(\"Hello\",name,\"Welcome to the quiz world\")\n",
        "print(\"*********************************\")\n",
        "score=0\n",
        "\n",
        "def check_answer(user_guess,correst_answer):\n",
        "  if user_guess==correst_answer:\n",
        "    return True\n",
        "  else:\n",
        "    return False\n",
        "\n",
        "for question_num in range(len(question_bank)):\n",
        "    print(\"***************************\")\n",
        "    print(question_bank[question_num][\"text\"])\n",
        "    flag1= input(\"Do you want to skip this question (yes/no):\")\n",
        "    if flag1 == \"yes\":\n",
        "      continue\n",
        "    for i in options[question_num]:\n",
        "      print(i)\n",
        "\n",
        "\n",
        "    guess=input(\"Enter your answer(A/B/C/D):\").upper()\n",
        "    is_correct=check_answer(guess,question_bank[question_num][\"answer\"])\n",
        "    if is_correct:\n",
        "       print(\"Correct Answer\")\n",
        "       score +=1\n",
        "    else:\n",
        "      print(\"Incorrect Answer\")\n",
        "      print(f\"The correct answer is{question_bank[question_num]['answer']}\")\n",
        "    print(f\"your current score is{score}/{question_num+1}\")\n",
        "    print()\n",
        "\n",
        "print(f\"you have given{score}correct answer\")\n",
        "print(f\"your score is{(score/len(question_bank))*100}%\")\n"
      ],
      "metadata": {
        "id": "iL1TcBUdgD_y"
      },
      "execution_count": null,
      "outputs": []
    }
  ]
}