{
  "cells": [
    {
      "cell_type": "markdown",
      "metadata": {
        "id": "view-in-github",
        "colab_type": "text"
      },
      "source": [
        "<a href=\"https://colab.research.google.com/github/AkshayaRengarajan/An-analysis-on-olympics_history-using-MYSQL/blob/main/FINAL_PROJECT.ipynb\" target=\"_parent\"><img src=\"https://colab.research.google.com/assets/colab-badge.svg\" alt=\"Open In Colab\"/></a>"
      ]
    },
    {
      "cell_type": "markdown",
      "source": [
        "### **Load and Explore the Data**"
      ],
      "metadata": {
        "id": "WVZvwJsjSWYN"
      }
    },
    {
      "cell_type": "code",
      "execution_count": null,
      "metadata": {
        "colab": {
          "base_uri": "https://localhost:8080/",
          "height": 423
        },
        "id": "tNcwDmSs8gmh",
        "outputId": "eb6df296-c02c-4fdb-8f83-9db5a18a09bf"
      },
      "outputs": [
        {
          "output_type": "execute_result",
          "data": {
            "text/plain": [
              "     defect_id  product_id defect_type defect_date defect_location  severity  \\\n",
              "0            1          15  Structural    6/6/2024       Component     Minor   \n",
              "1            2           6  Functional   4/26/2024       Component     Minor   \n",
              "2            3          84  Structural   2/15/2024        Internal     Minor   \n",
              "3            4          10  Functional   3/28/2024        Internal  Critical   \n",
              "4            5          14    Cosmetic   4/26/2024       Component     Minor   \n",
              "..         ...         ...         ...         ...             ...       ...   \n",
              "995        996          25  Structural    3/1/2024       Component     Minor   \n",
              "996        997          23  Functional   3/21/2024       Component  Moderate   \n",
              "997        998          17  Structural   1/16/2024       Component     Minor   \n",
              "998        999          96    Cosmetic   6/21/2024        Internal  Moderate   \n",
              "999       1000           1    Cosmetic   3/23/2024       Component     Minor   \n",
              "\n",
              "     inspection_method  repair_cost  \n",
              "0    Visual Inspection       245.47  \n",
              "1    Visual Inspection        26.87  \n",
              "2    Automated Testing       835.81  \n",
              "3    Automated Testing       444.47  \n",
              "4       Manual Testing       823.64  \n",
              "..                 ...          ...  \n",
              "995  Automated Testing       813.14  \n",
              "996  Automated Testing       944.07  \n",
              "997  Automated Testing       401.12  \n",
              "998     Manual Testing       775.63  \n",
              "999  Visual Inspection       963.40  \n",
              "\n",
              "[1000 rows x 8 columns]"
            ],
            "text/html": [
              "\n",
              "  <div id=\"df-ab609054-4c84-44da-b07a-dda05626d125\" class=\"colab-df-container\">\n",
              "    <div>\n",
              "<style scoped>\n",
              "    .dataframe tbody tr th:only-of-type {\n",
              "        vertical-align: middle;\n",
              "    }\n",
              "\n",
              "    .dataframe tbody tr th {\n",
              "        vertical-align: top;\n",
              "    }\n",
              "\n",
              "    .dataframe thead th {\n",
              "        text-align: right;\n",
              "    }\n",
              "</style>\n",
              "<table border=\"1\" class=\"dataframe\">\n",
              "  <thead>\n",
              "    <tr style=\"text-align: right;\">\n",
              "      <th></th>\n",
              "      <th>defect_id</th>\n",
              "      <th>product_id</th>\n",
              "      <th>defect_type</th>\n",
              "      <th>defect_date</th>\n",
              "      <th>defect_location</th>\n",
              "      <th>severity</th>\n",
              "      <th>inspection_method</th>\n",
              "      <th>repair_cost</th>\n",
              "    </tr>\n",
              "  </thead>\n",
              "  <tbody>\n",
              "    <tr>\n",
              "      <th>0</th>\n",
              "      <td>1</td>\n",
              "      <td>15</td>\n",
              "      <td>Structural</td>\n",
              "      <td>6/6/2024</td>\n",
              "      <td>Component</td>\n",
              "      <td>Minor</td>\n",
              "      <td>Visual Inspection</td>\n",
              "      <td>245.47</td>\n",
              "    </tr>\n",
              "    <tr>\n",
              "      <th>1</th>\n",
              "      <td>2</td>\n",
              "      <td>6</td>\n",
              "      <td>Functional</td>\n",
              "      <td>4/26/2024</td>\n",
              "      <td>Component</td>\n",
              "      <td>Minor</td>\n",
              "      <td>Visual Inspection</td>\n",
              "      <td>26.87</td>\n",
              "    </tr>\n",
              "    <tr>\n",
              "      <th>2</th>\n",
              "      <td>3</td>\n",
              "      <td>84</td>\n",
              "      <td>Structural</td>\n",
              "      <td>2/15/2024</td>\n",
              "      <td>Internal</td>\n",
              "      <td>Minor</td>\n",
              "      <td>Automated Testing</td>\n",
              "      <td>835.81</td>\n",
              "    </tr>\n",
              "    <tr>\n",
              "      <th>3</th>\n",
              "      <td>4</td>\n",
              "      <td>10</td>\n",
              "      <td>Functional</td>\n",
              "      <td>3/28/2024</td>\n",
              "      <td>Internal</td>\n",
              "      <td>Critical</td>\n",
              "      <td>Automated Testing</td>\n",
              "      <td>444.47</td>\n",
              "    </tr>\n",
              "    <tr>\n",
              "      <th>4</th>\n",
              "      <td>5</td>\n",
              "      <td>14</td>\n",
              "      <td>Cosmetic</td>\n",
              "      <td>4/26/2024</td>\n",
              "      <td>Component</td>\n",
              "      <td>Minor</td>\n",
              "      <td>Manual Testing</td>\n",
              "      <td>823.64</td>\n",
              "    </tr>\n",
              "    <tr>\n",
              "      <th>...</th>\n",
              "      <td>...</td>\n",
              "      <td>...</td>\n",
              "      <td>...</td>\n",
              "      <td>...</td>\n",
              "      <td>...</td>\n",
              "      <td>...</td>\n",
              "      <td>...</td>\n",
              "      <td>...</td>\n",
              "    </tr>\n",
              "    <tr>\n",
              "      <th>995</th>\n",
              "      <td>996</td>\n",
              "      <td>25</td>\n",
              "      <td>Structural</td>\n",
              "      <td>3/1/2024</td>\n",
              "      <td>Component</td>\n",
              "      <td>Minor</td>\n",
              "      <td>Automated Testing</td>\n",
              "      <td>813.14</td>\n",
              "    </tr>\n",
              "    <tr>\n",
              "      <th>996</th>\n",
              "      <td>997</td>\n",
              "      <td>23</td>\n",
              "      <td>Functional</td>\n",
              "      <td>3/21/2024</td>\n",
              "      <td>Component</td>\n",
              "      <td>Moderate</td>\n",
              "      <td>Automated Testing</td>\n",
              "      <td>944.07</td>\n",
              "    </tr>\n",
              "    <tr>\n",
              "      <th>997</th>\n",
              "      <td>998</td>\n",
              "      <td>17</td>\n",
              "      <td>Structural</td>\n",
              "      <td>1/16/2024</td>\n",
              "      <td>Component</td>\n",
              "      <td>Minor</td>\n",
              "      <td>Automated Testing</td>\n",
              "      <td>401.12</td>\n",
              "    </tr>\n",
              "    <tr>\n",
              "      <th>998</th>\n",
              "      <td>999</td>\n",
              "      <td>96</td>\n",
              "      <td>Cosmetic</td>\n",
              "      <td>6/21/2024</td>\n",
              "      <td>Internal</td>\n",
              "      <td>Moderate</td>\n",
              "      <td>Manual Testing</td>\n",
              "      <td>775.63</td>\n",
              "    </tr>\n",
              "    <tr>\n",
              "      <th>999</th>\n",
              "      <td>1000</td>\n",
              "      <td>1</td>\n",
              "      <td>Cosmetic</td>\n",
              "      <td>3/23/2024</td>\n",
              "      <td>Component</td>\n",
              "      <td>Minor</td>\n",
              "      <td>Visual Inspection</td>\n",
              "      <td>963.40</td>\n",
              "    </tr>\n",
              "  </tbody>\n",
              "</table>\n",
              "<p>1000 rows × 8 columns</p>\n",
              "</div>\n",
              "    <div class=\"colab-df-buttons\">\n",
              "\n",
              "  <div class=\"colab-df-container\">\n",
              "    <button class=\"colab-df-convert\" onclick=\"convertToInteractive('df-ab609054-4c84-44da-b07a-dda05626d125')\"\n",
              "            title=\"Convert this dataframe to an interactive table.\"\n",
              "            style=\"display:none;\">\n",
              "\n",
              "  <svg xmlns=\"http://www.w3.org/2000/svg\" height=\"24px\" viewBox=\"0 -960 960 960\">\n",
              "    <path d=\"M120-120v-720h720v720H120Zm60-500h600v-160H180v160Zm220 220h160v-160H400v160Zm0 220h160v-160H400v160ZM180-400h160v-160H180v160Zm440 0h160v-160H620v160ZM180-180h160v-160H180v160Zm440 0h160v-160H620v160Z\"/>\n",
              "  </svg>\n",
              "    </button>\n",
              "\n",
              "  <style>\n",
              "    .colab-df-container {\n",
              "      display:flex;\n",
              "      gap: 12px;\n",
              "    }\n",
              "\n",
              "    .colab-df-convert {\n",
              "      background-color: #E8F0FE;\n",
              "      border: none;\n",
              "      border-radius: 50%;\n",
              "      cursor: pointer;\n",
              "      display: none;\n",
              "      fill: #1967D2;\n",
              "      height: 32px;\n",
              "      padding: 0 0 0 0;\n",
              "      width: 32px;\n",
              "    }\n",
              "\n",
              "    .colab-df-convert:hover {\n",
              "      background-color: #E2EBFA;\n",
              "      box-shadow: 0px 1px 2px rgba(60, 64, 67, 0.3), 0px 1px 3px 1px rgba(60, 64, 67, 0.15);\n",
              "      fill: #174EA6;\n",
              "    }\n",
              "\n",
              "    .colab-df-buttons div {\n",
              "      margin-bottom: 4px;\n",
              "    }\n",
              "\n",
              "    [theme=dark] .colab-df-convert {\n",
              "      background-color: #3B4455;\n",
              "      fill: #D2E3FC;\n",
              "    }\n",
              "\n",
              "    [theme=dark] .colab-df-convert:hover {\n",
              "      background-color: #434B5C;\n",
              "      box-shadow: 0px 1px 3px 1px rgba(0, 0, 0, 0.15);\n",
              "      filter: drop-shadow(0px 1px 2px rgba(0, 0, 0, 0.3));\n",
              "      fill: #FFFFFF;\n",
              "    }\n",
              "  </style>\n",
              "\n",
              "    <script>\n",
              "      const buttonEl =\n",
              "        document.querySelector('#df-ab609054-4c84-44da-b07a-dda05626d125 button.colab-df-convert');\n",
              "      buttonEl.style.display =\n",
              "        google.colab.kernel.accessAllowed ? 'block' : 'none';\n",
              "\n",
              "      async function convertToInteractive(key) {\n",
              "        const element = document.querySelector('#df-ab609054-4c84-44da-b07a-dda05626d125');\n",
              "        const dataTable =\n",
              "          await google.colab.kernel.invokeFunction('convertToInteractive',\n",
              "                                                    [key], {});\n",
              "        if (!dataTable) return;\n",
              "\n",
              "        const docLinkHtml = 'Like what you see? Visit the ' +\n",
              "          '<a target=\"_blank\" href=https://colab.research.google.com/notebooks/data_table.ipynb>data table notebook</a>'\n",
              "          + ' to learn more about interactive tables.';\n",
              "        element.innerHTML = '';\n",
              "        dataTable['output_type'] = 'display_data';\n",
              "        await google.colab.output.renderOutput(dataTable, element);\n",
              "        const docLink = document.createElement('div');\n",
              "        docLink.innerHTML = docLinkHtml;\n",
              "        element.appendChild(docLink);\n",
              "      }\n",
              "    </script>\n",
              "  </div>\n",
              "\n",
              "\n",
              "<div id=\"df-ad166b3c-8a02-403b-8882-f9fbbd0bd5f6\">\n",
              "  <button class=\"colab-df-quickchart\" onclick=\"quickchart('df-ad166b3c-8a02-403b-8882-f9fbbd0bd5f6')\"\n",
              "            title=\"Suggest charts\"\n",
              "            style=\"display:none;\">\n",
              "\n",
              "<svg xmlns=\"http://www.w3.org/2000/svg\" height=\"24px\"viewBox=\"0 0 24 24\"\n",
              "     width=\"24px\">\n",
              "    <g>\n",
              "        <path d=\"M19 3H5c-1.1 0-2 .9-2 2v14c0 1.1.9 2 2 2h14c1.1 0 2-.9 2-2V5c0-1.1-.9-2-2-2zM9 17H7v-7h2v7zm4 0h-2V7h2v10zm4 0h-2v-4h2v4z\"/>\n",
              "    </g>\n",
              "</svg>\n",
              "  </button>\n",
              "\n",
              "<style>\n",
              "  .colab-df-quickchart {\n",
              "      --bg-color: #E8F0FE;\n",
              "      --fill-color: #1967D2;\n",
              "      --hover-bg-color: #E2EBFA;\n",
              "      --hover-fill-color: #174EA6;\n",
              "      --disabled-fill-color: #AAA;\n",
              "      --disabled-bg-color: #DDD;\n",
              "  }\n",
              "\n",
              "  [theme=dark] .colab-df-quickchart {\n",
              "      --bg-color: #3B4455;\n",
              "      --fill-color: #D2E3FC;\n",
              "      --hover-bg-color: #434B5C;\n",
              "      --hover-fill-color: #FFFFFF;\n",
              "      --disabled-bg-color: #3B4455;\n",
              "      --disabled-fill-color: #666;\n",
              "  }\n",
              "\n",
              "  .colab-df-quickchart {\n",
              "    background-color: var(--bg-color);\n",
              "    border: none;\n",
              "    border-radius: 50%;\n",
              "    cursor: pointer;\n",
              "    display: none;\n",
              "    fill: var(--fill-color);\n",
              "    height: 32px;\n",
              "    padding: 0;\n",
              "    width: 32px;\n",
              "  }\n",
              "\n",
              "  .colab-df-quickchart:hover {\n",
              "    background-color: var(--hover-bg-color);\n",
              "    box-shadow: 0 1px 2px rgba(60, 64, 67, 0.3), 0 1px 3px 1px rgba(60, 64, 67, 0.15);\n",
              "    fill: var(--button-hover-fill-color);\n",
              "  }\n",
              "\n",
              "  .colab-df-quickchart-complete:disabled,\n",
              "  .colab-df-quickchart-complete:disabled:hover {\n",
              "    background-color: var(--disabled-bg-color);\n",
              "    fill: var(--disabled-fill-color);\n",
              "    box-shadow: none;\n",
              "  }\n",
              "\n",
              "  .colab-df-spinner {\n",
              "    border: 2px solid var(--fill-color);\n",
              "    border-color: transparent;\n",
              "    border-bottom-color: var(--fill-color);\n",
              "    animation:\n",
              "      spin 1s steps(1) infinite;\n",
              "  }\n",
              "\n",
              "  @keyframes spin {\n",
              "    0% {\n",
              "      border-color: transparent;\n",
              "      border-bottom-color: var(--fill-color);\n",
              "      border-left-color: var(--fill-color);\n",
              "    }\n",
              "    20% {\n",
              "      border-color: transparent;\n",
              "      border-left-color: var(--fill-color);\n",
              "      border-top-color: var(--fill-color);\n",
              "    }\n",
              "    30% {\n",
              "      border-color: transparent;\n",
              "      border-left-color: var(--fill-color);\n",
              "      border-top-color: var(--fill-color);\n",
              "      border-right-color: var(--fill-color);\n",
              "    }\n",
              "    40% {\n",
              "      border-color: transparent;\n",
              "      border-right-color: var(--fill-color);\n",
              "      border-top-color: var(--fill-color);\n",
              "    }\n",
              "    60% {\n",
              "      border-color: transparent;\n",
              "      border-right-color: var(--fill-color);\n",
              "    }\n",
              "    80% {\n",
              "      border-color: transparent;\n",
              "      border-right-color: var(--fill-color);\n",
              "      border-bottom-color: var(--fill-color);\n",
              "    }\n",
              "    90% {\n",
              "      border-color: transparent;\n",
              "      border-bottom-color: var(--fill-color);\n",
              "    }\n",
              "  }\n",
              "</style>\n",
              "\n",
              "  <script>\n",
              "    async function quickchart(key) {\n",
              "      const quickchartButtonEl =\n",
              "        document.querySelector('#' + key + ' button');\n",
              "      quickchartButtonEl.disabled = true;  // To prevent multiple clicks.\n",
              "      quickchartButtonEl.classList.add('colab-df-spinner');\n",
              "      try {\n",
              "        const charts = await google.colab.kernel.invokeFunction(\n",
              "            'suggestCharts', [key], {});\n",
              "      } catch (error) {\n",
              "        console.error('Error during call to suggestCharts:', error);\n",
              "      }\n",
              "      quickchartButtonEl.classList.remove('colab-df-spinner');\n",
              "      quickchartButtonEl.classList.add('colab-df-quickchart-complete');\n",
              "    }\n",
              "    (() => {\n",
              "      let quickchartButtonEl =\n",
              "        document.querySelector('#df-ad166b3c-8a02-403b-8882-f9fbbd0bd5f6 button');\n",
              "      quickchartButtonEl.style.display =\n",
              "        google.colab.kernel.accessAllowed ? 'block' : 'none';\n",
              "    })();\n",
              "  </script>\n",
              "</div>\n",
              "\n",
              "  <div id=\"id_34990cd6-242c-4af2-96da-29263cb8df81\">\n",
              "    <style>\n",
              "      .colab-df-generate {\n",
              "        background-color: #E8F0FE;\n",
              "        border: none;\n",
              "        border-radius: 50%;\n",
              "        cursor: pointer;\n",
              "        display: none;\n",
              "        fill: #1967D2;\n",
              "        height: 32px;\n",
              "        padding: 0 0 0 0;\n",
              "        width: 32px;\n",
              "      }\n",
              "\n",
              "      .colab-df-generate:hover {\n",
              "        background-color: #E2EBFA;\n",
              "        box-shadow: 0px 1px 2px rgba(60, 64, 67, 0.3), 0px 1px 3px 1px rgba(60, 64, 67, 0.15);\n",
              "        fill: #174EA6;\n",
              "      }\n",
              "\n",
              "      [theme=dark] .colab-df-generate {\n",
              "        background-color: #3B4455;\n",
              "        fill: #D2E3FC;\n",
              "      }\n",
              "\n",
              "      [theme=dark] .colab-df-generate:hover {\n",
              "        background-color: #434B5C;\n",
              "        box-shadow: 0px 1px 3px 1px rgba(0, 0, 0, 0.15);\n",
              "        filter: drop-shadow(0px 1px 2px rgba(0, 0, 0, 0.3));\n",
              "        fill: #FFFFFF;\n",
              "      }\n",
              "    </style>\n",
              "    <button class=\"colab-df-generate\" onclick=\"generateWithVariable('df')\"\n",
              "            title=\"Generate code using this dataframe.\"\n",
              "            style=\"display:none;\">\n",
              "\n",
              "  <svg xmlns=\"http://www.w3.org/2000/svg\" height=\"24px\"viewBox=\"0 0 24 24\"\n",
              "       width=\"24px\">\n",
              "    <path d=\"M7,19H8.4L18.45,9,17,7.55,7,17.6ZM5,21V16.75L18.45,3.32a2,2,0,0,1,2.83,0l1.4,1.43a1.91,1.91,0,0,1,.58,1.4,1.91,1.91,0,0,1-.58,1.4L9.25,21ZM18.45,9,17,7.55Zm-12,3A5.31,5.31,0,0,0,4.9,8.1,5.31,5.31,0,0,0,1,6.5,5.31,5.31,0,0,0,4.9,4.9,5.31,5.31,0,0,0,6.5,1,5.31,5.31,0,0,0,8.1,4.9,5.31,5.31,0,0,0,12,6.5,5.46,5.46,0,0,0,6.5,12Z\"/>\n",
              "  </svg>\n",
              "    </button>\n",
              "    <script>\n",
              "      (() => {\n",
              "      const buttonEl =\n",
              "        document.querySelector('#id_34990cd6-242c-4af2-96da-29263cb8df81 button.colab-df-generate');\n",
              "      buttonEl.style.display =\n",
              "        google.colab.kernel.accessAllowed ? 'block' : 'none';\n",
              "\n",
              "      buttonEl.onclick = () => {\n",
              "        google.colab.notebook.generateWithVariable('df');\n",
              "      }\n",
              "      })();\n",
              "    </script>\n",
              "  </div>\n",
              "\n",
              "    </div>\n",
              "  </div>\n"
            ],
            "application/vnd.google.colaboratory.intrinsic+json": {
              "type": "dataframe",
              "variable_name": "df",
              "summary": "{\n  \"name\": \"df\",\n  \"rows\": 1000,\n  \"fields\": [\n    {\n      \"column\": \"defect_id\",\n      \"properties\": {\n        \"dtype\": \"number\",\n        \"std\": 288,\n        \"min\": 1,\n        \"max\": 1000,\n        \"num_unique_values\": 1000,\n        \"samples\": [\n          522,\n          738,\n          741\n        ],\n        \"semantic_type\": \"\",\n        \"description\": \"\"\n      }\n    },\n    {\n      \"column\": \"product_id\",\n      \"properties\": {\n        \"dtype\": \"number\",\n        \"std\": 29,\n        \"min\": 1,\n        \"max\": 100,\n        \"num_unique_values\": 100,\n        \"samples\": [\n          38,\n          69,\n          41\n        ],\n        \"semantic_type\": \"\",\n        \"description\": \"\"\n      }\n    },\n    {\n      \"column\": \"defect_type\",\n      \"properties\": {\n        \"dtype\": \"category\",\n        \"num_unique_values\": 3,\n        \"samples\": [\n          \"Structural\",\n          \"Functional\",\n          \"Cosmetic\"\n        ],\n        \"semantic_type\": \"\",\n        \"description\": \"\"\n      }\n    },\n    {\n      \"column\": \"defect_date\",\n      \"properties\": {\n        \"dtype\": \"object\",\n        \"num_unique_values\": 182,\n        \"samples\": [\n          \"5/6/2024\",\n          \"2/24/2024\",\n          \"3/13/2024\"\n        ],\n        \"semantic_type\": \"\",\n        \"description\": \"\"\n      }\n    },\n    {\n      \"column\": \"defect_location\",\n      \"properties\": {\n        \"dtype\": \"category\",\n        \"num_unique_values\": 3,\n        \"samples\": [\n          \"Component\",\n          \"Internal\",\n          \"Surface\"\n        ],\n        \"semantic_type\": \"\",\n        \"description\": \"\"\n      }\n    },\n    {\n      \"column\": \"severity\",\n      \"properties\": {\n        \"dtype\": \"category\",\n        \"num_unique_values\": 3,\n        \"samples\": [\n          \"Minor\",\n          \"Critical\",\n          \"Moderate\"\n        ],\n        \"semantic_type\": \"\",\n        \"description\": \"\"\n      }\n    },\n    {\n      \"column\": \"inspection_method\",\n      \"properties\": {\n        \"dtype\": \"category\",\n        \"num_unique_values\": 3,\n        \"samples\": [\n          \"Visual Inspection\",\n          \"Automated Testing\",\n          \"Manual Testing\"\n        ],\n        \"semantic_type\": \"\",\n        \"description\": \"\"\n      }\n    },\n    {\n      \"column\": \"repair_cost\",\n      \"properties\": {\n        \"dtype\": \"number\",\n        \"std\": 289.6236145535867,\n        \"min\": 10.22,\n        \"max\": 999.64,\n        \"num_unique_values\": 996,\n        \"samples\": [\n          114.02,\n          626.35,\n          582.46\n        ],\n        \"semantic_type\": \"\",\n        \"description\": \"\"\n      }\n    }\n  ]\n}"
            }
          },
          "metadata": {},
          "execution_count": 1
        }
      ],
      "source": [
        "import pandas as pd\n",
        "df=pd.read_csv(\"/content/defects_data.csv\")\n",
        "df"
      ]
    },
    {
      "cell_type": "code",
      "execution_count": null,
      "metadata": {
        "colab": {
          "base_uri": "https://localhost:8080/",
          "height": 206
        },
        "id": "gc2V7TM88zK-",
        "outputId": "b849795e-2aff-4a32-dc94-374f9f621cca"
      },
      "outputs": [
        {
          "output_type": "execute_result",
          "data": {
            "text/plain": [
              "   defect_id  product_id defect_type defect_date defect_location  severity  \\\n",
              "0          1          15  Structural    6/6/2024       Component     Minor   \n",
              "1          2           6  Functional   4/26/2024       Component     Minor   \n",
              "2          3          84  Structural   2/15/2024        Internal     Minor   \n",
              "3          4          10  Functional   3/28/2024        Internal  Critical   \n",
              "4          5          14    Cosmetic   4/26/2024       Component     Minor   \n",
              "\n",
              "   inspection_method  repair_cost  \n",
              "0  Visual Inspection       245.47  \n",
              "1  Visual Inspection        26.87  \n",
              "2  Automated Testing       835.81  \n",
              "3  Automated Testing       444.47  \n",
              "4     Manual Testing       823.64  "
            ],
            "text/html": [
              "\n",
              "  <div id=\"df-0028a0e2-1cc2-499c-a287-9b6cf49e9d12\" class=\"colab-df-container\">\n",
              "    <div>\n",
              "<style scoped>\n",
              "    .dataframe tbody tr th:only-of-type {\n",
              "        vertical-align: middle;\n",
              "    }\n",
              "\n",
              "    .dataframe tbody tr th {\n",
              "        vertical-align: top;\n",
              "    }\n",
              "\n",
              "    .dataframe thead th {\n",
              "        text-align: right;\n",
              "    }\n",
              "</style>\n",
              "<table border=\"1\" class=\"dataframe\">\n",
              "  <thead>\n",
              "    <tr style=\"text-align: right;\">\n",
              "      <th></th>\n",
              "      <th>defect_id</th>\n",
              "      <th>product_id</th>\n",
              "      <th>defect_type</th>\n",
              "      <th>defect_date</th>\n",
              "      <th>defect_location</th>\n",
              "      <th>severity</th>\n",
              "      <th>inspection_method</th>\n",
              "      <th>repair_cost</th>\n",
              "    </tr>\n",
              "  </thead>\n",
              "  <tbody>\n",
              "    <tr>\n",
              "      <th>0</th>\n",
              "      <td>1</td>\n",
              "      <td>15</td>\n",
              "      <td>Structural</td>\n",
              "      <td>6/6/2024</td>\n",
              "      <td>Component</td>\n",
              "      <td>Minor</td>\n",
              "      <td>Visual Inspection</td>\n",
              "      <td>245.47</td>\n",
              "    </tr>\n",
              "    <tr>\n",
              "      <th>1</th>\n",
              "      <td>2</td>\n",
              "      <td>6</td>\n",
              "      <td>Functional</td>\n",
              "      <td>4/26/2024</td>\n",
              "      <td>Component</td>\n",
              "      <td>Minor</td>\n",
              "      <td>Visual Inspection</td>\n",
              "      <td>26.87</td>\n",
              "    </tr>\n",
              "    <tr>\n",
              "      <th>2</th>\n",
              "      <td>3</td>\n",
              "      <td>84</td>\n",
              "      <td>Structural</td>\n",
              "      <td>2/15/2024</td>\n",
              "      <td>Internal</td>\n",
              "      <td>Minor</td>\n",
              "      <td>Automated Testing</td>\n",
              "      <td>835.81</td>\n",
              "    </tr>\n",
              "    <tr>\n",
              "      <th>3</th>\n",
              "      <td>4</td>\n",
              "      <td>10</td>\n",
              "      <td>Functional</td>\n",
              "      <td>3/28/2024</td>\n",
              "      <td>Internal</td>\n",
              "      <td>Critical</td>\n",
              "      <td>Automated Testing</td>\n",
              "      <td>444.47</td>\n",
              "    </tr>\n",
              "    <tr>\n",
              "      <th>4</th>\n",
              "      <td>5</td>\n",
              "      <td>14</td>\n",
              "      <td>Cosmetic</td>\n",
              "      <td>4/26/2024</td>\n",
              "      <td>Component</td>\n",
              "      <td>Minor</td>\n",
              "      <td>Manual Testing</td>\n",
              "      <td>823.64</td>\n",
              "    </tr>\n",
              "  </tbody>\n",
              "</table>\n",
              "</div>\n",
              "    <div class=\"colab-df-buttons\">\n",
              "\n",
              "  <div class=\"colab-df-container\">\n",
              "    <button class=\"colab-df-convert\" onclick=\"convertToInteractive('df-0028a0e2-1cc2-499c-a287-9b6cf49e9d12')\"\n",
              "            title=\"Convert this dataframe to an interactive table.\"\n",
              "            style=\"display:none;\">\n",
              "\n",
              "  <svg xmlns=\"http://www.w3.org/2000/svg\" height=\"24px\" viewBox=\"0 -960 960 960\">\n",
              "    <path d=\"M120-120v-720h720v720H120Zm60-500h600v-160H180v160Zm220 220h160v-160H400v160Zm0 220h160v-160H400v160ZM180-400h160v-160H180v160Zm440 0h160v-160H620v160ZM180-180h160v-160H180v160Zm440 0h160v-160H620v160Z\"/>\n",
              "  </svg>\n",
              "    </button>\n",
              "\n",
              "  <style>\n",
              "    .colab-df-container {\n",
              "      display:flex;\n",
              "      gap: 12px;\n",
              "    }\n",
              "\n",
              "    .colab-df-convert {\n",
              "      background-color: #E8F0FE;\n",
              "      border: none;\n",
              "      border-radius: 50%;\n",
              "      cursor: pointer;\n",
              "      display: none;\n",
              "      fill: #1967D2;\n",
              "      height: 32px;\n",
              "      padding: 0 0 0 0;\n",
              "      width: 32px;\n",
              "    }\n",
              "\n",
              "    .colab-df-convert:hover {\n",
              "      background-color: #E2EBFA;\n",
              "      box-shadow: 0px 1px 2px rgba(60, 64, 67, 0.3), 0px 1px 3px 1px rgba(60, 64, 67, 0.15);\n",
              "      fill: #174EA6;\n",
              "    }\n",
              "\n",
              "    .colab-df-buttons div {\n",
              "      margin-bottom: 4px;\n",
              "    }\n",
              "\n",
              "    [theme=dark] .colab-df-convert {\n",
              "      background-color: #3B4455;\n",
              "      fill: #D2E3FC;\n",
              "    }\n",
              "\n",
              "    [theme=dark] .colab-df-convert:hover {\n",
              "      background-color: #434B5C;\n",
              "      box-shadow: 0px 1px 3px 1px rgba(0, 0, 0, 0.15);\n",
              "      filter: drop-shadow(0px 1px 2px rgba(0, 0, 0, 0.3));\n",
              "      fill: #FFFFFF;\n",
              "    }\n",
              "  </style>\n",
              "\n",
              "    <script>\n",
              "      const buttonEl =\n",
              "        document.querySelector('#df-0028a0e2-1cc2-499c-a287-9b6cf49e9d12 button.colab-df-convert');\n",
              "      buttonEl.style.display =\n",
              "        google.colab.kernel.accessAllowed ? 'block' : 'none';\n",
              "\n",
              "      async function convertToInteractive(key) {\n",
              "        const element = document.querySelector('#df-0028a0e2-1cc2-499c-a287-9b6cf49e9d12');\n",
              "        const dataTable =\n",
              "          await google.colab.kernel.invokeFunction('convertToInteractive',\n",
              "                                                    [key], {});\n",
              "        if (!dataTable) return;\n",
              "\n",
              "        const docLinkHtml = 'Like what you see? Visit the ' +\n",
              "          '<a target=\"_blank\" href=https://colab.research.google.com/notebooks/data_table.ipynb>data table notebook</a>'\n",
              "          + ' to learn more about interactive tables.';\n",
              "        element.innerHTML = '';\n",
              "        dataTable['output_type'] = 'display_data';\n",
              "        await google.colab.output.renderOutput(dataTable, element);\n",
              "        const docLink = document.createElement('div');\n",
              "        docLink.innerHTML = docLinkHtml;\n",
              "        element.appendChild(docLink);\n",
              "      }\n",
              "    </script>\n",
              "  </div>\n",
              "\n",
              "\n",
              "<div id=\"df-85504d87-5939-4460-963a-177146d06b22\">\n",
              "  <button class=\"colab-df-quickchart\" onclick=\"quickchart('df-85504d87-5939-4460-963a-177146d06b22')\"\n",
              "            title=\"Suggest charts\"\n",
              "            style=\"display:none;\">\n",
              "\n",
              "<svg xmlns=\"http://www.w3.org/2000/svg\" height=\"24px\"viewBox=\"0 0 24 24\"\n",
              "     width=\"24px\">\n",
              "    <g>\n",
              "        <path d=\"M19 3H5c-1.1 0-2 .9-2 2v14c0 1.1.9 2 2 2h14c1.1 0 2-.9 2-2V5c0-1.1-.9-2-2-2zM9 17H7v-7h2v7zm4 0h-2V7h2v10zm4 0h-2v-4h2v4z\"/>\n",
              "    </g>\n",
              "</svg>\n",
              "  </button>\n",
              "\n",
              "<style>\n",
              "  .colab-df-quickchart {\n",
              "      --bg-color: #E8F0FE;\n",
              "      --fill-color: #1967D2;\n",
              "      --hover-bg-color: #E2EBFA;\n",
              "      --hover-fill-color: #174EA6;\n",
              "      --disabled-fill-color: #AAA;\n",
              "      --disabled-bg-color: #DDD;\n",
              "  }\n",
              "\n",
              "  [theme=dark] .colab-df-quickchart {\n",
              "      --bg-color: #3B4455;\n",
              "      --fill-color: #D2E3FC;\n",
              "      --hover-bg-color: #434B5C;\n",
              "      --hover-fill-color: #FFFFFF;\n",
              "      --disabled-bg-color: #3B4455;\n",
              "      --disabled-fill-color: #666;\n",
              "  }\n",
              "\n",
              "  .colab-df-quickchart {\n",
              "    background-color: var(--bg-color);\n",
              "    border: none;\n",
              "    border-radius: 50%;\n",
              "    cursor: pointer;\n",
              "    display: none;\n",
              "    fill: var(--fill-color);\n",
              "    height: 32px;\n",
              "    padding: 0;\n",
              "    width: 32px;\n",
              "  }\n",
              "\n",
              "  .colab-df-quickchart:hover {\n",
              "    background-color: var(--hover-bg-color);\n",
              "    box-shadow: 0 1px 2px rgba(60, 64, 67, 0.3), 0 1px 3px 1px rgba(60, 64, 67, 0.15);\n",
              "    fill: var(--button-hover-fill-color);\n",
              "  }\n",
              "\n",
              "  .colab-df-quickchart-complete:disabled,\n",
              "  .colab-df-quickchart-complete:disabled:hover {\n",
              "    background-color: var(--disabled-bg-color);\n",
              "    fill: var(--disabled-fill-color);\n",
              "    box-shadow: none;\n",
              "  }\n",
              "\n",
              "  .colab-df-spinner {\n",
              "    border: 2px solid var(--fill-color);\n",
              "    border-color: transparent;\n",
              "    border-bottom-color: var(--fill-color);\n",
              "    animation:\n",
              "      spin 1s steps(1) infinite;\n",
              "  }\n",
              "\n",
              "  @keyframes spin {\n",
              "    0% {\n",
              "      border-color: transparent;\n",
              "      border-bottom-color: var(--fill-color);\n",
              "      border-left-color: var(--fill-color);\n",
              "    }\n",
              "    20% {\n",
              "      border-color: transparent;\n",
              "      border-left-color: var(--fill-color);\n",
              "      border-top-color: var(--fill-color);\n",
              "    }\n",
              "    30% {\n",
              "      border-color: transparent;\n",
              "      border-left-color: var(--fill-color);\n",
              "      border-top-color: var(--fill-color);\n",
              "      border-right-color: var(--fill-color);\n",
              "    }\n",
              "    40% {\n",
              "      border-color: transparent;\n",
              "      border-right-color: var(--fill-color);\n",
              "      border-top-color: var(--fill-color);\n",
              "    }\n",
              "    60% {\n",
              "      border-color: transparent;\n",
              "      border-right-color: var(--fill-color);\n",
              "    }\n",
              "    80% {\n",
              "      border-color: transparent;\n",
              "      border-right-color: var(--fill-color);\n",
              "      border-bottom-color: var(--fill-color);\n",
              "    }\n",
              "    90% {\n",
              "      border-color: transparent;\n",
              "      border-bottom-color: var(--fill-color);\n",
              "    }\n",
              "  }\n",
              "</style>\n",
              "\n",
              "  <script>\n",
              "    async function quickchart(key) {\n",
              "      const quickchartButtonEl =\n",
              "        document.querySelector('#' + key + ' button');\n",
              "      quickchartButtonEl.disabled = true;  // To prevent multiple clicks.\n",
              "      quickchartButtonEl.classList.add('colab-df-spinner');\n",
              "      try {\n",
              "        const charts = await google.colab.kernel.invokeFunction(\n",
              "            'suggestCharts', [key], {});\n",
              "      } catch (error) {\n",
              "        console.error('Error during call to suggestCharts:', error);\n",
              "      }\n",
              "      quickchartButtonEl.classList.remove('colab-df-spinner');\n",
              "      quickchartButtonEl.classList.add('colab-df-quickchart-complete');\n",
              "    }\n",
              "    (() => {\n",
              "      let quickchartButtonEl =\n",
              "        document.querySelector('#df-85504d87-5939-4460-963a-177146d06b22 button');\n",
              "      quickchartButtonEl.style.display =\n",
              "        google.colab.kernel.accessAllowed ? 'block' : 'none';\n",
              "    })();\n",
              "  </script>\n",
              "</div>\n",
              "\n",
              "    </div>\n",
              "  </div>\n"
            ],
            "application/vnd.google.colaboratory.intrinsic+json": {
              "type": "dataframe",
              "variable_name": "df",
              "summary": "{\n  \"name\": \"df\",\n  \"rows\": 1000,\n  \"fields\": [\n    {\n      \"column\": \"defect_id\",\n      \"properties\": {\n        \"dtype\": \"number\",\n        \"std\": 288,\n        \"min\": 1,\n        \"max\": 1000,\n        \"num_unique_values\": 1000,\n        \"samples\": [\n          522,\n          738,\n          741\n        ],\n        \"semantic_type\": \"\",\n        \"description\": \"\"\n      }\n    },\n    {\n      \"column\": \"product_id\",\n      \"properties\": {\n        \"dtype\": \"number\",\n        \"std\": 29,\n        \"min\": 1,\n        \"max\": 100,\n        \"num_unique_values\": 100,\n        \"samples\": [\n          38,\n          69,\n          41\n        ],\n        \"semantic_type\": \"\",\n        \"description\": \"\"\n      }\n    },\n    {\n      \"column\": \"defect_type\",\n      \"properties\": {\n        \"dtype\": \"category\",\n        \"num_unique_values\": 3,\n        \"samples\": [\n          \"Structural\",\n          \"Functional\",\n          \"Cosmetic\"\n        ],\n        \"semantic_type\": \"\",\n        \"description\": \"\"\n      }\n    },\n    {\n      \"column\": \"defect_date\",\n      \"properties\": {\n        \"dtype\": \"object\",\n        \"num_unique_values\": 182,\n        \"samples\": [\n          \"5/6/2024\",\n          \"2/24/2024\",\n          \"3/13/2024\"\n        ],\n        \"semantic_type\": \"\",\n        \"description\": \"\"\n      }\n    },\n    {\n      \"column\": \"defect_location\",\n      \"properties\": {\n        \"dtype\": \"category\",\n        \"num_unique_values\": 3,\n        \"samples\": [\n          \"Component\",\n          \"Internal\",\n          \"Surface\"\n        ],\n        \"semantic_type\": \"\",\n        \"description\": \"\"\n      }\n    },\n    {\n      \"column\": \"severity\",\n      \"properties\": {\n        \"dtype\": \"category\",\n        \"num_unique_values\": 3,\n        \"samples\": [\n          \"Minor\",\n          \"Critical\",\n          \"Moderate\"\n        ],\n        \"semantic_type\": \"\",\n        \"description\": \"\"\n      }\n    },\n    {\n      \"column\": \"inspection_method\",\n      \"properties\": {\n        \"dtype\": \"category\",\n        \"num_unique_values\": 3,\n        \"samples\": [\n          \"Visual Inspection\",\n          \"Automated Testing\",\n          \"Manual Testing\"\n        ],\n        \"semantic_type\": \"\",\n        \"description\": \"\"\n      }\n    },\n    {\n      \"column\": \"repair_cost\",\n      \"properties\": {\n        \"dtype\": \"number\",\n        \"std\": 289.6236145535867,\n        \"min\": 10.22,\n        \"max\": 999.64,\n        \"num_unique_values\": 996,\n        \"samples\": [\n          114.02,\n          626.35,\n          582.46\n        ],\n        \"semantic_type\": \"\",\n        \"description\": \"\"\n      }\n    }\n  ]\n}"
            }
          },
          "metadata": {},
          "execution_count": 2
        }
      ],
      "source": [
        "df.head()"
      ]
    },
    {
      "cell_type": "code",
      "source": [
        "df.shape"
      ],
      "metadata": {
        "colab": {
          "base_uri": "https://localhost:8080/"
        },
        "id": "eUePYrOLXGJc",
        "outputId": "c27d1757-477d-4831-bf1c-513e0fe84b1d"
      },
      "execution_count": null,
      "outputs": [
        {
          "output_type": "execute_result",
          "data": {
            "text/plain": [
              "(1000, 8)"
            ]
          },
          "metadata": {},
          "execution_count": 3
        }
      ]
    },
    {
      "cell_type": "code",
      "execution_count": null,
      "metadata": {
        "colab": {
          "base_uri": "https://localhost:8080/"
        },
        "id": "2_nGYi7J802P",
        "outputId": "ed67c2f9-4be3-4ec0-9f07-4f1a4e4e7774"
      },
      "outputs": [
        {
          "output_type": "stream",
          "name": "stdout",
          "text": [
            "<class 'pandas.core.frame.DataFrame'>\n",
            "RangeIndex: 1000 entries, 0 to 999\n",
            "Data columns (total 8 columns):\n",
            " #   Column             Non-Null Count  Dtype  \n",
            "---  ------             --------------  -----  \n",
            " 0   defect_id          1000 non-null   int64  \n",
            " 1   product_id         1000 non-null   int64  \n",
            " 2   defect_type        1000 non-null   object \n",
            " 3   defect_date        1000 non-null   object \n",
            " 4   defect_location    1000 non-null   object \n",
            " 5   severity           1000 non-null   object \n",
            " 6   inspection_method  1000 non-null   object \n",
            " 7   repair_cost        1000 non-null   float64\n",
            "dtypes: float64(1), int64(2), object(5)\n",
            "memory usage: 62.6+ KB\n"
          ]
        }
      ],
      "source": [
        "df.info()"
      ]
    },
    {
      "cell_type": "code",
      "execution_count": null,
      "metadata": {
        "colab": {
          "base_uri": "https://localhost:8080/",
          "height": 300
        },
        "id": "IYsvBmM2-5LV",
        "outputId": "dbaf99a5-e58e-4a34-d09f-e95df81c72a4"
      },
      "outputs": [
        {
          "output_type": "execute_result",
          "data": {
            "text/plain": [
              "         defect_id   product_id  repair_cost\n",
              "count  1000.000000  1000.000000  1000.000000\n",
              "mean    500.500000    50.837000   507.627150\n",
              "std     288.819436    29.480935   289.623615\n",
              "min       1.000000     1.000000    10.220000\n",
              "25%     250.750000    26.000000   270.902500\n",
              "50%     500.500000    51.000000   506.430000\n",
              "75%     750.250000    77.000000   759.065000\n",
              "max    1000.000000   100.000000   999.640000"
            ],
            "text/html": [
              "\n",
              "  <div id=\"df-5df08ee8-62a1-498b-8a04-6bb8f2cf6e29\" class=\"colab-df-container\">\n",
              "    <div>\n",
              "<style scoped>\n",
              "    .dataframe tbody tr th:only-of-type {\n",
              "        vertical-align: middle;\n",
              "    }\n",
              "\n",
              "    .dataframe tbody tr th {\n",
              "        vertical-align: top;\n",
              "    }\n",
              "\n",
              "    .dataframe thead th {\n",
              "        text-align: right;\n",
              "    }\n",
              "</style>\n",
              "<table border=\"1\" class=\"dataframe\">\n",
              "  <thead>\n",
              "    <tr style=\"text-align: right;\">\n",
              "      <th></th>\n",
              "      <th>defect_id</th>\n",
              "      <th>product_id</th>\n",
              "      <th>repair_cost</th>\n",
              "    </tr>\n",
              "  </thead>\n",
              "  <tbody>\n",
              "    <tr>\n",
              "      <th>count</th>\n",
              "      <td>1000.000000</td>\n",
              "      <td>1000.000000</td>\n",
              "      <td>1000.000000</td>\n",
              "    </tr>\n",
              "    <tr>\n",
              "      <th>mean</th>\n",
              "      <td>500.500000</td>\n",
              "      <td>50.837000</td>\n",
              "      <td>507.627150</td>\n",
              "    </tr>\n",
              "    <tr>\n",
              "      <th>std</th>\n",
              "      <td>288.819436</td>\n",
              "      <td>29.480935</td>\n",
              "      <td>289.623615</td>\n",
              "    </tr>\n",
              "    <tr>\n",
              "      <th>min</th>\n",
              "      <td>1.000000</td>\n",
              "      <td>1.000000</td>\n",
              "      <td>10.220000</td>\n",
              "    </tr>\n",
              "    <tr>\n",
              "      <th>25%</th>\n",
              "      <td>250.750000</td>\n",
              "      <td>26.000000</td>\n",
              "      <td>270.902500</td>\n",
              "    </tr>\n",
              "    <tr>\n",
              "      <th>50%</th>\n",
              "      <td>500.500000</td>\n",
              "      <td>51.000000</td>\n",
              "      <td>506.430000</td>\n",
              "    </tr>\n",
              "    <tr>\n",
              "      <th>75%</th>\n",
              "      <td>750.250000</td>\n",
              "      <td>77.000000</td>\n",
              "      <td>759.065000</td>\n",
              "    </tr>\n",
              "    <tr>\n",
              "      <th>max</th>\n",
              "      <td>1000.000000</td>\n",
              "      <td>100.000000</td>\n",
              "      <td>999.640000</td>\n",
              "    </tr>\n",
              "  </tbody>\n",
              "</table>\n",
              "</div>\n",
              "    <div class=\"colab-df-buttons\">\n",
              "\n",
              "  <div class=\"colab-df-container\">\n",
              "    <button class=\"colab-df-convert\" onclick=\"convertToInteractive('df-5df08ee8-62a1-498b-8a04-6bb8f2cf6e29')\"\n",
              "            title=\"Convert this dataframe to an interactive table.\"\n",
              "            style=\"display:none;\">\n",
              "\n",
              "  <svg xmlns=\"http://www.w3.org/2000/svg\" height=\"24px\" viewBox=\"0 -960 960 960\">\n",
              "    <path d=\"M120-120v-720h720v720H120Zm60-500h600v-160H180v160Zm220 220h160v-160H400v160Zm0 220h160v-160H400v160ZM180-400h160v-160H180v160Zm440 0h160v-160H620v160ZM180-180h160v-160H180v160Zm440 0h160v-160H620v160Z\"/>\n",
              "  </svg>\n",
              "    </button>\n",
              "\n",
              "  <style>\n",
              "    .colab-df-container {\n",
              "      display:flex;\n",
              "      gap: 12px;\n",
              "    }\n",
              "\n",
              "    .colab-df-convert {\n",
              "      background-color: #E8F0FE;\n",
              "      border: none;\n",
              "      border-radius: 50%;\n",
              "      cursor: pointer;\n",
              "      display: none;\n",
              "      fill: #1967D2;\n",
              "      height: 32px;\n",
              "      padding: 0 0 0 0;\n",
              "      width: 32px;\n",
              "    }\n",
              "\n",
              "    .colab-df-convert:hover {\n",
              "      background-color: #E2EBFA;\n",
              "      box-shadow: 0px 1px 2px rgba(60, 64, 67, 0.3), 0px 1px 3px 1px rgba(60, 64, 67, 0.15);\n",
              "      fill: #174EA6;\n",
              "    }\n",
              "\n",
              "    .colab-df-buttons div {\n",
              "      margin-bottom: 4px;\n",
              "    }\n",
              "\n",
              "    [theme=dark] .colab-df-convert {\n",
              "      background-color: #3B4455;\n",
              "      fill: #D2E3FC;\n",
              "    }\n",
              "\n",
              "    [theme=dark] .colab-df-convert:hover {\n",
              "      background-color: #434B5C;\n",
              "      box-shadow: 0px 1px 3px 1px rgba(0, 0, 0, 0.15);\n",
              "      filter: drop-shadow(0px 1px 2px rgba(0, 0, 0, 0.3));\n",
              "      fill: #FFFFFF;\n",
              "    }\n",
              "  </style>\n",
              "\n",
              "    <script>\n",
              "      const buttonEl =\n",
              "        document.querySelector('#df-5df08ee8-62a1-498b-8a04-6bb8f2cf6e29 button.colab-df-convert');\n",
              "      buttonEl.style.display =\n",
              "        google.colab.kernel.accessAllowed ? 'block' : 'none';\n",
              "\n",
              "      async function convertToInteractive(key) {\n",
              "        const element = document.querySelector('#df-5df08ee8-62a1-498b-8a04-6bb8f2cf6e29');\n",
              "        const dataTable =\n",
              "          await google.colab.kernel.invokeFunction('convertToInteractive',\n",
              "                                                    [key], {});\n",
              "        if (!dataTable) return;\n",
              "\n",
              "        const docLinkHtml = 'Like what you see? Visit the ' +\n",
              "          '<a target=\"_blank\" href=https://colab.research.google.com/notebooks/data_table.ipynb>data table notebook</a>'\n",
              "          + ' to learn more about interactive tables.';\n",
              "        element.innerHTML = '';\n",
              "        dataTable['output_type'] = 'display_data';\n",
              "        await google.colab.output.renderOutput(dataTable, element);\n",
              "        const docLink = document.createElement('div');\n",
              "        docLink.innerHTML = docLinkHtml;\n",
              "        element.appendChild(docLink);\n",
              "      }\n",
              "    </script>\n",
              "  </div>\n",
              "\n",
              "\n",
              "<div id=\"df-e3acfb5b-c401-4638-9ef5-9cad271abe16\">\n",
              "  <button class=\"colab-df-quickchart\" onclick=\"quickchart('df-e3acfb5b-c401-4638-9ef5-9cad271abe16')\"\n",
              "            title=\"Suggest charts\"\n",
              "            style=\"display:none;\">\n",
              "\n",
              "<svg xmlns=\"http://www.w3.org/2000/svg\" height=\"24px\"viewBox=\"0 0 24 24\"\n",
              "     width=\"24px\">\n",
              "    <g>\n",
              "        <path d=\"M19 3H5c-1.1 0-2 .9-2 2v14c0 1.1.9 2 2 2h14c1.1 0 2-.9 2-2V5c0-1.1-.9-2-2-2zM9 17H7v-7h2v7zm4 0h-2V7h2v10zm4 0h-2v-4h2v4z\"/>\n",
              "    </g>\n",
              "</svg>\n",
              "  </button>\n",
              "\n",
              "<style>\n",
              "  .colab-df-quickchart {\n",
              "      --bg-color: #E8F0FE;\n",
              "      --fill-color: #1967D2;\n",
              "      --hover-bg-color: #E2EBFA;\n",
              "      --hover-fill-color: #174EA6;\n",
              "      --disabled-fill-color: #AAA;\n",
              "      --disabled-bg-color: #DDD;\n",
              "  }\n",
              "\n",
              "  [theme=dark] .colab-df-quickchart {\n",
              "      --bg-color: #3B4455;\n",
              "      --fill-color: #D2E3FC;\n",
              "      --hover-bg-color: #434B5C;\n",
              "      --hover-fill-color: #FFFFFF;\n",
              "      --disabled-bg-color: #3B4455;\n",
              "      --disabled-fill-color: #666;\n",
              "  }\n",
              "\n",
              "  .colab-df-quickchart {\n",
              "    background-color: var(--bg-color);\n",
              "    border: none;\n",
              "    border-radius: 50%;\n",
              "    cursor: pointer;\n",
              "    display: none;\n",
              "    fill: var(--fill-color);\n",
              "    height: 32px;\n",
              "    padding: 0;\n",
              "    width: 32px;\n",
              "  }\n",
              "\n",
              "  .colab-df-quickchart:hover {\n",
              "    background-color: var(--hover-bg-color);\n",
              "    box-shadow: 0 1px 2px rgba(60, 64, 67, 0.3), 0 1px 3px 1px rgba(60, 64, 67, 0.15);\n",
              "    fill: var(--button-hover-fill-color);\n",
              "  }\n",
              "\n",
              "  .colab-df-quickchart-complete:disabled,\n",
              "  .colab-df-quickchart-complete:disabled:hover {\n",
              "    background-color: var(--disabled-bg-color);\n",
              "    fill: var(--disabled-fill-color);\n",
              "    box-shadow: none;\n",
              "  }\n",
              "\n",
              "  .colab-df-spinner {\n",
              "    border: 2px solid var(--fill-color);\n",
              "    border-color: transparent;\n",
              "    border-bottom-color: var(--fill-color);\n",
              "    animation:\n",
              "      spin 1s steps(1) infinite;\n",
              "  }\n",
              "\n",
              "  @keyframes spin {\n",
              "    0% {\n",
              "      border-color: transparent;\n",
              "      border-bottom-color: var(--fill-color);\n",
              "      border-left-color: var(--fill-color);\n",
              "    }\n",
              "    20% {\n",
              "      border-color: transparent;\n",
              "      border-left-color: var(--fill-color);\n",
              "      border-top-color: var(--fill-color);\n",
              "    }\n",
              "    30% {\n",
              "      border-color: transparent;\n",
              "      border-left-color: var(--fill-color);\n",
              "      border-top-color: var(--fill-color);\n",
              "      border-right-color: var(--fill-color);\n",
              "    }\n",
              "    40% {\n",
              "      border-color: transparent;\n",
              "      border-right-color: var(--fill-color);\n",
              "      border-top-color: var(--fill-color);\n",
              "    }\n",
              "    60% {\n",
              "      border-color: transparent;\n",
              "      border-right-color: var(--fill-color);\n",
              "    }\n",
              "    80% {\n",
              "      border-color: transparent;\n",
              "      border-right-color: var(--fill-color);\n",
              "      border-bottom-color: var(--fill-color);\n",
              "    }\n",
              "    90% {\n",
              "      border-color: transparent;\n",
              "      border-bottom-color: var(--fill-color);\n",
              "    }\n",
              "  }\n",
              "</style>\n",
              "\n",
              "  <script>\n",
              "    async function quickchart(key) {\n",
              "      const quickchartButtonEl =\n",
              "        document.querySelector('#' + key + ' button');\n",
              "      quickchartButtonEl.disabled = true;  // To prevent multiple clicks.\n",
              "      quickchartButtonEl.classList.add('colab-df-spinner');\n",
              "      try {\n",
              "        const charts = await google.colab.kernel.invokeFunction(\n",
              "            'suggestCharts', [key], {});\n",
              "      } catch (error) {\n",
              "        console.error('Error during call to suggestCharts:', error);\n",
              "      }\n",
              "      quickchartButtonEl.classList.remove('colab-df-spinner');\n",
              "      quickchartButtonEl.classList.add('colab-df-quickchart-complete');\n",
              "    }\n",
              "    (() => {\n",
              "      let quickchartButtonEl =\n",
              "        document.querySelector('#df-e3acfb5b-c401-4638-9ef5-9cad271abe16 button');\n",
              "      quickchartButtonEl.style.display =\n",
              "        google.colab.kernel.accessAllowed ? 'block' : 'none';\n",
              "    })();\n",
              "  </script>\n",
              "</div>\n",
              "\n",
              "    </div>\n",
              "  </div>\n"
            ],
            "application/vnd.google.colaboratory.intrinsic+json": {
              "type": "dataframe",
              "summary": "{\n  \"name\": \"df\",\n  \"rows\": 8,\n  \"fields\": [\n    {\n      \"column\": \"defect_id\",\n      \"properties\": {\n        \"dtype\": \"number\",\n        \"std\": 360.1000917722167,\n        \"min\": 1.0,\n        \"max\": 1000.0,\n        \"num_unique_values\": 6,\n        \"samples\": [\n          1000.0,\n          500.5,\n          750.25\n        ],\n        \"semantic_type\": \"\",\n        \"description\": \"\"\n      }\n    },\n    {\n      \"column\": \"product_id\",\n      \"properties\": {\n        \"dtype\": \"number\",\n        \"std\": 338.01442858573307,\n        \"min\": 1.0,\n        \"max\": 1000.0,\n        \"num_unique_values\": 8,\n        \"samples\": [\n          50.837,\n          51.0,\n          1000.0\n        ],\n        \"semantic_type\": \"\",\n        \"description\": \"\"\n      }\n    },\n    {\n      \"column\": \"repair_cost\",\n      \"properties\": {\n        \"dtype\": \"number\",\n        \"std\": 356.3170573730234,\n        \"min\": 10.22,\n        \"max\": 1000.0,\n        \"num_unique_values\": 8,\n        \"samples\": [\n          507.62715000000003,\n          506.43,\n          1000.0\n        ],\n        \"semantic_type\": \"\",\n        \"description\": \"\"\n      }\n    }\n  ]\n}"
            }
          },
          "metadata": {},
          "execution_count": 5
        }
      ],
      "source": [
        "df.describe()"
      ]
    },
    {
      "cell_type": "code",
      "source": [
        "import matplotlib.pyplot as plt\n",
        "df.hist(bins=30, figsize=(15, 10))\n",
        "plt.tight_layout()\n",
        "plt.show()"
      ],
      "metadata": {
        "colab": {
          "base_uri": "https://localhost:8080/",
          "height": 1000
        },
        "id": "m5VTCodHXljn",
        "outputId": "8edf361a-defa-488d-fd96-ace7fb80e67c"
      },
      "execution_count": null,
      "outputs": [
        {
          "output_type": "display_data",
          "data": {
            "text/plain": [
              "<Figure size 1500x1000 with 4 Axes>"
            ],
            "image/png": "[encoded data removed]"
          },
          "metadata": {}
        }
      ]
    },
    {
      "cell_type": "code",
      "source": [
        "import seaborn as sns\n",
        "\n",
        "for col in df.select_dtypes(include=['int64', 'float64']).columns:\n",
        "    sns.boxplot(x=df[col])\n",
        "    plt.show()"
      ],
      "metadata": {
        "colab": {
          "base_uri": "https://localhost:8080/",
          "height": 1000
        },
        "id": "2HBLa5B0X8WD",
        "outputId": "526c901a-27b1-457f-c042-8960ae4671b1"
      },
      "execution_count": null,
      "outputs": [
        {
          "output_type": "display_data",
          "data": {
            "text/plain": [
              "<Figure size 640x480 with 1 Axes>"
            ],
            "image/png": "[encoded data removed]"
          },
          "metadata": {}
        },
        {
          "output_type": "display_data",
          "data": {
            "text/plain": [
              "<Figure size 640x480 with 1 Axes>"
            ],
            "image/png": "[encoded data removed]"
          },
          "metadata": {}
        },
        {
          "output_type": "display_data",
          "data": {
            "text/plain": [
              "<Figure size 640x480 with 1 Axes>"
            ],
            "image/png": "[encoded data removed]"
          },
          "metadata": {}
        }
      ]
    },
    {
      "cell_type": "code",
      "source": [
        "corr_matrix = df.select_dtypes([int, float]).corr()\n",
        "print(corr_matrix)"
      ],
      "metadata": {
        "colab": {
          "base_uri": "https://localhost:8080/"
        },
        "id": "hS34jNnFYJeG",
        "outputId": "a71ec4a2-53e7-472a-b8d5-02952c27ee6e"
      },
      "execution_count": null,
      "outputs": [
        {
          "output_type": "stream",
          "name": "stdout",
          "text": [
            "             defect_id  product_id  repair_cost\n",
            "defect_id     1.000000   -0.001343     0.013103\n",
            "product_id   -0.001343    1.000000     0.004647\n",
            "repair_cost   0.013103    0.004647     1.000000\n"
          ]
        }
      ]
    },
    {
      "cell_type": "code",
      "source": [
        "plt.figure(figsize=(12, 8))\n",
        "sns.heatmap(corr_matrix, annot=True, cmap='coolwarm')\n",
        "plt.show()"
      ],
      "metadata": {
        "colab": {
          "base_uri": "https://localhost:8080/",
          "height": 682
        },
        "id": "yE6rA0wUYLfa",
        "outputId": "07149a74-3ac7-4b5b-f8c8-109510c0f264"
      },
      "execution_count": null,
      "outputs": [
        {
          "output_type": "display_data",
          "data": {
            "text/plain": [
              "<Figure size 1200x800 with 2 Axes>"
            ],
            "image/png": "[encoded data removed]"
          },
          "metadata": {}
        }
      ]
    },
    {
      "cell_type": "markdown",
      "source": [
        "## **Data Preprocessing**"
      ],
      "metadata": {
        "id": "jTlijcbVZ1tY"
      }
    },
    {
      "cell_type": "markdown",
      "source": [
        "## Handling Missing Values"
      ],
      "metadata": {
        "id": "U1rUgaISaAVI"
      }
    },
    {
      "cell_type": "code",
      "execution_count": null,
      "metadata": {
        "colab": {
          "base_uri": "https://localhost:8080/",
          "height": 335
        },
        "id": "a4v5k5RK85O_",
        "outputId": "c08b60f8-2d4b-4835-8490-589aa5a800bb"
      },
      "outputs": [
        {
          "output_type": "execute_result",
          "data": {
            "text/plain": [
              "defect_id            0\n",
              "product_id           0\n",
              "defect_type          0\n",
              "defect_date          0\n",
              "defect_location      0\n",
              "severity             0\n",
              "inspection_method    0\n",
              "repair_cost          0\n",
              "dtype: int64"
            ],
            "text/html": [
              "<div>\n",
              "<style scoped>\n",
              "    .dataframe tbody tr th:only-of-type {\n",
              "        vertical-align: middle;\n",
              "    }\n",
              "\n",
              "    .dataframe tbody tr th {\n",
              "        vertical-align: top;\n",
              "    }\n",
              "\n",
              "    .dataframe thead th {\n",
              "        text-align: right;\n",
              "    }\n",
              "</style>\n",
              "<table border=\"1\" class=\"dataframe\">\n",
              "  <thead>\n",
              "    <tr style=\"text-align: right;\">\n",
              "      <th></th>\n",
              "      <th>0</th>\n",
              "    </tr>\n",
              "  </thead>\n",
              "  <tbody>\n",
              "    <tr>\n",
              "      <th>defect_id</th>\n",
              "      <td>0</td>\n",
              "    </tr>\n",
              "    <tr>\n",
              "      <th>product_id</th>\n",
              "      <td>0</td>\n",
              "    </tr>\n",
              "    <tr>\n",
              "      <th>defect_type</th>\n",
              "      <td>0</td>\n",
              "    </tr>\n",
              "    <tr>\n",
              "      <th>defect_date</th>\n",
              "      <td>0</td>\n",
              "    </tr>\n",
              "    <tr>\n",
              "      <th>defect_location</th>\n",
              "      <td>0</td>\n",
              "    </tr>\n",
              "    <tr>\n",
              "      <th>severity</th>\n",
              "      <td>0</td>\n",
              "    </tr>\n",
              "    <tr>\n",
              "      <th>inspection_method</th>\n",
              "      <td>0</td>\n",
              "    </tr>\n",
              "    <tr>\n",
              "      <th>repair_cost</th>\n",
              "      <td>0</td>\n",
              "    </tr>\n",
              "  </tbody>\n",
              "</table>\n",
              "</div><br><label><b>dtype:</b> int64</label>"
            ]
          },
          "metadata": {},
          "execution_count": 10
        }
      ],
      "source": [
        "df.isnull().sum()"
      ]
    },
    {
      "cell_type": "code",
      "execution_count": null,
      "metadata": {
        "colab": {
          "base_uri": "https://localhost:8080/"
        },
        "id": "Xmm6GrJ59s3I",
        "outputId": "8dbfb8cb-7aef-4a3b-b85c-49749ad442d8"
      },
      "outputs": [
        {
          "output_type": "execute_result",
          "data": {
            "text/plain": [
              "0"
            ]
          },
          "metadata": {},
          "execution_count": 11
        }
      ],
      "source": [
        "df.duplicated().sum()"
      ]
    },
    {
      "cell_type": "code",
      "execution_count": null,
      "metadata": {
        "colab": {
          "base_uri": "https://localhost:8080/",
          "height": 1000
        },
        "id": "NTjVgQ_F-cw2",
        "outputId": "7bffc6d6-20e6-4a50-cd88-0e018c581e31"
      },
      "outputs": [
        {
          "output_type": "display_data",
          "data": {
            "text/plain": [
              "<Figure size 1000x700 with 1 Axes>"
            ],
            "image/png": "[encoded data removed]"
          },
          "metadata": {}
        },
        {
          "output_type": "display_data",
          "data": {
            "text/plain": [
              "<Figure size 640x480 with 1 Axes>"
            ],
            "image/png": "[encoded data removed]"
          },
          "metadata": {}
        },
        {
          "output_type": "display_data",
          "data": {
            "text/plain": [
              "<Figure size 640x480 with 1 Axes>"
            ],
            "image/png": "[encoded data removed]"
          },
          "metadata": {}
        }
      ],
      "source": [
        "import numpy as np\n",
        "import matplotlib.pyplot as plt\n",
        "import seaborn as sns\n",
        "\n",
        "plt.figure(figsize = (10, 7))\n",
        "for col in df.select_dtypes([int,float]).columns:\n",
        "  sns.boxplot(df[col])\n",
        "  plt.show()"
      ]
    },
    {
      "cell_type": "markdown",
      "metadata": {
        "id": "bKiilCGnBlo-"
      },
      "source": [
        "## Analysing the data\n"
      ]
    },
    {
      "cell_type": "markdown",
      "metadata": {
        "id": "s5ikKgEaUvuS"
      },
      "source": [
        "### 1. Defect Analysis Over Time"
      ]
    },
    {
      "cell_type": "markdown",
      "metadata": {
        "id": "GLPrDIhwRAsv"
      },
      "source": [
        "# **1. Defect Frequency and Severity Analysis**"
      ]
    },
    {
      "cell_type": "markdown",
      "metadata": {
        "id": "voUyHdItIZuE"
      },
      "source": [
        "### What is the distribution of defect types?"
      ]
    },
    {
      "cell_type": "code",
      "execution_count": null,
      "metadata": {
        "colab": {
          "base_uri": "https://localhost:8080/",
          "height": 564
        },
        "id": "nyHHzxxcBkqM",
        "outputId": "92390f95-4a3f-45ed-8875-0d39e4f9501e"
      },
      "outputs": [
        {
          "output_type": "display_data",
          "data": {
            "text/plain": [
              "<Figure size 1000x600 with 1 Axes>"
            ],
            "image/png": "[encoded data removed]"
          },
          "metadata": {}
        }
      ],
      "source": [
        "import seaborn as sns\n",
        "import matplotlib.pyplot as plt\n",
        "\n",
        "plt.figure(figsize=(10,6))\n",
        "sns.countplot(data=df, x='defect_type')\n",
        "sns.set(style=\"whitegrid\")\n",
        "plt.title('Distribution of Defect type')\n",
        "plt.xlabel('Defect Type')\n",
        "plt.ylabel('Count')\n",
        "plt.show()\n"
      ]
    },
    {
      "cell_type": "markdown",
      "metadata": {
        "id": "rwon9fROJDd_"
      },
      "source": [
        "## Which defect type is the most common?\n",
        "\n"
      ]
    },
    {
      "cell_type": "code",
      "execution_count": null,
      "metadata": {
        "colab": {
          "base_uri": "https://localhost:8080/"
        },
        "id": "5rg56wWXQDOd",
        "outputId": "d9f98f4a-2ba1-440d-f5eb-7e4520a78ce3"
      },
      "outputs": [
        {
          "output_type": "stream",
          "name": "stdout",
          "text": [
            "The most common defect type is: Structural with a count of: 352\n"
          ]
        }
      ],
      "source": [
        "# Calculate the count of each defect type\n",
        "defect_counts = df['defect_type'].value_counts()\n",
        "most_common_defect_type = defect_counts.idxmax()\n",
        "most_common_defect_count = defect_counts.max()\n",
        "\n",
        "print(f\"The most common defect type is: {most_common_defect_type} with a count of: {most_common_defect_count}\")"
      ]
    },
    {
      "cell_type": "markdown",
      "metadata": {
        "id": "26Wb_8LlRNNp"
      },
      "source": [
        "## How does defect severity vary across different defect types?"
      ]
    },
    {
      "cell_type": "code",
      "execution_count": null,
      "metadata": {
        "colab": {
          "base_uri": "https://localhost:8080/",
          "height": 573
        },
        "id": "FEXMd1AnRR-7",
        "outputId": "5a844fdd-e189-4063-f89e-15270738e0f8"
      },
      "outputs": [
        {
          "output_type": "display_data",
          "data": {
            "text/plain": [
              "<Figure size 1000x600 with 1 Axes>"
            ],
            "image/png": "[encoded data removed]"
          },
          "metadata": {}
        }
      ],
      "source": [
        "plt.figure(figsize=(10,6))\n",
        "sns.countplot(data=df,x='defect_type',hue ='severity')\n",
        "plt.title('Severity Variation Across Defect Types')\n",
        "plt.xlabel('Defect Type')\n",
        "plt.ylabel('Count')\n",
        "plt.legend(title=\"Severity\")\n",
        "plt.show()\n"
      ]
    },
    {
      "cell_type": "markdown",
      "source": [
        "# **Encode Categorical Variables**"
      ],
      "metadata": {
        "id": "Pl8DejmEZODT"
      }
    },
    {
      "cell_type": "code",
      "execution_count": null,
      "metadata": {
        "id": "JjILcW0wG-_K"
      },
      "outputs": [],
      "source": [
        "from sklearn.preprocessing import LabelEncoder\n",
        "\n",
        "obj_cols = df.select_dtypes(object).columns\n",
        "\n",
        "for col in obj_cols:\n",
        "  encoder = LabelEncoder()\n",
        "  df[col] = encoder.fit_transform(df[col])\n"
      ]
    },
    {
      "cell_type": "code",
      "execution_count": null,
      "metadata": {
        "colab": {
          "base_uri": "https://localhost:8080/",
          "height": 335
        },
        "id": "MiyF4_3NKnCB",
        "outputId": "5a9a8303-0b15-40ae-81a9-ee8a3a702bd5"
      },
      "outputs": [
        {
          "output_type": "execute_result",
          "data": {
            "text/plain": [
              "defect_id              int64\n",
              "product_id             int64\n",
              "defect_type            int64\n",
              "defect_date            int64\n",
              "defect_location        int64\n",
              "severity               int64\n",
              "inspection_method      int64\n",
              "repair_cost          float64\n",
              "dtype: object"
            ],
            "text/html": [
              "<div>\n",
              "<style scoped>\n",
              "    .dataframe tbody tr th:only-of-type {\n",
              "        vertical-align: middle;\n",
              "    }\n",
              "\n",
              "    .dataframe tbody tr th {\n",
              "        vertical-align: top;\n",
              "    }\n",
              "\n",
              "    .dataframe thead th {\n",
              "        text-align: right;\n",
              "    }\n",
              "</style>\n",
              "<table border=\"1\" class=\"dataframe\">\n",
              "  <thead>\n",
              "    <tr style=\"text-align: right;\">\n",
              "      <th></th>\n",
              "      <th>0</th>\n",
              "    </tr>\n",
              "  </thead>\n",
              "  <tbody>\n",
              "    <tr>\n",
              "      <th>defect_id</th>\n",
              "      <td>int64</td>\n",
              "    </tr>\n",
              "    <tr>\n",
              "      <th>product_id</th>\n",
              "      <td>int64</td>\n",
              "    </tr>\n",
              "    <tr>\n",
              "      <th>defect_type</th>\n",
              "      <td>int64</td>\n",
              "    </tr>\n",
              "    <tr>\n",
              "      <th>defect_date</th>\n",
              "      <td>int64</td>\n",
              "    </tr>\n",
              "    <tr>\n",
              "      <th>defect_location</th>\n",
              "      <td>int64</td>\n",
              "    </tr>\n",
              "    <tr>\n",
              "      <th>severity</th>\n",
              "      <td>int64</td>\n",
              "    </tr>\n",
              "    <tr>\n",
              "      <th>inspection_method</th>\n",
              "      <td>int64</td>\n",
              "    </tr>\n",
              "    <tr>\n",
              "      <th>repair_cost</th>\n",
              "      <td>float64</td>\n",
              "    </tr>\n",
              "  </tbody>\n",
              "</table>\n",
              "</div><br><label><b>dtype:</b> object</label>"
            ]
          },
          "metadata": {},
          "execution_count": 17
        }
      ],
      "source": [
        "df.dtypes"
      ]
    },
    {
      "cell_type": "code",
      "execution_count": null,
      "metadata": {
        "colab": {
          "base_uri": "https://localhost:8080/",
          "height": 206
        },
        "id": "wP9s4fJbK1-g",
        "outputId": "d798eedc-0cd7-42de-bfac-9d07dfda4d18"
      },
      "outputs": [
        {
          "output_type": "execute_result",
          "data": {
            "text/plain": [
              "   defect_id  product_id  defect_type  defect_date  defect_location  severity  \\\n",
              "0          1          15            2          178                0         1   \n",
              "1          2           6            1          109                0         1   \n",
              "2          3          84            2           37                1         1   \n",
              "3          4          10            1           80                1         0   \n",
              "4          5          14            0          109                0         1   \n",
              "\n",
              "   inspection_method  repair_cost  \n",
              "0                  2       245.47  \n",
              "1                  2        26.87  \n",
              "2                  0       835.81  \n",
              "3                  0       444.47  \n",
              "4                  1       823.64  "
            ],
            "text/html": [
              "\n",
              "  <div id=\"df-5b6fad94-feda-416e-9175-8a60d2a87514\" class=\"colab-df-container\">\n",
              "    <div>\n",
              "<style scoped>\n",
              "    .dataframe tbody tr th:only-of-type {\n",
              "        vertical-align: middle;\n",
              "    }\n",
              "\n",
              "    .dataframe tbody tr th {\n",
              "        vertical-align: top;\n",
              "    }\n",
              "\n",
              "    .dataframe thead th {\n",
              "        text-align: right;\n",
              "    }\n",
              "</style>\n",
              "<table border=\"1\" class=\"dataframe\">\n",
              "  <thead>\n",
              "    <tr style=\"text-align: right;\">\n",
              "      <th></th>\n",
              "      <th>defect_id</th>\n",
              "      <th>product_id</th>\n",
              "      <th>defect_type</th>\n",
              "      <th>defect_date</th>\n",
              "      <th>defect_location</th>\n",
              "      <th>severity</th>\n",
              "      <th>inspection_method</th>\n",
              "      <th>repair_cost</th>\n",
              "    </tr>\n",
              "  </thead>\n",
              "  <tbody>\n",
              "    <tr>\n",
              "      <th>0</th>\n",
              "      <td>1</td>\n",
              "      <td>15</td>\n",
              "      <td>2</td>\n",
              "      <td>178</td>\n",
              "      <td>0</td>\n",
              "      <td>1</td>\n",
              "      <td>2</td>\n",
              "      <td>245.47</td>\n",
              "    </tr>\n",
              "    <tr>\n",
              "      <th>1</th>\n",
              "      <td>2</td>\n",
              "      <td>6</td>\n",
              "      <td>1</td>\n",
              "      <td>109</td>\n",
              "      <td>0</td>\n",
              "      <td>1</td>\n",
              "      <td>2</td>\n",
              "      <td>26.87</td>\n",
              "    </tr>\n",
              "    <tr>\n",
              "      <th>2</th>\n",
              "      <td>3</td>\n",
              "      <td>84</td>\n",
              "      <td>2</td>\n",
              "      <td>37</td>\n",
              "      <td>1</td>\n",
              "      <td>1</td>\n",
              "      <td>0</td>\n",
              "      <td>835.81</td>\n",
              "    </tr>\n",
              "    <tr>\n",
              "      <th>3</th>\n",
              "      <td>4</td>\n",
              "      <td>10</td>\n",
              "      <td>1</td>\n",
              "      <td>80</td>\n",
              "      <td>1</td>\n",
              "      <td>0</td>\n",
              "      <td>0</td>\n",
              "      <td>444.47</td>\n",
              "    </tr>\n",
              "    <tr>\n",
              "      <th>4</th>\n",
              "      <td>5</td>\n",
              "      <td>14</td>\n",
              "      <td>0</td>\n",
              "      <td>109</td>\n",
              "      <td>0</td>\n",
              "      <td>1</td>\n",
              "      <td>1</td>\n",
              "      <td>823.64</td>\n",
              "    </tr>\n",
              "  </tbody>\n",
              "</table>\n",
              "</div>\n",
              "    <div class=\"colab-df-buttons\">\n",
              "\n",
              "  <div class=\"colab-df-container\">\n",
              "    <button class=\"colab-df-convert\" onclick=\"convertToInteractive('df-5b6fad94-feda-416e-9175-8a60d2a87514')\"\n",
              "            title=\"Convert this dataframe to an interactive table.\"\n",
              "            style=\"display:none;\">\n",
              "\n",
              "  <svg xmlns=\"http://www.w3.org/2000/svg\" height=\"24px\" viewBox=\"0 -960 960 960\">\n",
              "    <path d=\"M120-120v-720h720v720H120Zm60-500h600v-160H180v160Zm220 220h160v-160H400v160Zm0 220h160v-160H400v160ZM180-400h160v-160H180v160Zm440 0h160v-160H620v160ZM180-180h160v-160H180v160Zm440 0h160v-160H620v160Z\"/>\n",
              "  </svg>\n",
              "    </button>\n",
              "\n",
              "  <style>\n",
              "    .colab-df-container {\n",
              "      display:flex;\n",
              "      gap: 12px;\n",
              "    }\n",
              "\n",
              "    .colab-df-convert {\n",
              "      background-color: #E8F0FE;\n",
              "      border: none;\n",
              "      border-radius: 50%;\n",
              "      cursor: pointer;\n",
              "      display: none;\n",
              "      fill: #1967D2;\n",
              "      height: 32px;\n",
              "      padding: 0 0 0 0;\n",
              "      width: 32px;\n",
              "    }\n",
              "\n",
              "    .colab-df-convert:hover {\n",
              "      background-color: #E2EBFA;\n",
              "      box-shadow: 0px 1px 2px rgba(60, 64, 67, 0.3), 0px 1px 3px 1px rgba(60, 64, 67, 0.15);\n",
              "      fill: #174EA6;\n",
              "    }\n",
              "\n",
              "    .colab-df-buttons div {\n",
              "      margin-bottom: 4px;\n",
              "    }\n",
              "\n",
              "    [theme=dark] .colab-df-convert {\n",
              "      background-color: #3B4455;\n",
              "      fill: #D2E3FC;\n",
              "    }\n",
              "\n",
              "    [theme=dark] .colab-df-convert:hover {\n",
              "      background-color: #434B5C;\n",
              "      box-shadow: 0px 1px 3px 1px rgba(0, 0, 0, 0.15);\n",
              "      filter: drop-shadow(0px 1px 2px rgba(0, 0, 0, 0.3));\n",
              "      fill: #FFFFFF;\n",
              "    }\n",
              "  </style>\n",
              "\n",
              "    <script>\n",
              "      const buttonEl =\n",
              "        document.querySelector('#df-5b6fad94-feda-416e-9175-8a60d2a87514 button.colab-df-convert');\n",
              "      buttonEl.style.display =\n",
              "        google.colab.kernel.accessAllowed ? 'block' : 'none';\n",
              "\n",
              "      async function convertToInteractive(key) {\n",
              "        const element = document.querySelector('#df-5b6fad94-feda-416e-9175-8a60d2a87514');\n",
              "        const dataTable =\n",
              "          await google.colab.kernel.invokeFunction('convertToInteractive',\n",
              "                                                    [key], {});\n",
              "        if (!dataTable) return;\n",
              "\n",
              "        const docLinkHtml = 'Like what you see? Visit the ' +\n",
              "          '<a target=\"_blank\" href=https://colab.research.google.com/notebooks/data_table.ipynb>data table notebook</a>'\n",
              "          + ' to learn more about interactive tables.';\n",
              "        element.innerHTML = '';\n",
              "        dataTable['output_type'] = 'display_data';\n",
              "        await google.colab.output.renderOutput(dataTable, element);\n",
              "        const docLink = document.createElement('div');\n",
              "        docLink.innerHTML = docLinkHtml;\n",
              "        element.appendChild(docLink);\n",
              "      }\n",
              "    </script>\n",
              "  </div>\n",
              "\n",
              "\n",
              "<div id=\"df-6055fead-0324-4714-908d-f6024a3c9dc8\">\n",
              "  <button class=\"colab-df-quickchart\" onclick=\"quickchart('df-6055fead-0324-4714-908d-f6024a3c9dc8')\"\n",
              "            title=\"Suggest charts\"\n",
              "            style=\"display:none;\">\n",
              "\n",
              "<svg xmlns=\"http://www.w3.org/2000/svg\" height=\"24px\"viewBox=\"0 0 24 24\"\n",
              "     width=\"24px\">\n",
              "    <g>\n",
              "        <path d=\"M19 3H5c-1.1 0-2 .9-2 2v14c0 1.1.9 2 2 2h14c1.1 0 2-.9 2-2V5c0-1.1-.9-2-2-2zM9 17H7v-7h2v7zm4 0h-2V7h2v10zm4 0h-2v-4h2v4z\"/>\n",
              "    </g>\n",
              "</svg>\n",
              "  </button>\n",
              "\n",
              "<style>\n",
              "  .colab-df-quickchart {\n",
              "      --bg-color: #E8F0FE;\n",
              "      --fill-color: #1967D2;\n",
              "      --hover-bg-color: #E2EBFA;\n",
              "      --hover-fill-color: #174EA6;\n",
              "      --disabled-fill-color: #AAA;\n",
              "      --disabled-bg-color: #DDD;\n",
              "  }\n",
              "\n",
              "  [theme=dark] .colab-df-quickchart {\n",
              "      --bg-color: #3B4455;\n",
              "      --fill-color: #D2E3FC;\n",
              "      --hover-bg-color: #434B5C;\n",
              "      --hover-fill-color: #FFFFFF;\n",
              "      --disabled-bg-color: #3B4455;\n",
              "      --disabled-fill-color: #666;\n",
              "  }\n",
              "\n",
              "  .colab-df-quickchart {\n",
              "    background-color: var(--bg-color);\n",
              "    border: none;\n",
              "    border-radius: 50%;\n",
              "    cursor: pointer;\n",
              "    display: none;\n",
              "    fill: var(--fill-color);\n",
              "    height: 32px;\n",
              "    padding: 0;\n",
              "    width: 32px;\n",
              "  }\n",
              "\n",
              "  .colab-df-quickchart:hover {\n",
              "    background-color: var(--hover-bg-color);\n",
              "    box-shadow: 0 1px 2px rgba(60, 64, 67, 0.3), 0 1px 3px 1px rgba(60, 64, 67, 0.15);\n",
              "    fill: var(--button-hover-fill-color);\n",
              "  }\n",
              "\n",
              "  .colab-df-quickchart-complete:disabled,\n",
              "  .colab-df-quickchart-complete:disabled:hover {\n",
              "    background-color: var(--disabled-bg-color);\n",
              "    fill: var(--disabled-fill-color);\n",
              "    box-shadow: none;\n",
              "  }\n",
              "\n",
              "  .colab-df-spinner {\n",
              "    border: 2px solid var(--fill-color);\n",
              "    border-color: transparent;\n",
              "    border-bottom-color: var(--fill-color);\n",
              "    animation:\n",
              "      spin 1s steps(1) infinite;\n",
              "  }\n",
              "\n",
              "  @keyframes spin {\n",
              "    0% {\n",
              "      border-color: transparent;\n",
              "      border-bottom-color: var(--fill-color);\n",
              "      border-left-color: var(--fill-color);\n",
              "    }\n",
              "    20% {\n",
              "      border-color: transparent;\n",
              "      border-left-color: var(--fill-color);\n",
              "      border-top-color: var(--fill-color);\n",
              "    }\n",
              "    30% {\n",
              "      border-color: transparent;\n",
              "      border-left-color: var(--fill-color);\n",
              "      border-top-color: var(--fill-color);\n",
              "      border-right-color: var(--fill-color);\n",
              "    }\n",
              "    40% {\n",
              "      border-color: transparent;\n",
              "      border-right-color: var(--fill-color);\n",
              "      border-top-color: var(--fill-color);\n",
              "    }\n",
              "    60% {\n",
              "      border-color: transparent;\n",
              "      border-right-color: var(--fill-color);\n",
              "    }\n",
              "    80% {\n",
              "      border-color: transparent;\n",
              "      border-right-color: var(--fill-color);\n",
              "      border-bottom-color: var(--fill-color);\n",
              "    }\n",
              "    90% {\n",
              "      border-color: transparent;\n",
              "      border-bottom-color: var(--fill-color);\n",
              "    }\n",
              "  }\n",
              "</style>\n",
              "\n",
              "  <script>\n",
              "    async function quickchart(key) {\n",
              "      const quickchartButtonEl =\n",
              "        document.querySelector('#' + key + ' button');\n",
              "      quickchartButtonEl.disabled = true;  // To prevent multiple clicks.\n",
              "      quickchartButtonEl.classList.add('colab-df-spinner');\n",
              "      try {\n",
              "        const charts = await google.colab.kernel.invokeFunction(\n",
              "            'suggestCharts', [key], {});\n",
              "      } catch (error) {\n",
              "        console.error('Error during call to suggestCharts:', error);\n",
              "      }\n",
              "      quickchartButtonEl.classList.remove('colab-df-spinner');\n",
              "      quickchartButtonEl.classList.add('colab-df-quickchart-complete');\n",
              "    }\n",
              "    (() => {\n",
              "      let quickchartButtonEl =\n",
              "        document.querySelector('#df-6055fead-0324-4714-908d-f6024a3c9dc8 button');\n",
              "      quickchartButtonEl.style.display =\n",
              "        google.colab.kernel.accessAllowed ? 'block' : 'none';\n",
              "    })();\n",
              "  </script>\n",
              "</div>\n",
              "\n",
              "    </div>\n",
              "  </div>\n"
            ],
            "application/vnd.google.colaboratory.intrinsic+json": {
              "type": "dataframe",
              "variable_name": "df",
              "summary": "{\n  \"name\": \"df\",\n  \"rows\": 1000,\n  \"fields\": [\n    {\n      \"column\": \"defect_id\",\n      \"properties\": {\n        \"dtype\": \"number\",\n        \"std\": 288,\n        \"min\": 1,\n        \"max\": 1000,\n        \"num_unique_values\": 1000,\n        \"samples\": [\n          522,\n          738,\n          741\n        ],\n        \"semantic_type\": \"\",\n        \"description\": \"\"\n      }\n    },\n    {\n      \"column\": \"product_id\",\n      \"properties\": {\n        \"dtype\": \"number\",\n        \"std\": 29,\n        \"min\": 1,\n        \"max\": 100,\n        \"num_unique_values\": 100,\n        \"samples\": [\n          38,\n          69,\n          41\n        ],\n        \"semantic_type\": \"\",\n        \"description\": \"\"\n      }\n    },\n    {\n      \"column\": \"defect_type\",\n      \"properties\": {\n        \"dtype\": \"number\",\n        \"std\": 0,\n        \"min\": 0,\n        \"max\": 2,\n        \"num_unique_values\": 3,\n        \"samples\": [\n          2,\n          1,\n          0\n        ],\n        \"semantic_type\": \"\",\n        \"description\": \"\"\n      }\n    },\n    {\n      \"column\": \"defect_date\",\n      \"properties\": {\n        \"dtype\": \"number\",\n        \"std\": 52,\n        \"min\": 0,\n        \"max\": 181,\n        \"num_unique_values\": 182,\n        \"samples\": [\n          148,\n          47,\n          64\n        ],\n        \"semantic_type\": \"\",\n        \"description\": \"\"\n      }\n    },\n    {\n      \"column\": \"defect_location\",\n      \"properties\": {\n        \"dtype\": \"number\",\n        \"std\": 0,\n        \"min\": 0,\n        \"max\": 2,\n        \"num_unique_values\": 3,\n        \"samples\": [\n          0,\n          1,\n          2\n        ],\n        \"semantic_type\": \"\",\n        \"description\": \"\"\n      }\n    },\n    {\n      \"column\": \"severity\",\n      \"properties\": {\n        \"dtype\": \"number\",\n        \"std\": 0,\n        \"min\": 0,\n        \"max\": 2,\n        \"num_unique_values\": 3,\n        \"samples\": [\n          1,\n          0,\n          2\n        ],\n        \"semantic_type\": \"\",\n        \"description\": \"\"\n      }\n    },\n    {\n      \"column\": \"inspection_method\",\n      \"properties\": {\n        \"dtype\": \"number\",\n        \"std\": 0,\n        \"min\": 0,\n        \"max\": 2,\n        \"num_unique_values\": 3,\n        \"samples\": [\n          2,\n          0,\n          1\n        ],\n        \"semantic_type\": \"\",\n        \"description\": \"\"\n      }\n    },\n    {\n      \"column\": \"repair_cost\",\n      \"properties\": {\n        \"dtype\": \"number\",\n        \"std\": 289.6236145535867,\n        \"min\": 10.22,\n        \"max\": 999.64,\n        \"num_unique_values\": 996,\n        \"samples\": [\n          114.02,\n          626.35,\n          582.46\n        ],\n        \"semantic_type\": \"\",\n        \"description\": \"\"\n      }\n    }\n  ]\n}"
            }
          },
          "metadata": {},
          "execution_count": 18
        }
      ],
      "source": [
        "df.head()"
      ]
    },
    {
      "cell_type": "markdown",
      "source": [
        "## Feature Scaling"
      ],
      "metadata": {
        "id": "fvO9omTz7lfw"
      }
    },
    {
      "cell_type": "code",
      "execution_count": null,
      "metadata": {
        "colab": {
          "base_uri": "https://localhost:8080/"
        },
        "id": "Z1UEnXBCL2n2",
        "outputId": "2fa7dc2f-f68e-4e6d-bc9e-a157c178b0de"
      },
      "outputs": [
        {
          "output_type": "stream",
          "name": "stdout",
          "text": [
            "   defect_id  product_id  defect_type  defect_date  defect_location  severity  \\\n",
            "0          1          15            2          178                0         1   \n",
            "1          2           6            1          109                0         1   \n",
            "2          3          84            2           37                1         1   \n",
            "3          4          10            1           80                1         0   \n",
            "4          5          14            0          109                0         1   \n",
            "\n",
            "   inspection_method  repair_cost  \n",
            "0                  2    -0.905618  \n",
            "1                  2    -1.660768  \n",
            "2                  0     1.133703  \n",
            "3                  0    -0.218175  \n",
            "4                  1     1.091662  \n"
          ]
        }
      ],
      "source": [
        "from sklearn.preprocessing import StandardScaler\n",
        "\n",
        "scaler = StandardScaler()\n",
        "numerical_columns = ['repair_cost']\n",
        "\n",
        "df[numerical_columns] = scaler.fit_transform(df[numerical_columns])\n",
        "print(df.head())\n"
      ]
    },
    {
      "cell_type": "markdown",
      "metadata": {
        "id": "mR6GN-XQC4x1"
      },
      "source": [
        "##Split  the data\n"
      ]
    },
    {
      "cell_type": "code",
      "execution_count": null,
      "metadata": {
        "id": "QHklq3b77lQL"
      },
      "outputs": [],
      "source": [
        "target_variable = 'repair_cost'\n",
        "x = df.drop(columns=[target_variable])\n",
        "y = df[target_variable]\n"
      ]
    },
    {
      "cell_type": "code",
      "execution_count": null,
      "metadata": {
        "id": "buZle1V7Cwo0"
      },
      "outputs": [],
      "source": [
        "from sklearn.model_selection import train_test_split\n",
        "\n",
        "xtrain, xtest, ytrain, ytest = train_test_split(x, y, train_size = 0.8)"
      ]
    },
    {
      "cell_type": "markdown",
      "metadata": {
        "id": "3mzfUozzC9i6"
      },
      "source": [
        "\n",
        "##Model Selection"
      ]
    },
    {
      "cell_type": "code",
      "source": [
        "evaluation = {}\n",
        "training_errors =[]\n",
        "testing_errors =[]\n",
        "models=[]"
      ],
      "metadata": {
        "id": "LTRUWPxU-kRR"
      },
      "execution_count": null,
      "outputs": []
    },
    {
      "cell_type": "markdown",
      "metadata": {
        "id": "Sfy9pfGlKmmJ"
      },
      "source": [
        "## LINEAR REGRESSION"
      ]
    },
    {
      "cell_type": "code",
      "execution_count": null,
      "metadata": {
        "colab": {
          "base_uri": "https://localhost:8080/",
          "height": 74
        },
        "id": "7zdZWfd5yJPA",
        "outputId": "c1e52c02-50e4-4634-8fbb-30c5c1ddb8ef"
      },
      "outputs": [
        {
          "output_type": "execute_result",
          "data": {
            "text/plain": [
              "LinearRegression()"
            ],
            "text/html": [
              "<style>#sk-container-id-1 {color: black;}#sk-container-id-1 pre{padding: 0;}#sk-container-id-1 div.sk-toggleable {background-color: white;}#sk-container-id-1 label.sk-toggleable__label {cursor: pointer;display: block;width: 100%;margin-bottom: 0;padding: 0.3em;box-sizing: border-box;text-align: center;}#sk-container-id-1 label.sk-toggleable__label-arrow:before {content: \"▸\";float: left;margin-right: 0.25em;color: #696969;}#sk-container-id-1 label.sk-toggleable__label-arrow:hover:before {color: black;}#sk-container-id-1 div.sk-estimator:hover label.sk-toggleable__label-arrow:before {color: black;}#sk-container-id-1 div.sk-toggleable__content {max-height: 0;max-width: 0;overflow: hidden;text-align: left;background-color: #f0f8ff;}#sk-container-id-1 div.sk-toggleable__content pre {margin: 0.2em;color: black;border-radius: 0.25em;background-color: #f0f8ff;}#sk-container-id-1 input.sk-toggleable__control:checked~div.sk-toggleable__content {max-height: 200px;max-width: 100%;overflow: auto;}#sk-container-id-1 input.sk-toggleable__control:checked~label.sk-toggleable__label-arrow:before {content: \"▾\";}#sk-container-id-1 div.sk-estimator input.sk-toggleable__control:checked~label.sk-toggleable__label {background-color: #d4ebff;}#sk-container-id-1 div.sk-label input.sk-toggleable__control:checked~label.sk-toggleable__label {background-color: #d4ebff;}#sk-container-id-1 input.sk-hidden--visually {border: 0;clip: rect(1px 1px 1px 1px);clip: rect(1px, 1px, 1px, 1px);height: 1px;margin: -1px;overflow: hidden;padding: 0;position: absolute;width: 1px;}#sk-container-id-1 div.sk-estimator {font-family: monospace;background-color: #f0f8ff;border: 1px dotted black;border-radius: 0.25em;box-sizing: border-box;margin-bottom: 0.5em;}#sk-container-id-1 div.sk-estimator:hover {background-color: #d4ebff;}#sk-container-id-1 div.sk-parallel-item::after {content: \"\";width: 100%;border-bottom: 1px solid gray;flex-grow: 1;}#sk-container-id-1 div.sk-label:hover label.sk-toggleable__label {background-color: #d4ebff;}#sk-container-id-1 div.sk-serial::before {content: \"\";position: absolute;border-left: 1px solid gray;box-sizing: border-box;top: 0;bottom: 0;left: 50%;z-index: 0;}#sk-container-id-1 div.sk-serial {display: flex;flex-direction: column;align-items: center;background-color: white;padding-right: 0.2em;padding-left: 0.2em;position: relative;}#sk-container-id-1 div.sk-item {position: relative;z-index: 1;}#sk-container-id-1 div.sk-parallel {display: flex;align-items: stretch;justify-content: center;background-color: white;position: relative;}#sk-container-id-1 div.sk-item::before, #sk-container-id-1 div.sk-parallel-item::before {content: \"\";position: absolute;border-left: 1px solid gray;box-sizing: border-box;top: 0;bottom: 0;left: 50%;z-index: -1;}#sk-container-id-1 div.sk-parallel-item {display: flex;flex-direction: column;z-index: 1;position: relative;background-color: white;}#sk-container-id-1 div.sk-parallel-item:first-child::after {align-self: flex-end;width: 50%;}#sk-container-id-1 div.sk-parallel-item:last-child::after {align-self: flex-start;width: 50%;}#sk-container-id-1 div.sk-parallel-item:only-child::after {width: 0;}#sk-container-id-1 div.sk-dashed-wrapped {border: 1px dashed gray;margin: 0 0.4em 0.5em 0.4em;box-sizing: border-box;padding-bottom: 0.4em;background-color: white;}#sk-container-id-1 div.sk-label label {font-family: monospace;font-weight: bold;display: inline-block;line-height: 1.2em;}#sk-container-id-1 div.sk-label-container {text-align: center;}#sk-container-id-1 div.sk-container {/* jupyter's `normalize.less` sets `[hidden] { display: none; }` but bootstrap.min.css set `[hidden] { display: none !important; }` so we also need the `!important` here to be able to override the default hidden behavior on the sphinx rendered scikit-learn.org. See: https://github.com/scikit-learn/scikit-learn/issues/21755 */display: inline-block !important;position: relative;}#sk-container-id-1 div.sk-text-repr-fallback {display: none;}</style><div id=\"sk-container-id-1\" class=\"sk-top-container\"><div class=\"sk-text-repr-fallback\"><pre>LinearRegression()</pre><b>In a Jupyter environment, please rerun this cell to show the HTML representation or trust the notebook. <br />On GitHub, the HTML representation is unable to render, please try loading this page with nbviewer.org.</b></div><div class=\"sk-container\" hidden><div class=\"sk-item\"><div class=\"sk-estimator sk-toggleable\"><input class=\"sk-toggleable__control sk-hidden--visually\" id=\"sk-estimator-id-1\" type=\"checkbox\" checked><label for=\"sk-estimator-id-1\" class=\"sk-toggleable__label sk-toggleable__label-arrow\">LinearRegression</label><div class=\"sk-toggleable__content\"><pre>LinearRegression()</pre></div></div></div></div></div>"
            ]
          },
          "metadata": {},
          "execution_count": 23
        }
      ],
      "source": [
        "from sklearn.linear_model import LinearRegression\n",
        "\n",
        "model = LinearRegression()\n",
        "model.fit(xtrain, ytrain)\n"
      ]
    },
    {
      "cell_type": "code",
      "execution_count": null,
      "metadata": {
        "id": "Mx3n1K_UnOZv"
      },
      "outputs": [],
      "source": [
        "trainpred = model.predict(xtrain)\n",
        "testpred = model.predict(xtest)"
      ]
    },
    {
      "cell_type": "code",
      "execution_count": null,
      "metadata": {
        "colab": {
          "base_uri": "https://localhost:8080/"
        },
        "id": "lypwkAjOnq_q",
        "outputId": "c4b588a5-1ec6-4872-afd6-9e47890b7dd3"
      },
      "outputs": [
        {
          "output_type": "execute_result",
          "data": {
            "text/plain": [
              "1.0008690237998605"
            ]
          },
          "metadata": {},
          "execution_count": 25
        }
      ],
      "source": [
        "from sklearn.metrics import mean_squared_error\n",
        "mse_train = mean_squared_error(ytrain,trainpred)\n",
        "mse_train"
      ]
    },
    {
      "cell_type": "code",
      "execution_count": null,
      "metadata": {
        "colab": {
          "base_uri": "https://localhost:8080/"
        },
        "id": "7LYt3dzYoEvL",
        "outputId": "2941df63-921c-4cdc-e0ac-63e2336db144"
      },
      "outputs": [
        {
          "output_type": "execute_result",
          "data": {
            "text/plain": [
              "0.9802454786798503"
            ]
          },
          "metadata": {},
          "execution_count": 26
        }
      ],
      "source": [
        "mse_test = mean_squared_error(ytest,testpred)\n",
        "mse_test"
      ]
    },
    {
      "cell_type": "code",
      "source": [
        "models.append(\"LinearRegression\")\n",
        "training_errors.append(mse_train)\n",
        "testing_errors.append(mse_test)"
      ],
      "metadata": {
        "id": "e3kyURCd-9AL"
      },
      "execution_count": null,
      "outputs": []
    },
    {
      "cell_type": "markdown",
      "metadata": {
        "id": "FE-8AXMAKs75"
      },
      "source": [
        "## DECISIONTREE REGRESSION"
      ]
    },
    {
      "cell_type": "code",
      "execution_count": null,
      "metadata": {
        "colab": {
          "base_uri": "https://localhost:8080/",
          "height": 74
        },
        "id": "ByY009uKq6rn",
        "outputId": "dd82ad03-0818-4fd6-b683-54e4b4acf949"
      },
      "outputs": [
        {
          "output_type": "execute_result",
          "data": {
            "text/plain": [
              "DecisionTreeRegressor()"
            ],
            "text/html": [
              "<style>#sk-container-id-2 {color: black;}#sk-container-id-2 pre{padding: 0;}#sk-container-id-2 div.sk-toggleable {background-color: white;}#sk-container-id-2 label.sk-toggleable__label {cursor: pointer;display: block;width: 100%;margin-bottom: 0;padding: 0.3em;box-sizing: border-box;text-align: center;}#sk-container-id-2 label.sk-toggleable__label-arrow:before {content: \"▸\";float: left;margin-right: 0.25em;color: #696969;}#sk-container-id-2 label.sk-toggleable__label-arrow:hover:before {color: black;}#sk-container-id-2 div.sk-estimator:hover label.sk-toggleable__label-arrow:before {color: black;}#sk-container-id-2 div.sk-toggleable__content {max-height: 0;max-width: 0;overflow: hidden;text-align: left;background-color: #f0f8ff;}#sk-container-id-2 div.sk-toggleable__content pre {margin: 0.2em;color: black;border-radius: 0.25em;background-color: #f0f8ff;}#sk-container-id-2 input.sk-toggleable__control:checked~div.sk-toggleable__content {max-height: 200px;max-width: 100%;overflow: auto;}#sk-container-id-2 input.sk-toggleable__control:checked~label.sk-toggleable__label-arrow:before {content: \"▾\";}#sk-container-id-2 div.sk-estimator input.sk-toggleable__control:checked~label.sk-toggleable__label {background-color: #d4ebff;}#sk-container-id-2 div.sk-label input.sk-toggleable__control:checked~label.sk-toggleable__label {background-color: #d4ebff;}#sk-container-id-2 input.sk-hidden--visually {border: 0;clip: rect(1px 1px 1px 1px);clip: rect(1px, 1px, 1px, 1px);height: 1px;margin: -1px;overflow: hidden;padding: 0;position: absolute;width: 1px;}#sk-container-id-2 div.sk-estimator {font-family: monospace;background-color: #f0f8ff;border: 1px dotted black;border-radius: 0.25em;box-sizing: border-box;margin-bottom: 0.5em;}#sk-container-id-2 div.sk-estimator:hover {background-color: #d4ebff;}#sk-container-id-2 div.sk-parallel-item::after {content: \"\";width: 100%;border-bottom: 1px solid gray;flex-grow: 1;}#sk-container-id-2 div.sk-label:hover label.sk-toggleable__label {background-color: #d4ebff;}#sk-container-id-2 div.sk-serial::before {content: \"\";position: absolute;border-left: 1px solid gray;box-sizing: border-box;top: 0;bottom: 0;left: 50%;z-index: 0;}#sk-container-id-2 div.sk-serial {display: flex;flex-direction: column;align-items: center;background-color: white;padding-right: 0.2em;padding-left: 0.2em;position: relative;}#sk-container-id-2 div.sk-item {position: relative;z-index: 1;}#sk-container-id-2 div.sk-parallel {display: flex;align-items: stretch;justify-content: center;background-color: white;position: relative;}#sk-container-id-2 div.sk-item::before, #sk-container-id-2 div.sk-parallel-item::before {content: \"\";position: absolute;border-left: 1px solid gray;box-sizing: border-box;top: 0;bottom: 0;left: 50%;z-index: -1;}#sk-container-id-2 div.sk-parallel-item {display: flex;flex-direction: column;z-index: 1;position: relative;background-color: white;}#sk-container-id-2 div.sk-parallel-item:first-child::after {align-self: flex-end;width: 50%;}#sk-container-id-2 div.sk-parallel-item:last-child::after {align-self: flex-start;width: 50%;}#sk-container-id-2 div.sk-parallel-item:only-child::after {width: 0;}#sk-container-id-2 div.sk-dashed-wrapped {border: 1px dashed gray;margin: 0 0.4em 0.5em 0.4em;box-sizing: border-box;padding-bottom: 0.4em;background-color: white;}#sk-container-id-2 div.sk-label label {font-family: monospace;font-weight: bold;display: inline-block;line-height: 1.2em;}#sk-container-id-2 div.sk-label-container {text-align: center;}#sk-container-id-2 div.sk-container {/* jupyter's `normalize.less` sets `[hidden] { display: none; }` but bootstrap.min.css set `[hidden] { display: none !important; }` so we also need the `!important` here to be able to override the default hidden behavior on the sphinx rendered scikit-learn.org. See: https://github.com/scikit-learn/scikit-learn/issues/21755 */display: inline-block !important;position: relative;}#sk-container-id-2 div.sk-text-repr-fallback {display: none;}</style><div id=\"sk-container-id-2\" class=\"sk-top-container\"><div class=\"sk-text-repr-fallback\"><pre>DecisionTreeRegressor()</pre><b>In a Jupyter environment, please rerun this cell to show the HTML representation or trust the notebook. <br />On GitHub, the HTML representation is unable to render, please try loading this page with nbviewer.org.</b></div><div class=\"sk-container\" hidden><div class=\"sk-item\"><div class=\"sk-estimator sk-toggleable\"><input class=\"sk-toggleable__control sk-hidden--visually\" id=\"sk-estimator-id-2\" type=\"checkbox\" checked><label for=\"sk-estimator-id-2\" class=\"sk-toggleable__label sk-toggleable__label-arrow\">DecisionTreeRegressor</label><div class=\"sk-toggleable__content\"><pre>DecisionTreeRegressor()</pre></div></div></div></div></div>"
            ]
          },
          "metadata": {},
          "execution_count": 28
        }
      ],
      "source": [
        "from sklearn.tree import DecisionTreeRegressor\n",
        "model = DecisionTreeRegressor()\n",
        "model.fit(xtrain,ytrain)"
      ]
    },
    {
      "cell_type": "code",
      "execution_count": null,
      "metadata": {
        "id": "43JHK042rQCC"
      },
      "outputs": [],
      "source": [
        "trainpred = model.predict(xtrain)\n",
        "testpred = model.predict(xtest)"
      ]
    },
    {
      "cell_type": "code",
      "execution_count": null,
      "metadata": {
        "colab": {
          "base_uri": "https://localhost:8080/"
        },
        "id": "1EZcVnLcr9cy",
        "outputId": "efc4f0fa-a1df-4812-b665-151ee83f08c1"
      },
      "outputs": [
        {
          "output_type": "execute_result",
          "data": {
            "text/plain": [
              "0.0"
            ]
          },
          "metadata": {},
          "execution_count": 30
        }
      ],
      "source": [
        "from sklearn.metrics import mean_squared_error\n",
        "mse_train = mean_squared_error(ytrain,trainpred)\n",
        "mse_train"
      ]
    },
    {
      "cell_type": "code",
      "execution_count": null,
      "metadata": {
        "colab": {
          "base_uri": "https://localhost:8080/"
        },
        "id": "X0BqwQhmsJN8",
        "outputId": "ae352a84-1234-4e53-80b0-85f711a84468"
      },
      "outputs": [
        {
          "output_type": "execute_result",
          "data": {
            "text/plain": [
              "1.9905622908879017"
            ]
          },
          "metadata": {},
          "execution_count": 31
        }
      ],
      "source": [
        "mse_test = mean_squared_error(ytest,testpred)\n",
        "mse_test"
      ]
    },
    {
      "cell_type": "code",
      "source": [
        "models.append(\"DecisionTree\")\n",
        "training_errors.append(mse_train)\n",
        "testing_errors.append(mse_test)"
      ],
      "metadata": {
        "id": "i2tEKnc3_foC"
      },
      "execution_count": null,
      "outputs": []
    },
    {
      "cell_type": "markdown",
      "metadata": {
        "id": "AAPS3vDEKzfl"
      },
      "source": [
        "## LASSO REGRESSION"
      ]
    },
    {
      "cell_type": "code",
      "execution_count": null,
      "metadata": {
        "colab": {
          "base_uri": "https://localhost:8080/",
          "height": 74
        },
        "id": "ZZRl-ir7sf5t",
        "outputId": "bb5294a4-c8e1-4861-b101-6d6b00c6179b"
      },
      "outputs": [
        {
          "output_type": "execute_result",
          "data": {
            "text/plain": [
              "Lasso()"
            ],
            "text/html": [
              "<style>#sk-container-id-3 {color: black;}#sk-container-id-3 pre{padding: 0;}#sk-container-id-3 div.sk-toggleable {background-color: white;}#sk-container-id-3 label.sk-toggleable__label {cursor: pointer;display: block;width: 100%;margin-bottom: 0;padding: 0.3em;box-sizing: border-box;text-align: center;}#sk-container-id-3 label.sk-toggleable__label-arrow:before {content: \"▸\";float: left;margin-right: 0.25em;color: #696969;}#sk-container-id-3 label.sk-toggleable__label-arrow:hover:before {color: black;}#sk-container-id-3 div.sk-estimator:hover label.sk-toggleable__label-arrow:before {color: black;}#sk-container-id-3 div.sk-toggleable__content {max-height: 0;max-width: 0;overflow: hidden;text-align: left;background-color: #f0f8ff;}#sk-container-id-3 div.sk-toggleable__content pre {margin: 0.2em;color: black;border-radius: 0.25em;background-color: #f0f8ff;}#sk-container-id-3 input.sk-toggleable__control:checked~div.sk-toggleable__content {max-height: 200px;max-width: 100%;overflow: auto;}#sk-container-id-3 input.sk-toggleable__control:checked~label.sk-toggleable__label-arrow:before {content: \"▾\";}#sk-container-id-3 div.sk-estimator input.sk-toggleable__control:checked~label.sk-toggleable__label {background-color: #d4ebff;}#sk-container-id-3 div.sk-label input.sk-toggleable__control:checked~label.sk-toggleable__label {background-color: #d4ebff;}#sk-container-id-3 input.sk-hidden--visually {border: 0;clip: rect(1px 1px 1px 1px);clip: rect(1px, 1px, 1px, 1px);height: 1px;margin: -1px;overflow: hidden;padding: 0;position: absolute;width: 1px;}#sk-container-id-3 div.sk-estimator {font-family: monospace;background-color: #f0f8ff;border: 1px dotted black;border-radius: 0.25em;box-sizing: border-box;margin-bottom: 0.5em;}#sk-container-id-3 div.sk-estimator:hover {background-color: #d4ebff;}#sk-container-id-3 div.sk-parallel-item::after {content: \"\";width: 100%;border-bottom: 1px solid gray;flex-grow: 1;}#sk-container-id-3 div.sk-label:hover label.sk-toggleable__label {background-color: #d4ebff;}#sk-container-id-3 div.sk-serial::before {content: \"\";position: absolute;border-left: 1px solid gray;box-sizing: border-box;top: 0;bottom: 0;left: 50%;z-index: 0;}#sk-container-id-3 div.sk-serial {display: flex;flex-direction: column;align-items: center;background-color: white;padding-right: 0.2em;padding-left: 0.2em;position: relative;}#sk-container-id-3 div.sk-item {position: relative;z-index: 1;}#sk-container-id-3 div.sk-parallel {display: flex;align-items: stretch;justify-content: center;background-color: white;position: relative;}#sk-container-id-3 div.sk-item::before, #sk-container-id-3 div.sk-parallel-item::before {content: \"\";position: absolute;border-left: 1px solid gray;box-sizing: border-box;top: 0;bottom: 0;left: 50%;z-index: -1;}#sk-container-id-3 div.sk-parallel-item {display: flex;flex-direction: column;z-index: 1;position: relative;background-color: white;}#sk-container-id-3 div.sk-parallel-item:first-child::after {align-self: flex-end;width: 50%;}#sk-container-id-3 div.sk-parallel-item:last-child::after {align-self: flex-start;width: 50%;}#sk-container-id-3 div.sk-parallel-item:only-child::after {width: 0;}#sk-container-id-3 div.sk-dashed-wrapped {border: 1px dashed gray;margin: 0 0.4em 0.5em 0.4em;box-sizing: border-box;padding-bottom: 0.4em;background-color: white;}#sk-container-id-3 div.sk-label label {font-family: monospace;font-weight: bold;display: inline-block;line-height: 1.2em;}#sk-container-id-3 div.sk-label-container {text-align: center;}#sk-container-id-3 div.sk-container {/* jupyter's `normalize.less` sets `[hidden] { display: none; }` but bootstrap.min.css set `[hidden] { display: none !important; }` so we also need the `!important` here to be able to override the default hidden behavior on the sphinx rendered scikit-learn.org. See: https://github.com/scikit-learn/scikit-learn/issues/21755 */display: inline-block !important;position: relative;}#sk-container-id-3 div.sk-text-repr-fallback {display: none;}</style><div id=\"sk-container-id-3\" class=\"sk-top-container\"><div class=\"sk-text-repr-fallback\"><pre>Lasso()</pre><b>In a Jupyter environment, please rerun this cell to show the HTML representation or trust the notebook. <br />On GitHub, the HTML representation is unable to render, please try loading this page with nbviewer.org.</b></div><div class=\"sk-container\" hidden><div class=\"sk-item\"><div class=\"sk-estimator sk-toggleable\"><input class=\"sk-toggleable__control sk-hidden--visually\" id=\"sk-estimator-id-3\" type=\"checkbox\" checked><label for=\"sk-estimator-id-3\" class=\"sk-toggleable__label sk-toggleable__label-arrow\">Lasso</label><div class=\"sk-toggleable__content\"><pre>Lasso()</pre></div></div></div></div></div>"
            ]
          },
          "metadata": {},
          "execution_count": 33
        }
      ],
      "source": [
        "from sklearn.linear_model import Lasso\n",
        "model = Lasso()\n",
        "model.fit(xtrain,ytrain)"
      ]
    },
    {
      "cell_type": "code",
      "execution_count": null,
      "metadata": {
        "id": "a9C1MiEJxloF"
      },
      "outputs": [],
      "source": [
        "trainpred = model.predict(xtrain)\n",
        "testpred = model.predict(xtest)"
      ]
    },
    {
      "cell_type": "code",
      "execution_count": null,
      "metadata": {
        "colab": {
          "base_uri": "https://localhost:8080/"
        },
        "id": "Ve3fYpa5veFE",
        "outputId": "3a4ed83a-ead5-4b81-8aeb-20ad044d2ffd"
      },
      "outputs": [
        {
          "output_type": "execute_result",
          "data": {
            "text/plain": [
              "1.0060702866980245"
            ]
          },
          "metadata": {},
          "execution_count": 35
        }
      ],
      "source": [
        "from sklearn.metrics import mean_squared_error\n",
        "mse_train = mean_squared_error(ytrain,trainpred)\n",
        "mse_train"
      ]
    },
    {
      "cell_type": "code",
      "execution_count": null,
      "metadata": {
        "colab": {
          "base_uri": "https://localhost:8080/"
        },
        "id": "i4e_iqKJviim",
        "outputId": "50a7c3d2-76c6-4f77-afdf-a40bd68016cb"
      },
      "outputs": [
        {
          "output_type": "execute_result",
          "data": {
            "text/plain": [
              "0.975539652042379"
            ]
          },
          "metadata": {},
          "execution_count": 36
        }
      ],
      "source": [
        "mse_test = mean_squared_error(ytest,testpred)\n",
        "mse_test"
      ]
    },
    {
      "cell_type": "code",
      "source": [
        "models.append(\"Lasso\")\n",
        "training_errors.append(mse_train)\n",
        "testing_errors.append(mse_test)"
      ],
      "metadata": {
        "id": "oQs4BCea_tfo"
      },
      "execution_count": null,
      "outputs": []
    },
    {
      "cell_type": "markdown",
      "metadata": {
        "id": "rrWXeHg0K4y5"
      },
      "source": [
        "## RIDGE REGRESSION"
      ]
    },
    {
      "cell_type": "code",
      "execution_count": null,
      "metadata": {
        "colab": {
          "base_uri": "https://localhost:8080/",
          "height": 74
        },
        "id": "mcXt9qbGwGw9",
        "outputId": "15b37a6d-dea6-4021-d492-92311b835aaf"
      },
      "outputs": [
        {
          "output_type": "execute_result",
          "data": {
            "text/plain": [
              "Ridge()"
            ],
            "text/html": [
              "<style>#sk-container-id-4 {color: black;}#sk-container-id-4 pre{padding: 0;}#sk-container-id-4 div.sk-toggleable {background-color: white;}#sk-container-id-4 label.sk-toggleable__label {cursor: pointer;display: block;width: 100%;margin-bottom: 0;padding: 0.3em;box-sizing: border-box;text-align: center;}#sk-container-id-4 label.sk-toggleable__label-arrow:before {content: \"▸\";float: left;margin-right: 0.25em;color: #696969;}#sk-container-id-4 label.sk-toggleable__label-arrow:hover:before {color: black;}#sk-container-id-4 div.sk-estimator:hover label.sk-toggleable__label-arrow:before {color: black;}#sk-container-id-4 div.sk-toggleable__content {max-height: 0;max-width: 0;overflow: hidden;text-align: left;background-color: #f0f8ff;}#sk-container-id-4 div.sk-toggleable__content pre {margin: 0.2em;color: black;border-radius: 0.25em;background-color: #f0f8ff;}#sk-container-id-4 input.sk-toggleable__control:checked~div.sk-toggleable__content {max-height: 200px;max-width: 100%;overflow: auto;}#sk-container-id-4 input.sk-toggleable__control:checked~label.sk-toggleable__label-arrow:before {content: \"▾\";}#sk-container-id-4 div.sk-estimator input.sk-toggleable__control:checked~label.sk-toggleable__label {background-color: #d4ebff;}#sk-container-id-4 div.sk-label input.sk-toggleable__control:checked~label.sk-toggleable__label {background-color: #d4ebff;}#sk-container-id-4 input.sk-hidden--visually {border: 0;clip: rect(1px 1px 1px 1px);clip: rect(1px, 1px, 1px, 1px);height: 1px;margin: -1px;overflow: hidden;padding: 0;position: absolute;width: 1px;}#sk-container-id-4 div.sk-estimator {font-family: monospace;background-color: #f0f8ff;border: 1px dotted black;border-radius: 0.25em;box-sizing: border-box;margin-bottom: 0.5em;}#sk-container-id-4 div.sk-estimator:hover {background-color: #d4ebff;}#sk-container-id-4 div.sk-parallel-item::after {content: \"\";width: 100%;border-bottom: 1px solid gray;flex-grow: 1;}#sk-container-id-4 div.sk-label:hover label.sk-toggleable__label {background-color: #d4ebff;}#sk-container-id-4 div.sk-serial::before {content: \"\";position: absolute;border-left: 1px solid gray;box-sizing: border-box;top: 0;bottom: 0;left: 50%;z-index: 0;}#sk-container-id-4 div.sk-serial {display: flex;flex-direction: column;align-items: center;background-color: white;padding-right: 0.2em;padding-left: 0.2em;position: relative;}#sk-container-id-4 div.sk-item {position: relative;z-index: 1;}#sk-container-id-4 div.sk-parallel {display: flex;align-items: stretch;justify-content: center;background-color: white;position: relative;}#sk-container-id-4 div.sk-item::before, #sk-container-id-4 div.sk-parallel-item::before {content: \"\";position: absolute;border-left: 1px solid gray;box-sizing: border-box;top: 0;bottom: 0;left: 50%;z-index: -1;}#sk-container-id-4 div.sk-parallel-item {display: flex;flex-direction: column;z-index: 1;position: relative;background-color: white;}#sk-container-id-4 div.sk-parallel-item:first-child::after {align-self: flex-end;width: 50%;}#sk-container-id-4 div.sk-parallel-item:last-child::after {align-self: flex-start;width: 50%;}#sk-container-id-4 div.sk-parallel-item:only-child::after {width: 0;}#sk-container-id-4 div.sk-dashed-wrapped {border: 1px dashed gray;margin: 0 0.4em 0.5em 0.4em;box-sizing: border-box;padding-bottom: 0.4em;background-color: white;}#sk-container-id-4 div.sk-label label {font-family: monospace;font-weight: bold;display: inline-block;line-height: 1.2em;}#sk-container-id-4 div.sk-label-container {text-align: center;}#sk-container-id-4 div.sk-container {/* jupyter's `normalize.less` sets `[hidden] { display: none; }` but bootstrap.min.css set `[hidden] { display: none !important; }` so we also need the `!important` here to be able to override the default hidden behavior on the sphinx rendered scikit-learn.org. See: https://github.com/scikit-learn/scikit-learn/issues/21755 */display: inline-block !important;position: relative;}#sk-container-id-4 div.sk-text-repr-fallback {display: none;}</style><div id=\"sk-container-id-4\" class=\"sk-top-container\"><div class=\"sk-text-repr-fallback\"><pre>Ridge()</pre><b>In a Jupyter environment, please rerun this cell to show the HTML representation or trust the notebook. <br />On GitHub, the HTML representation is unable to render, please try loading this page with nbviewer.org.</b></div><div class=\"sk-container\" hidden><div class=\"sk-item\"><div class=\"sk-estimator sk-toggleable\"><input class=\"sk-toggleable__control sk-hidden--visually\" id=\"sk-estimator-id-4\" type=\"checkbox\" checked><label for=\"sk-estimator-id-4\" class=\"sk-toggleable__label sk-toggleable__label-arrow\">Ridge</label><div class=\"sk-toggleable__content\"><pre>Ridge()</pre></div></div></div></div></div>"
            ]
          },
          "metadata": {},
          "execution_count": 38
        }
      ],
      "source": [
        "from sklearn.linear_model import Ridge\n",
        "model = Ridge()\n",
        "model.fit(xtrain,ytrain)"
      ]
    },
    {
      "cell_type": "code",
      "execution_count": null,
      "metadata": {
        "id": "T4M9hb5XyC6S"
      },
      "outputs": [],
      "source": [
        "trainpred = model.predict(xtrain)\n",
        "testpred = model.predict(xtest)"
      ]
    },
    {
      "cell_type": "code",
      "execution_count": null,
      "metadata": {
        "colab": {
          "base_uri": "https://localhost:8080/"
        },
        "id": "fL4HNvLDwdTh",
        "outputId": "6760d248-bee9-4a22-fd37-96649f2587a3"
      },
      "outputs": [
        {
          "output_type": "execute_result",
          "data": {
            "text/plain": [
              "1.0008690402224898"
            ]
          },
          "metadata": {},
          "execution_count": 40
        }
      ],
      "source": [
        "from sklearn.metrics import mean_squared_error\n",
        "mse_train = mean_squared_error(ytrain,trainpred)\n",
        "mse_train"
      ]
    },
    {
      "cell_type": "code",
      "execution_count": null,
      "metadata": {
        "colab": {
          "base_uri": "https://localhost:8080/"
        },
        "id": "8yv34XoSwiPw",
        "outputId": "2dd442bd-1761-493e-b980-a01e8eed0085"
      },
      "outputs": [
        {
          "output_type": "execute_result",
          "data": {
            "text/plain": [
              "0.9802389166281212"
            ]
          },
          "metadata": {},
          "execution_count": 41
        }
      ],
      "source": [
        "mse_test = mean_squared_error(ytest,testpred)\n",
        "mse_test"
      ]
    },
    {
      "cell_type": "code",
      "source": [
        "models.append(\"Ridge\")\n",
        "training_errors.append(mse_train)\n",
        "testing_errors.append(mse_test)"
      ],
      "metadata": {
        "id": "knmn0R-I_5gj"
      },
      "execution_count": null,
      "outputs": []
    },
    {
      "cell_type": "markdown",
      "metadata": {
        "id": "f_MInWXrK--f"
      },
      "source": [
        "## ELASTICNET REGRESSION"
      ]
    },
    {
      "cell_type": "code",
      "execution_count": null,
      "metadata": {
        "colab": {
          "base_uri": "https://localhost:8080/",
          "height": 74
        },
        "id": "ep-u-J4lyRPk",
        "outputId": "8023b3a0-cc02-4686-edea-117b16170600"
      },
      "outputs": [
        {
          "output_type": "execute_result",
          "data": {
            "text/plain": [
              "ElasticNet()"
            ],
            "text/html": [
              "<style>#sk-container-id-5 {color: black;}#sk-container-id-5 pre{padding: 0;}#sk-container-id-5 div.sk-toggleable {background-color: white;}#sk-container-id-5 label.sk-toggleable__label {cursor: pointer;display: block;width: 100%;margin-bottom: 0;padding: 0.3em;box-sizing: border-box;text-align: center;}#sk-container-id-5 label.sk-toggleable__label-arrow:before {content: \"▸\";float: left;margin-right: 0.25em;color: #696969;}#sk-container-id-5 label.sk-toggleable__label-arrow:hover:before {color: black;}#sk-container-id-5 div.sk-estimator:hover label.sk-toggleable__label-arrow:before {color: black;}#sk-container-id-5 div.sk-toggleable__content {max-height: 0;max-width: 0;overflow: hidden;text-align: left;background-color: #f0f8ff;}#sk-container-id-5 div.sk-toggleable__content pre {margin: 0.2em;color: black;border-radius: 0.25em;background-color: #f0f8ff;}#sk-container-id-5 input.sk-toggleable__control:checked~div.sk-toggleable__content {max-height: 200px;max-width: 100%;overflow: auto;}#sk-container-id-5 input.sk-toggleable__control:checked~label.sk-toggleable__label-arrow:before {content: \"▾\";}#sk-container-id-5 div.sk-estimator input.sk-toggleable__control:checked~label.sk-toggleable__label {background-color: #d4ebff;}#sk-container-id-5 div.sk-label input.sk-toggleable__control:checked~label.sk-toggleable__label {background-color: #d4ebff;}#sk-container-id-5 input.sk-hidden--visually {border: 0;clip: rect(1px 1px 1px 1px);clip: rect(1px, 1px, 1px, 1px);height: 1px;margin: -1px;overflow: hidden;padding: 0;position: absolute;width: 1px;}#sk-container-id-5 div.sk-estimator {font-family: monospace;background-color: #f0f8ff;border: 1px dotted black;border-radius: 0.25em;box-sizing: border-box;margin-bottom: 0.5em;}#sk-container-id-5 div.sk-estimator:hover {background-color: #d4ebff;}#sk-container-id-5 div.sk-parallel-item::after {content: \"\";width: 100%;border-bottom: 1px solid gray;flex-grow: 1;}#sk-container-id-5 div.sk-label:hover label.sk-toggleable__label {background-color: #d4ebff;}#sk-container-id-5 div.sk-serial::before {content: \"\";position: absolute;border-left: 1px solid gray;box-sizing: border-box;top: 0;bottom: 0;left: 50%;z-index: 0;}#sk-container-id-5 div.sk-serial {display: flex;flex-direction: column;align-items: center;background-color: white;padding-right: 0.2em;padding-left: 0.2em;position: relative;}#sk-container-id-5 div.sk-item {position: relative;z-index: 1;}#sk-container-id-5 div.sk-parallel {display: flex;align-items: stretch;justify-content: center;background-color: white;position: relative;}#sk-container-id-5 div.sk-item::before, #sk-container-id-5 div.sk-parallel-item::before {content: \"\";position: absolute;border-left: 1px solid gray;box-sizing: border-box;top: 0;bottom: 0;left: 50%;z-index: -1;}#sk-container-id-5 div.sk-parallel-item {display: flex;flex-direction: column;z-index: 1;position: relative;background-color: white;}#sk-container-id-5 div.sk-parallel-item:first-child::after {align-self: flex-end;width: 50%;}#sk-container-id-5 div.sk-parallel-item:last-child::after {align-self: flex-start;width: 50%;}#sk-container-id-5 div.sk-parallel-item:only-child::after {width: 0;}#sk-container-id-5 div.sk-dashed-wrapped {border: 1px dashed gray;margin: 0 0.4em 0.5em 0.4em;box-sizing: border-box;padding-bottom: 0.4em;background-color: white;}#sk-container-id-5 div.sk-label label {font-family: monospace;font-weight: bold;display: inline-block;line-height: 1.2em;}#sk-container-id-5 div.sk-label-container {text-align: center;}#sk-container-id-5 div.sk-container {/* jupyter's `normalize.less` sets `[hidden] { display: none; }` but bootstrap.min.css set `[hidden] { display: none !important; }` so we also need the `!important` here to be able to override the default hidden behavior on the sphinx rendered scikit-learn.org. See: https://github.com/scikit-learn/scikit-learn/issues/21755 */display: inline-block !important;position: relative;}#sk-container-id-5 div.sk-text-repr-fallback {display: none;}</style><div id=\"sk-container-id-5\" class=\"sk-top-container\"><div class=\"sk-text-repr-fallback\"><pre>ElasticNet()</pre><b>In a Jupyter environment, please rerun this cell to show the HTML representation or trust the notebook. <br />On GitHub, the HTML representation is unable to render, please try loading this page with nbviewer.org.</b></div><div class=\"sk-container\" hidden><div class=\"sk-item\"><div class=\"sk-estimator sk-toggleable\"><input class=\"sk-toggleable__control sk-hidden--visually\" id=\"sk-estimator-id-5\" type=\"checkbox\" checked><label for=\"sk-estimator-id-5\" class=\"sk-toggleable__label sk-toggleable__label-arrow\">ElasticNet</label><div class=\"sk-toggleable__content\"><pre>ElasticNet()</pre></div></div></div></div></div>"
            ]
          },
          "metadata": {},
          "execution_count": 43
        }
      ],
      "source": [
        "from sklearn.linear_model import ElasticNet\n",
        "model =ElasticNet()\n",
        "model.fit(xtrain,ytrain)"
      ]
    },
    {
      "cell_type": "code",
      "execution_count": null,
      "metadata": {
        "id": "k4WOIvHZ0LM9"
      },
      "outputs": [],
      "source": [
        "trainpred =model.predict(xtrain)\n",
        "testpred = model.predict(xtest)"
      ]
    },
    {
      "cell_type": "code",
      "execution_count": null,
      "metadata": {
        "colab": {
          "base_uri": "https://localhost:8080/"
        },
        "id": "WopNmIMb0z2l",
        "outputId": "f18b6378-a50b-40d3-917c-93c86f8b4cf8"
      },
      "outputs": [
        {
          "output_type": "execute_result",
          "data": {
            "text/plain": [
              "1.0058983771353958"
            ]
          },
          "metadata": {},
          "execution_count": 45
        }
      ],
      "source": [
        "from sklearn.metrics import mean_squared_error\n",
        "mse_train = mean_squared_error(ytrain,trainpred)\n",
        "mse_train\n",
        "\n"
      ]
    },
    {
      "cell_type": "code",
      "execution_count": null,
      "metadata": {
        "colab": {
          "base_uri": "https://localhost:8080/"
        },
        "id": "laJpR0TR087g",
        "outputId": "dc123536-445a-405f-9e53-5d98b26a3665"
      },
      "outputs": [
        {
          "output_type": "execute_result",
          "data": {
            "text/plain": [
              "0.9772072419667011"
            ]
          },
          "metadata": {},
          "execution_count": 46
        }
      ],
      "source": [
        "mse_test = mean_squared_error(ytest,testpred)\n",
        "mse_test"
      ]
    },
    {
      "cell_type": "code",
      "source": [
        "models.append(\"ElasticNet\")\n",
        "training_errors.append(mse_train)\n",
        "testing_errors.append(mse_test)"
      ],
      "metadata": {
        "id": "mWZWs3eFAn1F"
      },
      "execution_count": null,
      "outputs": []
    },
    {
      "cell_type": "markdown",
      "metadata": {
        "id": "IFS7fEi-1qps"
      },
      "source": [
        "## KNN"
      ]
    },
    {
      "cell_type": "code",
      "execution_count": null,
      "metadata": {
        "colab": {
          "base_uri": "https://localhost:8080/",
          "height": 74
        },
        "id": "KKvKx5ew1FW5",
        "outputId": "bed36e37-a42f-4ad8-cf8e-e9ff85031d05"
      },
      "outputs": [
        {
          "output_type": "execute_result",
          "data": {
            "text/plain": [
              "KNeighborsRegressor(n_neighbors=2)"
            ],
            "text/html": [
              "<style>#sk-container-id-6 {color: black;}#sk-container-id-6 pre{padding: 0;}#sk-container-id-6 div.sk-toggleable {background-color: white;}#sk-container-id-6 label.sk-toggleable__label {cursor: pointer;display: block;width: 100%;margin-bottom: 0;padding: 0.3em;box-sizing: border-box;text-align: center;}#sk-container-id-6 label.sk-toggleable__label-arrow:before {content: \"▸\";float: left;margin-right: 0.25em;color: #696969;}#sk-container-id-6 label.sk-toggleable__label-arrow:hover:before {color: black;}#sk-container-id-6 div.sk-estimator:hover label.sk-toggleable__label-arrow:before {color: black;}#sk-container-id-6 div.sk-toggleable__content {max-height: 0;max-width: 0;overflow: hidden;text-align: left;background-color: #f0f8ff;}#sk-container-id-6 div.sk-toggleable__content pre {margin: 0.2em;color: black;border-radius: 0.25em;background-color: #f0f8ff;}#sk-container-id-6 input.sk-toggleable__control:checked~div.sk-toggleable__content {max-height: 200px;max-width: 100%;overflow: auto;}#sk-container-id-6 input.sk-toggleable__control:checked~label.sk-toggleable__label-arrow:before {content: \"▾\";}#sk-container-id-6 div.sk-estimator input.sk-toggleable__control:checked~label.sk-toggleable__label {background-color: #d4ebff;}#sk-container-id-6 div.sk-label input.sk-toggleable__control:checked~label.sk-toggleable__label {background-color: #d4ebff;}#sk-container-id-6 input.sk-hidden--visually {border: 0;clip: rect(1px 1px 1px 1px);clip: rect(1px, 1px, 1px, 1px);height: 1px;margin: -1px;overflow: hidden;padding: 0;position: absolute;width: 1px;}#sk-container-id-6 div.sk-estimator {font-family: monospace;background-color: #f0f8ff;border: 1px dotted black;border-radius: 0.25em;box-sizing: border-box;margin-bottom: 0.5em;}#sk-container-id-6 div.sk-estimator:hover {background-color: #d4ebff;}#sk-container-id-6 div.sk-parallel-item::after {content: \"\";width: 100%;border-bottom: 1px solid gray;flex-grow: 1;}#sk-container-id-6 div.sk-label:hover label.sk-toggleable__label {background-color: #d4ebff;}#sk-container-id-6 div.sk-serial::before {content: \"\";position: absolute;border-left: 1px solid gray;box-sizing: border-box;top: 0;bottom: 0;left: 50%;z-index: 0;}#sk-container-id-6 div.sk-serial {display: flex;flex-direction: column;align-items: center;background-color: white;padding-right: 0.2em;padding-left: 0.2em;position: relative;}#sk-container-id-6 div.sk-item {position: relative;z-index: 1;}#sk-container-id-6 div.sk-parallel {display: flex;align-items: stretch;justify-content: center;background-color: white;position: relative;}#sk-container-id-6 div.sk-item::before, #sk-container-id-6 div.sk-parallel-item::before {content: \"\";position: absolute;border-left: 1px solid gray;box-sizing: border-box;top: 0;bottom: 0;left: 50%;z-index: -1;}#sk-container-id-6 div.sk-parallel-item {display: flex;flex-direction: column;z-index: 1;position: relative;background-color: white;}#sk-container-id-6 div.sk-parallel-item:first-child::after {align-self: flex-end;width: 50%;}#sk-container-id-6 div.sk-parallel-item:last-child::after {align-self: flex-start;width: 50%;}#sk-container-id-6 div.sk-parallel-item:only-child::after {width: 0;}#sk-container-id-6 div.sk-dashed-wrapped {border: 1px dashed gray;margin: 0 0.4em 0.5em 0.4em;box-sizing: border-box;padding-bottom: 0.4em;background-color: white;}#sk-container-id-6 div.sk-label label {font-family: monospace;font-weight: bold;display: inline-block;line-height: 1.2em;}#sk-container-id-6 div.sk-label-container {text-align: center;}#sk-container-id-6 div.sk-container {/* jupyter's `normalize.less` sets `[hidden] { display: none; }` but bootstrap.min.css set `[hidden] { display: none !important; }` so we also need the `!important` here to be able to override the default hidden behavior on the sphinx rendered scikit-learn.org. See: https://github.com/scikit-learn/scikit-learn/issues/21755 */display: inline-block !important;position: relative;}#sk-container-id-6 div.sk-text-repr-fallback {display: none;}</style><div id=\"sk-container-id-6\" class=\"sk-top-container\"><div class=\"sk-text-repr-fallback\"><pre>KNeighborsRegressor(n_neighbors=2)</pre><b>In a Jupyter environment, please rerun this cell to show the HTML representation or trust the notebook. <br />On GitHub, the HTML representation is unable to render, please try loading this page with nbviewer.org.</b></div><div class=\"sk-container\" hidden><div class=\"sk-item\"><div class=\"sk-estimator sk-toggleable\"><input class=\"sk-toggleable__control sk-hidden--visually\" id=\"sk-estimator-id-6\" type=\"checkbox\" checked><label for=\"sk-estimator-id-6\" class=\"sk-toggleable__label sk-toggleable__label-arrow\">KNeighborsRegressor</label><div class=\"sk-toggleable__content\"><pre>KNeighborsRegressor(n_neighbors=2)</pre></div></div></div></div></div>"
            ]
          },
          "metadata": {},
          "execution_count": 48
        }
      ],
      "source": [
        "from sklearn.neighbors import KNeighborsRegressor\n",
        "model = KNeighborsRegressor(n_neighbors=2)\n",
        "model.fit(xtrain,ytrain)"
      ]
    },
    {
      "cell_type": "code",
      "execution_count": null,
      "metadata": {
        "id": "2bEexVKl18Pd"
      },
      "outputs": [],
      "source": [
        "trainpred = model.predict(xtrain)\n",
        "testpred = model.predict(xtest)"
      ]
    },
    {
      "cell_type": "code",
      "execution_count": null,
      "metadata": {
        "colab": {
          "base_uri": "https://localhost:8080/"
        },
        "id": "KbXJH_lk2ih-",
        "outputId": "bd843b54-740b-43b9-a092-0bb017045b36"
      },
      "outputs": [
        {
          "output_type": "execute_result",
          "data": {
            "text/plain": [
              "0.5472647279858546"
            ]
          },
          "metadata": {},
          "execution_count": 50
        }
      ],
      "source": [
        "from sklearn.metrics import mean_squared_error\n",
        "mse_train = mean_squared_error(ytrain,trainpred)\n",
        "mse_train\n"
      ]
    },
    {
      "cell_type": "code",
      "execution_count": null,
      "metadata": {
        "colab": {
          "base_uri": "https://localhost:8080/"
        },
        "id": "ktYfK9JC2o1h",
        "outputId": "184ea977-0dd4-4fb1-b25d-8a9bf1b0c5f2"
      },
      "outputs": [
        {
          "output_type": "execute_result",
          "data": {
            "text/plain": [
              "1.4824186298680457"
            ]
          },
          "metadata": {},
          "execution_count": 51
        }
      ],
      "source": [
        "mse_test = mean_squared_error(ytest,testpred)\n",
        "mse_test"
      ]
    },
    {
      "cell_type": "code",
      "source": [
        "models.append(\"KneighborsRegressor\")\n",
        "training_errors.append(mse_train)\n",
        "testing_errors.append(mse_test)"
      ],
      "metadata": {
        "id": "PjxaEofXA1r6"
      },
      "execution_count": null,
      "outputs": []
    },
    {
      "cell_type": "code",
      "execution_count": null,
      "metadata": {
        "colab": {
          "base_uri": "https://localhost:8080/",
          "height": 74
        },
        "id": "VWzDZDPd3AtI",
        "outputId": "323cecc2-b896-4935-9537-5c437fa4ef4e"
      },
      "outputs": [
        {
          "output_type": "execute_result",
          "data": {
            "text/plain": [
              "KNeighborsRegressor()"
            ],
            "text/html": [
              "<style>#sk-container-id-7 {color: black;}#sk-container-id-7 pre{padding: 0;}#sk-container-id-7 div.sk-toggleable {background-color: white;}#sk-container-id-7 label.sk-toggleable__label {cursor: pointer;display: block;width: 100%;margin-bottom: 0;padding: 0.3em;box-sizing: border-box;text-align: center;}#sk-container-id-7 label.sk-toggleable__label-arrow:before {content: \"▸\";float: left;margin-right: 0.25em;color: #696969;}#sk-container-id-7 label.sk-toggleable__label-arrow:hover:before {color: black;}#sk-container-id-7 div.sk-estimator:hover label.sk-toggleable__label-arrow:before {color: black;}#sk-container-id-7 div.sk-toggleable__content {max-height: 0;max-width: 0;overflow: hidden;text-align: left;background-color: #f0f8ff;}#sk-container-id-7 div.sk-toggleable__content pre {margin: 0.2em;color: black;border-radius: 0.25em;background-color: #f0f8ff;}#sk-container-id-7 input.sk-toggleable__control:checked~div.sk-toggleable__content {max-height: 200px;max-width: 100%;overflow: auto;}#sk-container-id-7 input.sk-toggleable__control:checked~label.sk-toggleable__label-arrow:before {content: \"▾\";}#sk-container-id-7 div.sk-estimator input.sk-toggleable__control:checked~label.sk-toggleable__label {background-color: #d4ebff;}#sk-container-id-7 div.sk-label input.sk-toggleable__control:checked~label.sk-toggleable__label {background-color: #d4ebff;}#sk-container-id-7 input.sk-hidden--visually {border: 0;clip: rect(1px 1px 1px 1px);clip: rect(1px, 1px, 1px, 1px);height: 1px;margin: -1px;overflow: hidden;padding: 0;position: absolute;width: 1px;}#sk-container-id-7 div.sk-estimator {font-family: monospace;background-color: #f0f8ff;border: 1px dotted black;border-radius: 0.25em;box-sizing: border-box;margin-bottom: 0.5em;}#sk-container-id-7 div.sk-estimator:hover {background-color: #d4ebff;}#sk-container-id-7 div.sk-parallel-item::after {content: \"\";width: 100%;border-bottom: 1px solid gray;flex-grow: 1;}#sk-container-id-7 div.sk-label:hover label.sk-toggleable__label {background-color: #d4ebff;}#sk-container-id-7 div.sk-serial::before {content: \"\";position: absolute;border-left: 1px solid gray;box-sizing: border-box;top: 0;bottom: 0;left: 50%;z-index: 0;}#sk-container-id-7 div.sk-serial {display: flex;flex-direction: column;align-items: center;background-color: white;padding-right: 0.2em;padding-left: 0.2em;position: relative;}#sk-container-id-7 div.sk-item {position: relative;z-index: 1;}#sk-container-id-7 div.sk-parallel {display: flex;align-items: stretch;justify-content: center;background-color: white;position: relative;}#sk-container-id-7 div.sk-item::before, #sk-container-id-7 div.sk-parallel-item::before {content: \"\";position: absolute;border-left: 1px solid gray;box-sizing: border-box;top: 0;bottom: 0;left: 50%;z-index: -1;}#sk-container-id-7 div.sk-parallel-item {display: flex;flex-direction: column;z-index: 1;position: relative;background-color: white;}#sk-container-id-7 div.sk-parallel-item:first-child::after {align-self: flex-end;width: 50%;}#sk-container-id-7 div.sk-parallel-item:last-child::after {align-self: flex-start;width: 50%;}#sk-container-id-7 div.sk-parallel-item:only-child::after {width: 0;}#sk-container-id-7 div.sk-dashed-wrapped {border: 1px dashed gray;margin: 0 0.4em 0.5em 0.4em;box-sizing: border-box;padding-bottom: 0.4em;background-color: white;}#sk-container-id-7 div.sk-label label {font-family: monospace;font-weight: bold;display: inline-block;line-height: 1.2em;}#sk-container-id-7 div.sk-label-container {text-align: center;}#sk-container-id-7 div.sk-container {/* jupyter's `normalize.less` sets `[hidden] { display: none; }` but bootstrap.min.css set `[hidden] { display: none !important; }` so we also need the `!important` here to be able to override the default hidden behavior on the sphinx rendered scikit-learn.org. See: https://github.com/scikit-learn/scikit-learn/issues/21755 */display: inline-block !important;position: relative;}#sk-container-id-7 div.sk-text-repr-fallback {display: none;}</style><div id=\"sk-container-id-7\" class=\"sk-top-container\"><div class=\"sk-text-repr-fallback\"><pre>KNeighborsRegressor()</pre><b>In a Jupyter environment, please rerun this cell to show the HTML representation or trust the notebook. <br />On GitHub, the HTML representation is unable to render, please try loading this page with nbviewer.org.</b></div><div class=\"sk-container\" hidden><div class=\"sk-item\"><div class=\"sk-estimator sk-toggleable\"><input class=\"sk-toggleable__control sk-hidden--visually\" id=\"sk-estimator-id-7\" type=\"checkbox\" checked><label for=\"sk-estimator-id-7\" class=\"sk-toggleable__label sk-toggleable__label-arrow\">KNeighborsRegressor</label><div class=\"sk-toggleable__content\"><pre>KNeighborsRegressor()</pre></div></div></div></div></div>"
            ]
          },
          "metadata": {},
          "execution_count": 53
        }
      ],
      "source": [
        "from sklearn.neighbors import KNeighborsRegressor\n",
        "model = KNeighborsRegressor(n_neighbors=5)\n",
        "model.fit(xtrain,ytrain)"
      ]
    },
    {
      "cell_type": "code",
      "execution_count": null,
      "metadata": {
        "id": "fHNqWh7D3FoA"
      },
      "outputs": [],
      "source": [
        "trainpred = model.predict(xtrain)\n",
        "testpred = model.predict(xtest)"
      ]
    },
    {
      "cell_type": "code",
      "execution_count": null,
      "metadata": {
        "colab": {
          "base_uri": "https://localhost:8080/"
        },
        "id": "WGCg8qzQ3PHV",
        "outputId": "43c89ef6-15d9-4bfb-f65c-db2a790171d3"
      },
      "outputs": [
        {
          "output_type": "execute_result",
          "data": {
            "text/plain": [
              "0.8090035176550282"
            ]
          },
          "metadata": {},
          "execution_count": 55
        }
      ],
      "source": [
        "from sklearn.metrics import mean_squared_error\n",
        "mse_train = mean_squared_error(ytrain,trainpred)\n",
        "mse_train"
      ]
    },
    {
      "cell_type": "code",
      "execution_count": null,
      "metadata": {
        "colab": {
          "base_uri": "https://localhost:8080/"
        },
        "id": "yHcmYss03Q6h",
        "outputId": "85082e22-ad3c-47c5-af08-ef9e7dfc418f"
      },
      "outputs": [
        {
          "output_type": "execute_result",
          "data": {
            "text/plain": [
              "1.2332392125455474"
            ]
          },
          "metadata": {},
          "execution_count": 56
        }
      ],
      "source": [
        "mse_test = mean_squared_error(ytest,testpred)\n",
        "mse_test"
      ]
    },
    {
      "cell_type": "code",
      "source": [
        "models.append(\"KneighborsRegressor\")\n",
        "training_errors.append(mse_train)\n",
        "testing_errors.append(mse_test)"
      ],
      "metadata": {
        "id": "EvC9OvMpBJen"
      },
      "execution_count": null,
      "outputs": []
    },
    {
      "cell_type": "code",
      "execution_count": null,
      "metadata": {
        "colab": {
          "base_uri": "https://localhost:8080/",
          "height": 74
        },
        "id": "NTIala-k3dvH",
        "outputId": "b5788e19-a6ea-45df-bc05-7c6ff009483a"
      },
      "outputs": [
        {
          "output_type": "execute_result",
          "data": {
            "text/plain": [
              "KNeighborsRegressor(n_neighbors=7)"
            ],
            "text/html": [
              "<style>#sk-container-id-8 {color: black;}#sk-container-id-8 pre{padding: 0;}#sk-container-id-8 div.sk-toggleable {background-color: white;}#sk-container-id-8 label.sk-toggleable__label {cursor: pointer;display: block;width: 100%;margin-bottom: 0;padding: 0.3em;box-sizing: border-box;text-align: center;}#sk-container-id-8 label.sk-toggleable__label-arrow:before {content: \"▸\";float: left;margin-right: 0.25em;color: #696969;}#sk-container-id-8 label.sk-toggleable__label-arrow:hover:before {color: black;}#sk-container-id-8 div.sk-estimator:hover label.sk-toggleable__label-arrow:before {color: black;}#sk-container-id-8 div.sk-toggleable__content {max-height: 0;max-width: 0;overflow: hidden;text-align: left;background-color: #f0f8ff;}#sk-container-id-8 div.sk-toggleable__content pre {margin: 0.2em;color: black;border-radius: 0.25em;background-color: #f0f8ff;}#sk-container-id-8 input.sk-toggleable__control:checked~div.sk-toggleable__content {max-height: 200px;max-width: 100%;overflow: auto;}#sk-container-id-8 input.sk-toggleable__control:checked~label.sk-toggleable__label-arrow:before {content: \"▾\";}#sk-container-id-8 div.sk-estimator input.sk-toggleable__control:checked~label.sk-toggleable__label {background-color: #d4ebff;}#sk-container-id-8 div.sk-label input.sk-toggleable__control:checked~label.sk-toggleable__label {background-color: #d4ebff;}#sk-container-id-8 input.sk-hidden--visually {border: 0;clip: rect(1px 1px 1px 1px);clip: rect(1px, 1px, 1px, 1px);height: 1px;margin: -1px;overflow: hidden;padding: 0;position: absolute;width: 1px;}#sk-container-id-8 div.sk-estimator {font-family: monospace;background-color: #f0f8ff;border: 1px dotted black;border-radius: 0.25em;box-sizing: border-box;margin-bottom: 0.5em;}#sk-container-id-8 div.sk-estimator:hover {background-color: #d4ebff;}#sk-container-id-8 div.sk-parallel-item::after {content: \"\";width: 100%;border-bottom: 1px solid gray;flex-grow: 1;}#sk-container-id-8 div.sk-label:hover label.sk-toggleable__label {background-color: #d4ebff;}#sk-container-id-8 div.sk-serial::before {content: \"\";position: absolute;border-left: 1px solid gray;box-sizing: border-box;top: 0;bottom: 0;left: 50%;z-index: 0;}#sk-container-id-8 div.sk-serial {display: flex;flex-direction: column;align-items: center;background-color: white;padding-right: 0.2em;padding-left: 0.2em;position: relative;}#sk-container-id-8 div.sk-item {position: relative;z-index: 1;}#sk-container-id-8 div.sk-parallel {display: flex;align-items: stretch;justify-content: center;background-color: white;position: relative;}#sk-container-id-8 div.sk-item::before, #sk-container-id-8 div.sk-parallel-item::before {content: \"\";position: absolute;border-left: 1px solid gray;box-sizing: border-box;top: 0;bottom: 0;left: 50%;z-index: -1;}#sk-container-id-8 div.sk-parallel-item {display: flex;flex-direction: column;z-index: 1;position: relative;background-color: white;}#sk-container-id-8 div.sk-parallel-item:first-child::after {align-self: flex-end;width: 50%;}#sk-container-id-8 div.sk-parallel-item:last-child::after {align-self: flex-start;width: 50%;}#sk-container-id-8 div.sk-parallel-item:only-child::after {width: 0;}#sk-container-id-8 div.sk-dashed-wrapped {border: 1px dashed gray;margin: 0 0.4em 0.5em 0.4em;box-sizing: border-box;padding-bottom: 0.4em;background-color: white;}#sk-container-id-8 div.sk-label label {font-family: monospace;font-weight: bold;display: inline-block;line-height: 1.2em;}#sk-container-id-8 div.sk-label-container {text-align: center;}#sk-container-id-8 div.sk-container {/* jupyter's `normalize.less` sets `[hidden] { display: none; }` but bootstrap.min.css set `[hidden] { display: none !important; }` so we also need the `!important` here to be able to override the default hidden behavior on the sphinx rendered scikit-learn.org. See: https://github.com/scikit-learn/scikit-learn/issues/21755 */display: inline-block !important;position: relative;}#sk-container-id-8 div.sk-text-repr-fallback {display: none;}</style><div id=\"sk-container-id-8\" class=\"sk-top-container\"><div class=\"sk-text-repr-fallback\"><pre>KNeighborsRegressor(n_neighbors=7)</pre><b>In a Jupyter environment, please rerun this cell to show the HTML representation or trust the notebook. <br />On GitHub, the HTML representation is unable to render, please try loading this page with nbviewer.org.</b></div><div class=\"sk-container\" hidden><div class=\"sk-item\"><div class=\"sk-estimator sk-toggleable\"><input class=\"sk-toggleable__control sk-hidden--visually\" id=\"sk-estimator-id-8\" type=\"checkbox\" checked><label for=\"sk-estimator-id-8\" class=\"sk-toggleable__label sk-toggleable__label-arrow\">KNeighborsRegressor</label><div class=\"sk-toggleable__content\"><pre>KNeighborsRegressor(n_neighbors=7)</pre></div></div></div></div></div>"
            ]
          },
          "metadata": {},
          "execution_count": 58
        }
      ],
      "source": [
        "from sklearn.neighbors import KNeighborsRegressor\n",
        "model = KNeighborsRegressor(n_neighbors=7)\n",
        "model.fit(xtrain,ytrain)"
      ]
    },
    {
      "cell_type": "code",
      "execution_count": null,
      "metadata": {
        "id": "fb0_hsmy3ndc"
      },
      "outputs": [],
      "source": [
        "trainpred = model.predict(xtrain)\n",
        "testpred = model.predict(xtest)"
      ]
    },
    {
      "cell_type": "code",
      "execution_count": null,
      "metadata": {
        "colab": {
          "base_uri": "https://localhost:8080/"
        },
        "id": "KdwW2laP3s0p",
        "outputId": "297b12fe-6af8-4b68-f12f-43b6cbc1bd9a"
      },
      "outputs": [
        {
          "output_type": "execute_result",
          "data": {
            "text/plain": [
              "0.884345914280065"
            ]
          },
          "metadata": {},
          "execution_count": 60
        }
      ],
      "source": [
        "from sklearn.metrics import mean_squared_error\n",
        "mse_train = mean_squared_error(ytrain,trainpred)\n",
        "mse_train"
      ]
    },
    {
      "cell_type": "code",
      "execution_count": null,
      "metadata": {
        "colab": {
          "base_uri": "https://localhost:8080/"
        },
        "id": "wgJ_C_xn3zmN",
        "outputId": "85e5a014-4de6-45d2-e7f1-c1af2aac4186"
      },
      "outputs": [
        {
          "output_type": "execute_result",
          "data": {
            "text/plain": [
              "1.1987336536143212"
            ]
          },
          "metadata": {},
          "execution_count": 61
        }
      ],
      "source": [
        "mse_test = mean_squared_error(ytest,testpred)\n",
        "mse_test"
      ]
    },
    {
      "cell_type": "code",
      "source": [
        "models.append(\"KneighborsRegressor\")\n",
        "training_errors.append(mse_train)\n",
        "testing_errors.append(mse_test)"
      ],
      "metadata": {
        "id": "a9C2FmXxBMbM"
      },
      "execution_count": null,
      "outputs": []
    },
    {
      "cell_type": "markdown",
      "metadata": {
        "id": "WOUdLlFb4kH6"
      },
      "source": [
        "## Support Vector Machine"
      ]
    },
    {
      "cell_type": "code",
      "execution_count": null,
      "metadata": {
        "colab": {
          "base_uri": "https://localhost:8080/",
          "height": 74
        },
        "id": "pFSej6Xs4qsS",
        "outputId": "4f9ef334-036d-48e9-d937-e9c50ac9360a"
      },
      "outputs": [
        {
          "output_type": "execute_result",
          "data": {
            "text/plain": [
              "SVR(C=0.6, kernel='linear')"
            ],
            "text/html": [
              "<style>#sk-container-id-9 {color: black;}#sk-container-id-9 pre{padding: 0;}#sk-container-id-9 div.sk-toggleable {background-color: white;}#sk-container-id-9 label.sk-toggleable__label {cursor: pointer;display: block;width: 100%;margin-bottom: 0;padding: 0.3em;box-sizing: border-box;text-align: center;}#sk-container-id-9 label.sk-toggleable__label-arrow:before {content: \"▸\";float: left;margin-right: 0.25em;color: #696969;}#sk-container-id-9 label.sk-toggleable__label-arrow:hover:before {color: black;}#sk-container-id-9 div.sk-estimator:hover label.sk-toggleable__label-arrow:before {color: black;}#sk-container-id-9 div.sk-toggleable__content {max-height: 0;max-width: 0;overflow: hidden;text-align: left;background-color: #f0f8ff;}#sk-container-id-9 div.sk-toggleable__content pre {margin: 0.2em;color: black;border-radius: 0.25em;background-color: #f0f8ff;}#sk-container-id-9 input.sk-toggleable__control:checked~div.sk-toggleable__content {max-height: 200px;max-width: 100%;overflow: auto;}#sk-container-id-9 input.sk-toggleable__control:checked~label.sk-toggleable__label-arrow:before {content: \"▾\";}#sk-container-id-9 div.sk-estimator input.sk-toggleable__control:checked~label.sk-toggleable__label {background-color: #d4ebff;}#sk-container-id-9 div.sk-label input.sk-toggleable__control:checked~label.sk-toggleable__label {background-color: #d4ebff;}#sk-container-id-9 input.sk-hidden--visually {border: 0;clip: rect(1px 1px 1px 1px);clip: rect(1px, 1px, 1px, 1px);height: 1px;margin: -1px;overflow: hidden;padding: 0;position: absolute;width: 1px;}#sk-container-id-9 div.sk-estimator {font-family: monospace;background-color: #f0f8ff;border: 1px dotted black;border-radius: 0.25em;box-sizing: border-box;margin-bottom: 0.5em;}#sk-container-id-9 div.sk-estimator:hover {background-color: #d4ebff;}#sk-container-id-9 div.sk-parallel-item::after {content: \"\";width: 100%;border-bottom: 1px solid gray;flex-grow: 1;}#sk-container-id-9 div.sk-label:hover label.sk-toggleable__label {background-color: #d4ebff;}#sk-container-id-9 div.sk-serial::before {content: \"\";position: absolute;border-left: 1px solid gray;box-sizing: border-box;top: 0;bottom: 0;left: 50%;z-index: 0;}#sk-container-id-9 div.sk-serial {display: flex;flex-direction: column;align-items: center;background-color: white;padding-right: 0.2em;padding-left: 0.2em;position: relative;}#sk-container-id-9 div.sk-item {position: relative;z-index: 1;}#sk-container-id-9 div.sk-parallel {display: flex;align-items: stretch;justify-content: center;background-color: white;position: relative;}#sk-container-id-9 div.sk-item::before, #sk-container-id-9 div.sk-parallel-item::before {content: \"\";position: absolute;border-left: 1px solid gray;box-sizing: border-box;top: 0;bottom: 0;left: 50%;z-index: -1;}#sk-container-id-9 div.sk-parallel-item {display: flex;flex-direction: column;z-index: 1;position: relative;background-color: white;}#sk-container-id-9 div.sk-parallel-item:first-child::after {align-self: flex-end;width: 50%;}#sk-container-id-9 div.sk-parallel-item:last-child::after {align-self: flex-start;width: 50%;}#sk-container-id-9 div.sk-parallel-item:only-child::after {width: 0;}#sk-container-id-9 div.sk-dashed-wrapped {border: 1px dashed gray;margin: 0 0.4em 0.5em 0.4em;box-sizing: border-box;padding-bottom: 0.4em;background-color: white;}#sk-container-id-9 div.sk-label label {font-family: monospace;font-weight: bold;display: inline-block;line-height: 1.2em;}#sk-container-id-9 div.sk-label-container {text-align: center;}#sk-container-id-9 div.sk-container {/* jupyter's `normalize.less` sets `[hidden] { display: none; }` but bootstrap.min.css set `[hidden] { display: none !important; }` so we also need the `!important` here to be able to override the default hidden behavior on the sphinx rendered scikit-learn.org. See: https://github.com/scikit-learn/scikit-learn/issues/21755 */display: inline-block !important;position: relative;}#sk-container-id-9 div.sk-text-repr-fallback {display: none;}</style><div id=\"sk-container-id-9\" class=\"sk-top-container\"><div class=\"sk-text-repr-fallback\"><pre>SVR(C=0.6, kernel=&#x27;linear&#x27;)</pre><b>In a Jupyter environment, please rerun this cell to show the HTML representation or trust the notebook. <br />On GitHub, the HTML representation is unable to render, please try loading this page with nbviewer.org.</b></div><div class=\"sk-container\" hidden><div class=\"sk-item\"><div class=\"sk-estimator sk-toggleable\"><input class=\"sk-toggleable__control sk-hidden--visually\" id=\"sk-estimator-id-9\" type=\"checkbox\" checked><label for=\"sk-estimator-id-9\" class=\"sk-toggleable__label sk-toggleable__label-arrow\">SVR</label><div class=\"sk-toggleable__content\"><pre>SVR(C=0.6, kernel=&#x27;linear&#x27;)</pre></div></div></div></div></div>"
            ]
          },
          "metadata": {},
          "execution_count": 63
        }
      ],
      "source": [
        "from sklearn.svm import SVR\n",
        "model = SVR(kernel = \"linear\",C=0.6)\n",
        "model.fit(xtrain,ytrain)"
      ]
    },
    {
      "cell_type": "code",
      "execution_count": null,
      "metadata": {
        "id": "-_ZRCpMy6PrI"
      },
      "outputs": [],
      "source": [
        "trainpred = model.predict(xtrain)\n",
        "testpred = model.predict(xtest)"
      ]
    },
    {
      "cell_type": "code",
      "execution_count": null,
      "metadata": {
        "colab": {
          "base_uri": "https://localhost:8080/"
        },
        "id": "LWjabEOd8uRS",
        "outputId": "fad51a92-8210-4f9d-9ec0-3a36185d29fa"
      },
      "outputs": [
        {
          "output_type": "execute_result",
          "data": {
            "text/plain": [
              "1.0046684852765528"
            ]
          },
          "metadata": {},
          "execution_count": 65
        }
      ],
      "source": [
        "from sklearn.metrics import mean_squared_error\n",
        "mse_train = mean_squared_error(ytrain,trainpred)\n",
        "mse_train"
      ]
    },
    {
      "cell_type": "code",
      "execution_count": null,
      "metadata": {
        "colab": {
          "base_uri": "https://localhost:8080/"
        },
        "id": "OQKHAfI_8zhw",
        "outputId": "848cca65-5258-4e03-b24f-7daa5235243b"
      },
      "outputs": [
        {
          "output_type": "execute_result",
          "data": {
            "text/plain": [
              "0.9907669932246523"
            ]
          },
          "metadata": {},
          "execution_count": 66
        }
      ],
      "source": [
        "mse_test = mean_squared_error(ytest,testpred)\n",
        "mse_test"
      ]
    },
    {
      "cell_type": "code",
      "source": [
        "models.append(\"SVR\")\n",
        "training_errors.append(mse_train)\n",
        "testing_errors.append(mse_test)"
      ],
      "metadata": {
        "id": "lR1ViEjFBVmc"
      },
      "execution_count": null,
      "outputs": []
    },
    {
      "cell_type": "markdown",
      "metadata": {
        "id": "MipvqMe1BsnR"
      },
      "source": [
        "## RANDOM FOREST"
      ]
    },
    {
      "cell_type": "code",
      "execution_count": null,
      "metadata": {
        "colab": {
          "base_uri": "https://localhost:8080/",
          "height": 74
        },
        "id": "a3PT-xce89KP",
        "outputId": "d03812dd-bfea-4d63-b3cb-43b05d29fcc3"
      },
      "outputs": [
        {
          "output_type": "execute_result",
          "data": {
            "text/plain": [
              "RandomForestRegressor()"
            ],
            "text/html": [
              "<style>#sk-container-id-10 {color: black;}#sk-container-id-10 pre{padding: 0;}#sk-container-id-10 div.sk-toggleable {background-color: white;}#sk-container-id-10 label.sk-toggleable__label {cursor: pointer;display: block;width: 100%;margin-bottom: 0;padding: 0.3em;box-sizing: border-box;text-align: center;}#sk-container-id-10 label.sk-toggleable__label-arrow:before {content: \"▸\";float: left;margin-right: 0.25em;color: #696969;}#sk-container-id-10 label.sk-toggleable__label-arrow:hover:before {color: black;}#sk-container-id-10 div.sk-estimator:hover label.sk-toggleable__label-arrow:before {color: black;}#sk-container-id-10 div.sk-toggleable__content {max-height: 0;max-width: 0;overflow: hidden;text-align: left;background-color: #f0f8ff;}#sk-container-id-10 div.sk-toggleable__content pre {margin: 0.2em;color: black;border-radius: 0.25em;background-color: #f0f8ff;}#sk-container-id-10 input.sk-toggleable__control:checked~div.sk-toggleable__content {max-height: 200px;max-width: 100%;overflow: auto;}#sk-container-id-10 input.sk-toggleable__control:checked~label.sk-toggleable__label-arrow:before {content: \"▾\";}#sk-container-id-10 div.sk-estimator input.sk-toggleable__control:checked~label.sk-toggleable__label {background-color: #d4ebff;}#sk-container-id-10 div.sk-label input.sk-toggleable__control:checked~label.sk-toggleable__label {background-color: #d4ebff;}#sk-container-id-10 input.sk-hidden--visually {border: 0;clip: rect(1px 1px 1px 1px);clip: rect(1px, 1px, 1px, 1px);height: 1px;margin: -1px;overflow: hidden;padding: 0;position: absolute;width: 1px;}#sk-container-id-10 div.sk-estimator {font-family: monospace;background-color: #f0f8ff;border: 1px dotted black;border-radius: 0.25em;box-sizing: border-box;margin-bottom: 0.5em;}#sk-container-id-10 div.sk-estimator:hover {background-color: #d4ebff;}#sk-container-id-10 div.sk-parallel-item::after {content: \"\";width: 100%;border-bottom: 1px solid gray;flex-grow: 1;}#sk-container-id-10 div.sk-label:hover label.sk-toggleable__label {background-color: #d4ebff;}#sk-container-id-10 div.sk-serial::before {content: \"\";position: absolute;border-left: 1px solid gray;box-sizing: border-box;top: 0;bottom: 0;left: 50%;z-index: 0;}#sk-container-id-10 div.sk-serial {display: flex;flex-direction: column;align-items: center;background-color: white;padding-right: 0.2em;padding-left: 0.2em;position: relative;}#sk-container-id-10 div.sk-item {position: relative;z-index: 1;}#sk-container-id-10 div.sk-parallel {display: flex;align-items: stretch;justify-content: center;background-color: white;position: relative;}#sk-container-id-10 div.sk-item::before, #sk-container-id-10 div.sk-parallel-item::before {content: \"\";position: absolute;border-left: 1px solid gray;box-sizing: border-box;top: 0;bottom: 0;left: 50%;z-index: -1;}#sk-container-id-10 div.sk-parallel-item {display: flex;flex-direction: column;z-index: 1;position: relative;background-color: white;}#sk-container-id-10 div.sk-parallel-item:first-child::after {align-self: flex-end;width: 50%;}#sk-container-id-10 div.sk-parallel-item:last-child::after {align-self: flex-start;width: 50%;}#sk-container-id-10 div.sk-parallel-item:only-child::after {width: 0;}#sk-container-id-10 div.sk-dashed-wrapped {border: 1px dashed gray;margin: 0 0.4em 0.5em 0.4em;box-sizing: border-box;padding-bottom: 0.4em;background-color: white;}#sk-container-id-10 div.sk-label label {font-family: monospace;font-weight: bold;display: inline-block;line-height: 1.2em;}#sk-container-id-10 div.sk-label-container {text-align: center;}#sk-container-id-10 div.sk-container {/* jupyter's `normalize.less` sets `[hidden] { display: none; }` but bootstrap.min.css set `[hidden] { display: none !important; }` so we also need the `!important` here to be able to override the default hidden behavior on the sphinx rendered scikit-learn.org. See: https://github.com/scikit-learn/scikit-learn/issues/21755 */display: inline-block !important;position: relative;}#sk-container-id-10 div.sk-text-repr-fallback {display: none;}</style><div id=\"sk-container-id-10\" class=\"sk-top-container\"><div class=\"sk-text-repr-fallback\"><pre>RandomForestRegressor()</pre><b>In a Jupyter environment, please rerun this cell to show the HTML representation or trust the notebook. <br />On GitHub, the HTML representation is unable to render, please try loading this page with nbviewer.org.</b></div><div class=\"sk-container\" hidden><div class=\"sk-item\"><div class=\"sk-estimator sk-toggleable\"><input class=\"sk-toggleable__control sk-hidden--visually\" id=\"sk-estimator-id-10\" type=\"checkbox\" checked><label for=\"sk-estimator-id-10\" class=\"sk-toggleable__label sk-toggleable__label-arrow\">RandomForestRegressor</label><div class=\"sk-toggleable__content\"><pre>RandomForestRegressor()</pre></div></div></div></div></div>"
            ]
          },
          "metadata": {},
          "execution_count": 68
        }
      ],
      "source": [
        "from sklearn.ensemble import RandomForestRegressor\n",
        "\n",
        "model = RandomForestRegressor(n_estimators = 100)\n",
        "model.fit(xtrain,ytrain)"
      ]
    },
    {
      "cell_type": "code",
      "execution_count": null,
      "metadata": {
        "id": "vZVesDeJCai8"
      },
      "outputs": [],
      "source": [
        "trainpred = model.predict(xtrain)\n",
        "testpredict = model.predict(xtest)"
      ]
    },
    {
      "cell_type": "code",
      "execution_count": null,
      "metadata": {
        "colab": {
          "base_uri": "https://localhost:8080/"
        },
        "id": "33WmWWr-Ck4Z",
        "outputId": "703dc70d-9552-4220-9450-dad93e8ca679"
      },
      "outputs": [
        {
          "output_type": "execute_result",
          "data": {
            "text/plain": [
              "0.1497576225510011"
            ]
          },
          "metadata": {},
          "execution_count": 70
        }
      ],
      "source": [
        "from sklearn.metrics import mean_squared_error\n",
        "mse_train = mean_squared_error(ytrain,trainpred)\n",
        "mse_train"
      ]
    },
    {
      "cell_type": "code",
      "execution_count": null,
      "metadata": {
        "colab": {
          "base_uri": "https://localhost:8080/"
        },
        "id": "4YPMwNIiC79t",
        "outputId": "809afc72-6801-4a53-b56a-6e40a4a541b7"
      },
      "outputs": [
        {
          "output_type": "execute_result",
          "data": {
            "text/plain": [
              "0.9907669932246523"
            ]
          },
          "metadata": {},
          "execution_count": 71
        }
      ],
      "source": [
        "mse_test = mean_squared_error(ytest,testpred)\n",
        "mse_test"
      ]
    },
    {
      "cell_type": "code",
      "source": [
        "models.append(\"RandomForestRegressor\")\n",
        "training_errors.append(mse_train)\n",
        "testing_errors.append(mse_test)"
      ],
      "metadata": {
        "id": "pUy2hej2B80r"
      },
      "execution_count": null,
      "outputs": []
    },
    {
      "cell_type": "markdown",
      "metadata": {
        "id": "S9ilG0v6JsZK"
      },
      "source": [
        "## EXTRA TREE REGRESSION"
      ]
    },
    {
      "cell_type": "code",
      "execution_count": null,
      "metadata": {
        "colab": {
          "base_uri": "https://localhost:8080/",
          "height": 74
        },
        "id": "BQgiDY8rJx2u",
        "outputId": "bf586c2c-8555-4a83-f06b-5222a6c6773a"
      },
      "outputs": [
        {
          "output_type": "execute_result",
          "data": {
            "text/plain": [
              "ExtraTreesRegressor(n_estimators=300)"
            ],
            "text/html": [
              "<style>#sk-container-id-11 {color: black;}#sk-container-id-11 pre{padding: 0;}#sk-container-id-11 div.sk-toggleable {background-color: white;}#sk-container-id-11 label.sk-toggleable__label {cursor: pointer;display: block;width: 100%;margin-bottom: 0;padding: 0.3em;box-sizing: border-box;text-align: center;}#sk-container-id-11 label.sk-toggleable__label-arrow:before {content: \"▸\";float: left;margin-right: 0.25em;color: #696969;}#sk-container-id-11 label.sk-toggleable__label-arrow:hover:before {color: black;}#sk-container-id-11 div.sk-estimator:hover label.sk-toggleable__label-arrow:before {color: black;}#sk-container-id-11 div.sk-toggleable__content {max-height: 0;max-width: 0;overflow: hidden;text-align: left;background-color: #f0f8ff;}#sk-container-id-11 div.sk-toggleable__content pre {margin: 0.2em;color: black;border-radius: 0.25em;background-color: #f0f8ff;}#sk-container-id-11 input.sk-toggleable__control:checked~div.sk-toggleable__content {max-height: 200px;max-width: 100%;overflow: auto;}#sk-container-id-11 input.sk-toggleable__control:checked~label.sk-toggleable__label-arrow:before {content: \"▾\";}#sk-container-id-11 div.sk-estimator input.sk-toggleable__control:checked~label.sk-toggleable__label {background-color: #d4ebff;}#sk-container-id-11 div.sk-label input.sk-toggleable__control:checked~label.sk-toggleable__label {background-color: #d4ebff;}#sk-container-id-11 input.sk-hidden--visually {border: 0;clip: rect(1px 1px 1px 1px);clip: rect(1px, 1px, 1px, 1px);height: 1px;margin: -1px;overflow: hidden;padding: 0;position: absolute;width: 1px;}#sk-container-id-11 div.sk-estimator {font-family: monospace;background-color: #f0f8ff;border: 1px dotted black;border-radius: 0.25em;box-sizing: border-box;margin-bottom: 0.5em;}#sk-container-id-11 div.sk-estimator:hover {background-color: #d4ebff;}#sk-container-id-11 div.sk-parallel-item::after {content: \"\";width: 100%;border-bottom: 1px solid gray;flex-grow: 1;}#sk-container-id-11 div.sk-label:hover label.sk-toggleable__label {background-color: #d4ebff;}#sk-container-id-11 div.sk-serial::before {content: \"\";position: absolute;border-left: 1px solid gray;box-sizing: border-box;top: 0;bottom: 0;left: 50%;z-index: 0;}#sk-container-id-11 div.sk-serial {display: flex;flex-direction: column;align-items: center;background-color: white;padding-right: 0.2em;padding-left: 0.2em;position: relative;}#sk-container-id-11 div.sk-item {position: relative;z-index: 1;}#sk-container-id-11 div.sk-parallel {display: flex;align-items: stretch;justify-content: center;background-color: white;position: relative;}#sk-container-id-11 div.sk-item::before, #sk-container-id-11 div.sk-parallel-item::before {content: \"\";position: absolute;border-left: 1px solid gray;box-sizing: border-box;top: 0;bottom: 0;left: 50%;z-index: -1;}#sk-container-id-11 div.sk-parallel-item {display: flex;flex-direction: column;z-index: 1;position: relative;background-color: white;}#sk-container-id-11 div.sk-parallel-item:first-child::after {align-self: flex-end;width: 50%;}#sk-container-id-11 div.sk-parallel-item:last-child::after {align-self: flex-start;width: 50%;}#sk-container-id-11 div.sk-parallel-item:only-child::after {width: 0;}#sk-container-id-11 div.sk-dashed-wrapped {border: 1px dashed gray;margin: 0 0.4em 0.5em 0.4em;box-sizing: border-box;padding-bottom: 0.4em;background-color: white;}#sk-container-id-11 div.sk-label label {font-family: monospace;font-weight: bold;display: inline-block;line-height: 1.2em;}#sk-container-id-11 div.sk-label-container {text-align: center;}#sk-container-id-11 div.sk-container {/* jupyter's `normalize.less` sets `[hidden] { display: none; }` but bootstrap.min.css set `[hidden] { display: none !important; }` so we also need the `!important` here to be able to override the default hidden behavior on the sphinx rendered scikit-learn.org. See: https://github.com/scikit-learn/scikit-learn/issues/21755 */display: inline-block !important;position: relative;}#sk-container-id-11 div.sk-text-repr-fallback {display: none;}</style><div id=\"sk-container-id-11\" class=\"sk-top-container\"><div class=\"sk-text-repr-fallback\"><pre>ExtraTreesRegressor(n_estimators=300)</pre><b>In a Jupyter environment, please rerun this cell to show the HTML representation or trust the notebook. <br />On GitHub, the HTML representation is unable to render, please try loading this page with nbviewer.org.</b></div><div class=\"sk-container\" hidden><div class=\"sk-item\"><div class=\"sk-estimator sk-toggleable\"><input class=\"sk-toggleable__control sk-hidden--visually\" id=\"sk-estimator-id-11\" type=\"checkbox\" checked><label for=\"sk-estimator-id-11\" class=\"sk-toggleable__label sk-toggleable__label-arrow\">ExtraTreesRegressor</label><div class=\"sk-toggleable__content\"><pre>ExtraTreesRegressor(n_estimators=300)</pre></div></div></div></div></div>"
            ]
          },
          "metadata": {},
          "execution_count": 73
        }
      ],
      "source": [
        "from sklearn.ensemble import ExtraTreesRegressor\n",
        "model = ExtraTreesRegressor(n_estimators=300)\n",
        "model.fit(xtrain,ytrain)"
      ]
    },
    {
      "cell_type": "code",
      "execution_count": null,
      "metadata": {
        "id": "K_CpzR_FKMhX"
      },
      "outputs": [],
      "source": [
        "trainpred = model.predict(xtrain)\n",
        "testpred = model.predict(xtest)"
      ]
    },
    {
      "cell_type": "code",
      "execution_count": null,
      "metadata": {
        "colab": {
          "base_uri": "https://localhost:8080/"
        },
        "id": "CY2EC3f7KVaw",
        "outputId": "a1948c47-b437-4ff2-a542-41c29552319a"
      },
      "outputs": [
        {
          "output_type": "execute_result",
          "data": {
            "text/plain": [
              "1.9488575559193746e-29"
            ]
          },
          "metadata": {},
          "execution_count": 75
        }
      ],
      "source": [
        "from sklearn.metrics import mean_squared_error\n",
        "mse_train = mean_squared_error(ytrain,trainpred)\n",
        "mse_train"
      ]
    },
    {
      "cell_type": "code",
      "execution_count": null,
      "metadata": {
        "colab": {
          "base_uri": "https://localhost:8080/"
        },
        "id": "6lRrq2HNKVFJ",
        "outputId": "250d9a81-96eb-4813-8696-75ebf709d8a4"
      },
      "outputs": [
        {
          "output_type": "execute_result",
          "data": {
            "text/plain": [
              "1.1389127369262269"
            ]
          },
          "metadata": {},
          "execution_count": 76
        }
      ],
      "source": [
        "mse_test = mean_squared_error(ytest,testpred)\n",
        "mse_test"
      ]
    },
    {
      "cell_type": "code",
      "source": [
        "models.append(\"ExtraTree\")\n",
        "training_errors.append(mse_train)\n",
        "testing_errors.append(mse_test)"
      ],
      "metadata": {
        "id": "FwIpdnSnCR8K"
      },
      "execution_count": null,
      "outputs": []
    },
    {
      "cell_type": "markdown",
      "metadata": {
        "id": "IqRPA3diDfvB"
      },
      "source": [
        "## ADABOOST REGRESSION"
      ]
    },
    {
      "cell_type": "code",
      "execution_count": null,
      "metadata": {
        "colab": {
          "base_uri": "https://localhost:8080/",
          "height": 74
        },
        "id": "fHaKa3reDB1m",
        "outputId": "1aaf0493-79f5-407c-8e15-8218f735947e"
      },
      "outputs": [
        {
          "output_type": "execute_result",
          "data": {
            "text/plain": [
              "AdaBoostRegressor()"
            ],
            "text/html": [
              "<style>#sk-container-id-12 {color: black;}#sk-container-id-12 pre{padding: 0;}#sk-container-id-12 div.sk-toggleable {background-color: white;}#sk-container-id-12 label.sk-toggleable__label {cursor: pointer;display: block;width: 100%;margin-bottom: 0;padding: 0.3em;box-sizing: border-box;text-align: center;}#sk-container-id-12 label.sk-toggleable__label-arrow:before {content: \"▸\";float: left;margin-right: 0.25em;color: #696969;}#sk-container-id-12 label.sk-toggleable__label-arrow:hover:before {color: black;}#sk-container-id-12 div.sk-estimator:hover label.sk-toggleable__label-arrow:before {color: black;}#sk-container-id-12 div.sk-toggleable__content {max-height: 0;max-width: 0;overflow: hidden;text-align: left;background-color: #f0f8ff;}#sk-container-id-12 div.sk-toggleable__content pre {margin: 0.2em;color: black;border-radius: 0.25em;background-color: #f0f8ff;}#sk-container-id-12 input.sk-toggleable__control:checked~div.sk-toggleable__content {max-height: 200px;max-width: 100%;overflow: auto;}#sk-container-id-12 input.sk-toggleable__control:checked~label.sk-toggleable__label-arrow:before {content: \"▾\";}#sk-container-id-12 div.sk-estimator input.sk-toggleable__control:checked~label.sk-toggleable__label {background-color: #d4ebff;}#sk-container-id-12 div.sk-label input.sk-toggleable__control:checked~label.sk-toggleable__label {background-color: #d4ebff;}#sk-container-id-12 input.sk-hidden--visually {border: 0;clip: rect(1px 1px 1px 1px);clip: rect(1px, 1px, 1px, 1px);height: 1px;margin: -1px;overflow: hidden;padding: 0;position: absolute;width: 1px;}#sk-container-id-12 div.sk-estimator {font-family: monospace;background-color: #f0f8ff;border: 1px dotted black;border-radius: 0.25em;box-sizing: border-box;margin-bottom: 0.5em;}#sk-container-id-12 div.sk-estimator:hover {background-color: #d4ebff;}#sk-container-id-12 div.sk-parallel-item::after {content: \"\";width: 100%;border-bottom: 1px solid gray;flex-grow: 1;}#sk-container-id-12 div.sk-label:hover label.sk-toggleable__label {background-color: #d4ebff;}#sk-container-id-12 div.sk-serial::before {content: \"\";position: absolute;border-left: 1px solid gray;box-sizing: border-box;top: 0;bottom: 0;left: 50%;z-index: 0;}#sk-container-id-12 div.sk-serial {display: flex;flex-direction: column;align-items: center;background-color: white;padding-right: 0.2em;padding-left: 0.2em;position: relative;}#sk-container-id-12 div.sk-item {position: relative;z-index: 1;}#sk-container-id-12 div.sk-parallel {display: flex;align-items: stretch;justify-content: center;background-color: white;position: relative;}#sk-container-id-12 div.sk-item::before, #sk-container-id-12 div.sk-parallel-item::before {content: \"\";position: absolute;border-left: 1px solid gray;box-sizing: border-box;top: 0;bottom: 0;left: 50%;z-index: -1;}#sk-container-id-12 div.sk-parallel-item {display: flex;flex-direction: column;z-index: 1;position: relative;background-color: white;}#sk-container-id-12 div.sk-parallel-item:first-child::after {align-self: flex-end;width: 50%;}#sk-container-id-12 div.sk-parallel-item:last-child::after {align-self: flex-start;width: 50%;}#sk-container-id-12 div.sk-parallel-item:only-child::after {width: 0;}#sk-container-id-12 div.sk-dashed-wrapped {border: 1px dashed gray;margin: 0 0.4em 0.5em 0.4em;box-sizing: border-box;padding-bottom: 0.4em;background-color: white;}#sk-container-id-12 div.sk-label label {font-family: monospace;font-weight: bold;display: inline-block;line-height: 1.2em;}#sk-container-id-12 div.sk-label-container {text-align: center;}#sk-container-id-12 div.sk-container {/* jupyter's `normalize.less` sets `[hidden] { display: none; }` but bootstrap.min.css set `[hidden] { display: none !important; }` so we also need the `!important` here to be able to override the default hidden behavior on the sphinx rendered scikit-learn.org. See: https://github.com/scikit-learn/scikit-learn/issues/21755 */display: inline-block !important;position: relative;}#sk-container-id-12 div.sk-text-repr-fallback {display: none;}</style><div id=\"sk-container-id-12\" class=\"sk-top-container\"><div class=\"sk-text-repr-fallback\"><pre>AdaBoostRegressor()</pre><b>In a Jupyter environment, please rerun this cell to show the HTML representation or trust the notebook. <br />On GitHub, the HTML representation is unable to render, please try loading this page with nbviewer.org.</b></div><div class=\"sk-container\" hidden><div class=\"sk-item\"><div class=\"sk-estimator sk-toggleable\"><input class=\"sk-toggleable__control sk-hidden--visually\" id=\"sk-estimator-id-12\" type=\"checkbox\" checked><label for=\"sk-estimator-id-12\" class=\"sk-toggleable__label sk-toggleable__label-arrow\">AdaBoostRegressor</label><div class=\"sk-toggleable__content\"><pre>AdaBoostRegressor()</pre></div></div></div></div></div>"
            ]
          },
          "metadata": {},
          "execution_count": 78
        }
      ],
      "source": [
        "from sklearn.ensemble import AdaBoostRegressor\n",
        "\n",
        "model = AdaBoostRegressor()\n",
        "model.fit(xtrain,ytrain)"
      ]
    },
    {
      "cell_type": "code",
      "execution_count": null,
      "metadata": {
        "id": "y5yE3GHND0vx"
      },
      "outputs": [],
      "source": [
        "trainpred = model.predict(xtrain)\n",
        "testpred = model.predict(xtest)"
      ]
    },
    {
      "cell_type": "code",
      "execution_count": null,
      "metadata": {
        "colab": {
          "base_uri": "https://localhost:8080/"
        },
        "id": "KnOvvoKuEAOH",
        "outputId": "46f8b617-9c1c-4256-8d76-573dd378d06a"
      },
      "outputs": [
        {
          "output_type": "execute_result",
          "data": {
            "text/plain": [
              "0.9763015651030028"
            ]
          },
          "metadata": {},
          "execution_count": 80
        }
      ],
      "source": [
        "from sklearn.metrics import mean_squared_error\n",
        "mse_train = mean_squared_error(ytrain,trainpred)\n",
        "mse_train"
      ]
    },
    {
      "cell_type": "code",
      "execution_count": null,
      "metadata": {
        "colab": {
          "base_uri": "https://localhost:8080/"
        },
        "id": "brMT3xUbETOB",
        "outputId": "455392f8-bcdc-4e94-fa1e-6569415d2b57"
      },
      "outputs": [
        {
          "output_type": "execute_result",
          "data": {
            "text/plain": [
              "0.9669066048898272"
            ]
          },
          "metadata": {},
          "execution_count": 81
        }
      ],
      "source": [
        "mse_test = mean_squared_error(ytest,testpred)\n",
        "mse_test"
      ]
    },
    {
      "cell_type": "code",
      "source": [
        "models.append(\"AdaBoostRegressor\")\n",
        "training_errors.append(mse_train)\n",
        "testing_errors.append(mse_test)"
      ],
      "metadata": {
        "id": "C7AYlba7CeZN"
      },
      "execution_count": null,
      "outputs": []
    },
    {
      "cell_type": "markdown",
      "metadata": {
        "id": "Ngx-ALltEjNe"
      },
      "source": [
        "## GRADIENTBOOST REGRESSION"
      ]
    },
    {
      "cell_type": "code",
      "execution_count": null,
      "metadata": {
        "colab": {
          "base_uri": "https://localhost:8080/",
          "height": 74
        },
        "id": "0Icldt8SEbcb",
        "outputId": "eda2ca47-ce1b-49c2-ab38-994d2f20a7be"
      },
      "outputs": [
        {
          "output_type": "execute_result",
          "data": {
            "text/plain": [
              "GradientBoostingRegressor()"
            ],
            "text/html": [
              "<style>#sk-container-id-13 {color: black;}#sk-container-id-13 pre{padding: 0;}#sk-container-id-13 div.sk-toggleable {background-color: white;}#sk-container-id-13 label.sk-toggleable__label {cursor: pointer;display: block;width: 100%;margin-bottom: 0;padding: 0.3em;box-sizing: border-box;text-align: center;}#sk-container-id-13 label.sk-toggleable__label-arrow:before {content: \"▸\";float: left;margin-right: 0.25em;color: #696969;}#sk-container-id-13 label.sk-toggleable__label-arrow:hover:before {color: black;}#sk-container-id-13 div.sk-estimator:hover label.sk-toggleable__label-arrow:before {color: black;}#sk-container-id-13 div.sk-toggleable__content {max-height: 0;max-width: 0;overflow: hidden;text-align: left;background-color: #f0f8ff;}#sk-container-id-13 div.sk-toggleable__content pre {margin: 0.2em;color: black;border-radius: 0.25em;background-color: #f0f8ff;}#sk-container-id-13 input.sk-toggleable__control:checked~div.sk-toggleable__content {max-height: 200px;max-width: 100%;overflow: auto;}#sk-container-id-13 input.sk-toggleable__control:checked~label.sk-toggleable__label-arrow:before {content: \"▾\";}#sk-container-id-13 div.sk-estimator input.sk-toggleable__control:checked~label.sk-toggleable__label {background-color: #d4ebff;}#sk-container-id-13 div.sk-label input.sk-toggleable__control:checked~label.sk-toggleable__label {background-color: #d4ebff;}#sk-container-id-13 input.sk-hidden--visually {border: 0;clip: rect(1px 1px 1px 1px);clip: rect(1px, 1px, 1px, 1px);height: 1px;margin: -1px;overflow: hidden;padding: 0;position: absolute;width: 1px;}#sk-container-id-13 div.sk-estimator {font-family: monospace;background-color: #f0f8ff;border: 1px dotted black;border-radius: 0.25em;box-sizing: border-box;margin-bottom: 0.5em;}#sk-container-id-13 div.sk-estimator:hover {background-color: #d4ebff;}#sk-container-id-13 div.sk-parallel-item::after {content: \"\";width: 100%;border-bottom: 1px solid gray;flex-grow: 1;}#sk-container-id-13 div.sk-label:hover label.sk-toggleable__label {background-color: #d4ebff;}#sk-container-id-13 div.sk-serial::before {content: \"\";position: absolute;border-left: 1px solid gray;box-sizing: border-box;top: 0;bottom: 0;left: 50%;z-index: 0;}#sk-container-id-13 div.sk-serial {display: flex;flex-direction: column;align-items: center;background-color: white;padding-right: 0.2em;padding-left: 0.2em;position: relative;}#sk-container-id-13 div.sk-item {position: relative;z-index: 1;}#sk-container-id-13 div.sk-parallel {display: flex;align-items: stretch;justify-content: center;background-color: white;position: relative;}#sk-container-id-13 div.sk-item::before, #sk-container-id-13 div.sk-parallel-item::before {content: \"\";position: absolute;border-left: 1px solid gray;box-sizing: border-box;top: 0;bottom: 0;left: 50%;z-index: -1;}#sk-container-id-13 div.sk-parallel-item {display: flex;flex-direction: column;z-index: 1;position: relative;background-color: white;}#sk-container-id-13 div.sk-parallel-item:first-child::after {align-self: flex-end;width: 50%;}#sk-container-id-13 div.sk-parallel-item:last-child::after {align-self: flex-start;width: 50%;}#sk-container-id-13 div.sk-parallel-item:only-child::after {width: 0;}#sk-container-id-13 div.sk-dashed-wrapped {border: 1px dashed gray;margin: 0 0.4em 0.5em 0.4em;box-sizing: border-box;padding-bottom: 0.4em;background-color: white;}#sk-container-id-13 div.sk-label label {font-family: monospace;font-weight: bold;display: inline-block;line-height: 1.2em;}#sk-container-id-13 div.sk-label-container {text-align: center;}#sk-container-id-13 div.sk-container {/* jupyter's `normalize.less` sets `[hidden] { display: none; }` but bootstrap.min.css set `[hidden] { display: none !important; }` so we also need the `!important` here to be able to override the default hidden behavior on the sphinx rendered scikit-learn.org. See: https://github.com/scikit-learn/scikit-learn/issues/21755 */display: inline-block !important;position: relative;}#sk-container-id-13 div.sk-text-repr-fallback {display: none;}</style><div id=\"sk-container-id-13\" class=\"sk-top-container\"><div class=\"sk-text-repr-fallback\"><pre>GradientBoostingRegressor()</pre><b>In a Jupyter environment, please rerun this cell to show the HTML representation or trust the notebook. <br />On GitHub, the HTML representation is unable to render, please try loading this page with nbviewer.org.</b></div><div class=\"sk-container\" hidden><div class=\"sk-item\"><div class=\"sk-estimator sk-toggleable\"><input class=\"sk-toggleable__control sk-hidden--visually\" id=\"sk-estimator-id-13\" type=\"checkbox\" checked><label for=\"sk-estimator-id-13\" class=\"sk-toggleable__label sk-toggleable__label-arrow\">GradientBoostingRegressor</label><div class=\"sk-toggleable__content\"><pre>GradientBoostingRegressor()</pre></div></div></div></div></div>"
            ]
          },
          "metadata": {},
          "execution_count": 83
        }
      ],
      "source": [
        "from sklearn.ensemble import GradientBoostingRegressor\n",
        "model = GradientBoostingRegressor()\n",
        "model.fit(xtrain,ytrain)"
      ]
    },
    {
      "cell_type": "code",
      "execution_count": null,
      "metadata": {
        "id": "z9Rsjg1aFFmR"
      },
      "outputs": [],
      "source": [
        "trainpred = model.predict(xtrain)\n",
        "testpred = model.predict(xtest)"
      ]
    },
    {
      "cell_type": "code",
      "execution_count": null,
      "metadata": {
        "colab": {
          "base_uri": "https://localhost:8080/"
        },
        "id": "DNHNwn1QF1LY",
        "outputId": "d2f38e52-f198-40fc-ba43-a8577e1768d3"
      },
      "outputs": [
        {
          "output_type": "execute_result",
          "data": {
            "text/plain": [
              "0.6681346042078411"
            ]
          },
          "metadata": {},
          "execution_count": 85
        }
      ],
      "source": [
        "from sklearn.metrics import mean_squared_error\n",
        "mse_train = mean_squared_error(ytrain,trainpred)\n",
        "mse_train"
      ]
    },
    {
      "cell_type": "code",
      "execution_count": null,
      "metadata": {
        "colab": {
          "base_uri": "https://localhost:8080/"
        },
        "id": "n6VnjVB4F4Ut",
        "outputId": "ea79a96b-d773-422d-c9cd-0d86615821b0"
      },
      "outputs": [
        {
          "output_type": "execute_result",
          "data": {
            "text/plain": [
              "0.9750259329932973"
            ]
          },
          "metadata": {},
          "execution_count": 86
        }
      ],
      "source": [
        "mse_test = mean_squared_error(ytest,testpred)\n",
        "mse_test"
      ]
    },
    {
      "cell_type": "code",
      "source": [
        "models.append(\"GradientBoostingRegressor\")\n",
        "training_errors.append(mse_train)\n",
        "testing_errors.append(mse_test)"
      ],
      "metadata": {
        "id": "AlYyhsqaCpYs"
      },
      "execution_count": null,
      "outputs": []
    },
    {
      "cell_type": "markdown",
      "metadata": {
        "id": "6pHxFgjUGBuL"
      },
      "source": [
        "## XGBOOST REGRESSION"
      ]
    },
    {
      "cell_type": "code",
      "execution_count": null,
      "metadata": {
        "colab": {
          "base_uri": "https://localhost:8080/"
        },
        "id": "eG-tI7vZGI1P",
        "outputId": "b10157f6-3a23-45f4-d495-a3a6a6ea88a5"
      },
      "outputs": [
        {
          "output_type": "stream",
          "name": "stdout",
          "text": [
            "Requirement already satisfied: xgboost in /usr/local/lib/python3.10/dist-packages (2.1.1)\n",
            "Requirement already satisfied: numpy in /usr/local/lib/python3.10/dist-packages (from xgboost) (1.26.4)\n",
            "Collecting nvidia-nccl-cu12 (from xgboost)\n",
            "  Downloading nvidia_nccl_cu12-2.22.3-py3-none-manylinux2014_x86_64.whl.metadata (1.8 kB)\n",
            "Requirement already satisfied: scipy in /usr/local/lib/python3.10/dist-packages (from xgboost) (1.13.1)\n",
            "Downloading nvidia_nccl_cu12-2.22.3-py3-none-manylinux2014_x86_64.whl (190.9 MB)\n",
            "\u001b[2K   \u001b[90m━━━━━━━━━━━━━━━━━━━━━━━━━━━━━━━━━━━━━━━━\u001b[0m \u001b[32m190.9/190.9 MB\u001b[0m \u001b[31m5.8 MB/s\u001b[0m eta \u001b[36m0:00:00\u001b[0m\n",
            "\u001b[?25hInstalling collected packages: nvidia-nccl-cu12\n",
            "\u001b[31mERROR: pip's dependency resolver does not currently take into account all the packages that are installed. This behaviour is the source of the following dependency conflicts.\n",
            "torch 2.3.1+cu121 requires nvidia-cublas-cu12==12.1.3.1; platform_system == \"Linux\" and platform_machine == \"x86_64\", which is not installed.\n",
            "torch 2.3.1+cu121 requires nvidia-cuda-cupti-cu12==12.1.105; platform_system == \"Linux\" and platform_machine == \"x86_64\", which is not installed.\n",
            "torch 2.3.1+cu121 requires nvidia-cuda-nvrtc-cu12==12.1.105; platform_system == \"Linux\" and platform_machine == \"x86_64\", which is not installed.\n",
            "torch 2.3.1+cu121 requires nvidia-cuda-runtime-cu12==12.1.105; platform_system == \"Linux\" and platform_machine == \"x86_64\", which is not installed.\n",
            "torch 2.3.1+cu121 requires nvidia-cudnn-cu12==8.9.2.26; platform_system == \"Linux\" and platform_machine == \"x86_64\", which is not installed.\n",
            "torch 2.3.1+cu121 requires nvidia-cufft-cu12==11.0.2.54; platform_system == \"Linux\" and platform_machine == \"x86_64\", which is not installed.\n",
            "torch 2.3.1+cu121 requires nvidia-curand-cu12==10.3.2.106; platform_system == \"Linux\" and platform_machine == \"x86_64\", which is not installed.\n",
            "torch 2.3.1+cu121 requires nvidia-cusolver-cu12==11.4.5.107; platform_system == \"Linux\" and platform_machine == \"x86_64\", which is not installed.\n",
            "torch 2.3.1+cu121 requires nvidia-cusparse-cu12==12.1.0.106; platform_system == \"Linux\" and platform_machine == \"x86_64\", which is not installed.\n",
            "torch 2.3.1+cu121 requires nvidia-nvtx-cu12==12.1.105; platform_system == \"Linux\" and platform_machine == \"x86_64\", which is not installed.\n",
            "torch 2.3.1+cu121 requires nvidia-nccl-cu12==2.20.5; platform_system == \"Linux\" and platform_machine == \"x86_64\", but you have nvidia-nccl-cu12 2.22.3 which is incompatible.\u001b[0m\u001b[31m\n",
            "\u001b[0mSuccessfully installed nvidia-nccl-cu12-2.22.3\n"
          ]
        }
      ],
      "source": [
        "!pip install xgboost\n"
      ]
    },
    {
      "cell_type": "code",
      "execution_count": null,
      "metadata": {
        "colab": {
          "base_uri": "https://localhost:8080/",
          "height": 248
        },
        "id": "BER5ZgQVGaJB",
        "outputId": "311b7cfc-888e-4794-cf57-6a8a703fb5d0"
      },
      "outputs": [
        {
          "output_type": "execute_result",
          "data": {
            "text/plain": [
              "XGBRegressor(base_score=None, booster=None, callbacks=None,\n",
              "             colsample_bylevel=None, colsample_bynode=None,\n",
              "             colsample_bytree=None, device=None, early_stopping_rounds=None,\n",
              "             enable_categorical=False, eval_metric=None, feature_types=None,\n",
              "             gamma=None, grow_policy=None, importance_type=None,\n",
              "             interaction_constraints=None, learning_rate=None, max_bin=None,\n",
              "             max_cat_threshold=None, max_cat_to_onehot=None,\n",
              "             max_delta_step=None, max_depth=None, max_leaves=None,\n",
              "             min_child_weight=None, missing=nan, monotone_constraints=None,\n",
              "             multi_strategy=None, n_estimators=None, n_jobs=None,\n",
              "             num_parallel_tree=None, random_state=None, ...)"
            ],
            "text/html": [
              "<style>#sk-container-id-14 {color: black;}#sk-container-id-14 pre{padding: 0;}#sk-container-id-14 div.sk-toggleable {background-color: white;}#sk-container-id-14 label.sk-toggleable__label {cursor: pointer;display: block;width: 100%;margin-bottom: 0;padding: 0.3em;box-sizing: border-box;text-align: center;}#sk-container-id-14 label.sk-toggleable__label-arrow:before {content: \"▸\";float: left;margin-right: 0.25em;color: #696969;}#sk-container-id-14 label.sk-toggleable__label-arrow:hover:before {color: black;}#sk-container-id-14 div.sk-estimator:hover label.sk-toggleable__label-arrow:before {color: black;}#sk-container-id-14 div.sk-toggleable__content {max-height: 0;max-width: 0;overflow: hidden;text-align: left;background-color: #f0f8ff;}#sk-container-id-14 div.sk-toggleable__content pre {margin: 0.2em;color: black;border-radius: 0.25em;background-color: #f0f8ff;}#sk-container-id-14 input.sk-toggleable__control:checked~div.sk-toggleable__content {max-height: 200px;max-width: 100%;overflow: auto;}#sk-container-id-14 input.sk-toggleable__control:checked~label.sk-toggleable__label-arrow:before {content: \"▾\";}#sk-container-id-14 div.sk-estimator input.sk-toggleable__control:checked~label.sk-toggleable__label {background-color: #d4ebff;}#sk-container-id-14 div.sk-label input.sk-toggleable__control:checked~label.sk-toggleable__label {background-color: #d4ebff;}#sk-container-id-14 input.sk-hidden--visually {border: 0;clip: rect(1px 1px 1px 1px);clip: rect(1px, 1px, 1px, 1px);height: 1px;margin: -1px;overflow: hidden;padding: 0;position: absolute;width: 1px;}#sk-container-id-14 div.sk-estimator {font-family: monospace;background-color: #f0f8ff;border: 1px dotted black;border-radius: 0.25em;box-sizing: border-box;margin-bottom: 0.5em;}#sk-container-id-14 div.sk-estimator:hover {background-color: #d4ebff;}#sk-container-id-14 div.sk-parallel-item::after {content: \"\";width: 100%;border-bottom: 1px solid gray;flex-grow: 1;}#sk-container-id-14 div.sk-label:hover label.sk-toggleable__label {background-color: #d4ebff;}#sk-container-id-14 div.sk-serial::before {content: \"\";position: absolute;border-left: 1px solid gray;box-sizing: border-box;top: 0;bottom: 0;left: 50%;z-index: 0;}#sk-container-id-14 div.sk-serial {display: flex;flex-direction: column;align-items: center;background-color: white;padding-right: 0.2em;padding-left: 0.2em;position: relative;}#sk-container-id-14 div.sk-item {position: relative;z-index: 1;}#sk-container-id-14 div.sk-parallel {display: flex;align-items: stretch;justify-content: center;background-color: white;position: relative;}#sk-container-id-14 div.sk-item::before, #sk-container-id-14 div.sk-parallel-item::before {content: \"\";position: absolute;border-left: 1px solid gray;box-sizing: border-box;top: 0;bottom: 0;left: 50%;z-index: -1;}#sk-container-id-14 div.sk-parallel-item {display: flex;flex-direction: column;z-index: 1;position: relative;background-color: white;}#sk-container-id-14 div.sk-parallel-item:first-child::after {align-self: flex-end;width: 50%;}#sk-container-id-14 div.sk-parallel-item:last-child::after {align-self: flex-start;width: 50%;}#sk-container-id-14 div.sk-parallel-item:only-child::after {width: 0;}#sk-container-id-14 div.sk-dashed-wrapped {border: 1px dashed gray;margin: 0 0.4em 0.5em 0.4em;box-sizing: border-box;padding-bottom: 0.4em;background-color: white;}#sk-container-id-14 div.sk-label label {font-family: monospace;font-weight: bold;display: inline-block;line-height: 1.2em;}#sk-container-id-14 div.sk-label-container {text-align: center;}#sk-container-id-14 div.sk-container {/* jupyter's `normalize.less` sets `[hidden] { display: none; }` but bootstrap.min.css set `[hidden] { display: none !important; }` so we also need the `!important` here to be able to override the default hidden behavior on the sphinx rendered scikit-learn.org. See: https://github.com/scikit-learn/scikit-learn/issues/21755 */display: inline-block !important;position: relative;}#sk-container-id-14 div.sk-text-repr-fallback {display: none;}</style><div id=\"sk-container-id-14\" class=\"sk-top-container\"><div class=\"sk-text-repr-fallback\"><pre>XGBRegressor(base_score=None, booster=None, callbacks=None,\n",
              "             colsample_bylevel=None, colsample_bynode=None,\n",
              "             colsample_bytree=None, device=None, early_stopping_rounds=None,\n",
              "             enable_categorical=False, eval_metric=None, feature_types=None,\n",
              "             gamma=None, grow_policy=None, importance_type=None,\n",
              "             interaction_constraints=None, learning_rate=None, max_bin=None,\n",
              "             max_cat_threshold=None, max_cat_to_onehot=None,\n",
              "             max_delta_step=None, max_depth=None, max_leaves=None,\n",
              "             min_child_weight=None, missing=nan, monotone_constraints=None,\n",
              "             multi_strategy=None, n_estimators=None, n_jobs=None,\n",
              "             num_parallel_tree=None, random_state=None, ...)</pre><b>In a Jupyter environment, please rerun this cell to show the HTML representation or trust the notebook. <br />On GitHub, the HTML representation is unable to render, please try loading this page with nbviewer.org.</b></div><div class=\"sk-container\" hidden><div class=\"sk-item\"><div class=\"sk-estimator sk-toggleable\"><input class=\"sk-toggleable__control sk-hidden--visually\" id=\"sk-estimator-id-14\" type=\"checkbox\" checked><label for=\"sk-estimator-id-14\" class=\"sk-toggleable__label sk-toggleable__label-arrow\">XGBRegressor</label><div class=\"sk-toggleable__content\"><pre>XGBRegressor(base_score=None, booster=None, callbacks=None,\n",
              "             colsample_bylevel=None, colsample_bynode=None,\n",
              "             colsample_bytree=None, device=None, early_stopping_rounds=None,\n",
              "             enable_categorical=False, eval_metric=None, feature_types=None,\n",
              "             gamma=None, grow_policy=None, importance_type=None,\n",
              "             interaction_constraints=None, learning_rate=None, max_bin=None,\n",
              "             max_cat_threshold=None, max_cat_to_onehot=None,\n",
              "             max_delta_step=None, max_depth=None, max_leaves=None,\n",
              "             min_child_weight=None, missing=nan, monotone_constraints=None,\n",
              "             multi_strategy=None, n_estimators=None, n_jobs=None,\n",
              "             num_parallel_tree=None, random_state=None, ...)</pre></div></div></div></div></div>"
            ]
          },
          "metadata": {},
          "execution_count": 89
        }
      ],
      "source": [
        "from xgboost import XGBRegressor\n",
        "model = XGBRegressor()\n",
        "model.fit(xtrain,ytrain)"
      ]
    },
    {
      "cell_type": "code",
      "execution_count": null,
      "metadata": {
        "id": "8Ret7bktHD2X"
      },
      "outputs": [],
      "source": [
        "trainpred = model.predict(xtrain)\n",
        "testpred = model.predict(xtest)"
      ]
    },
    {
      "cell_type": "code",
      "execution_count": null,
      "metadata": {
        "colab": {
          "base_uri": "https://localhost:8080/"
        },
        "id": "XE59szueHebZ",
        "outputId": "05b32f88-213b-4de6-e298-6df46a46dc04"
      },
      "outputs": [
        {
          "output_type": "execute_result",
          "data": {
            "text/plain": [
              "0.006945208501441546"
            ]
          },
          "metadata": {},
          "execution_count": 91
        }
      ],
      "source": [
        "from sklearn.metrics import mean_squared_error\n",
        "mse_train = mean_squared_error(ytrain,trainpred)\n",
        "mse_train"
      ]
    },
    {
      "cell_type": "code",
      "execution_count": null,
      "metadata": {
        "colab": {
          "base_uri": "https://localhost:8080/"
        },
        "id": "OoM6CZ9XHmQc",
        "outputId": "5858718d-d5db-40a4-90df-0e49b5f79fcc"
      },
      "outputs": [
        {
          "output_type": "execute_result",
          "data": {
            "text/plain": [
              "1.257051024004391"
            ]
          },
          "metadata": {},
          "execution_count": 92
        }
      ],
      "source": [
        "mse_test = mean_squared_error(ytest,testpred)\n",
        "mse_test"
      ]
    },
    {
      "cell_type": "code",
      "source": [
        "models.append(\"XGBRegressor\")\n",
        "training_errors.append(mse_train)\n",
        "testing_errors.append(mse_test)"
      ],
      "metadata": {
        "id": "fb3iLntlC4Qo"
      },
      "execution_count": null,
      "outputs": []
    },
    {
      "cell_type": "markdown",
      "metadata": {
        "id": "sr9qWLfNHrrZ"
      },
      "source": [
        "## LIGHT GBM REGRESSION"
      ]
    },
    {
      "cell_type": "code",
      "execution_count": null,
      "metadata": {
        "colab": {
          "base_uri": "https://localhost:8080/"
        },
        "id": "fP-1Re-4H3VK",
        "outputId": "8ecd8240-31d3-4dca-ad4c-6ca5312cc167"
      },
      "outputs": [
        {
          "output_type": "stream",
          "name": "stdout",
          "text": [
            "Requirement already satisfied: lightgbm in /usr/local/lib/python3.10/dist-packages (4.4.0)\n",
            "Requirement already satisfied: numpy>=1.17.0 in /usr/local/lib/python3.10/dist-packages (from lightgbm) (1.26.4)\n",
            "Requirement already satisfied: scipy in /usr/local/lib/python3.10/dist-packages (from lightgbm) (1.13.1)\n"
          ]
        }
      ],
      "source": [
        "! pip install lightgbm"
      ]
    },
    {
      "cell_type": "code",
      "execution_count": null,
      "metadata": {
        "colab": {
          "base_uri": "https://localhost:8080/",
          "height": 950
        },
        "id": "0D2M06JUH6_T",
        "outputId": "b6e02fa5-448a-4af2-f03e-1cd0db2360b3"
      },
      "outputs": [
        {
          "output_type": "stream",
          "name": "stderr",
          "text": [
            "/usr/local/lib/python3.10/dist-packages/dask/dataframe/__init__.py:42: FutureWarning: \n",
            "Dask dataframe query planning is disabled because dask-expr is not installed.\n",
            "\n",
            "You can install it with `pip install dask[dataframe]` or `conda install dask`.\n",
            "This will raise in a future version.\n",
            "\n",
            "  warnings.warn(msg, FutureWarning)\n"
          ]
        },
        {
          "output_type": "stream",
          "name": "stdout",
          "text": [
            "[LightGBM] [Info] Auto-choosing row-wise multi-threading, the overhead of testing was 0.000475 seconds.\n",
            "You can set `force_row_wise=true` to remove the overhead.\n",
            "And if memory is not enough, you can set `force_col_wise=true`.\n",
            "[LightGBM] [Info] Total Bins 523\n",
            "[LightGBM] [Info] Number of data points in the train set: 800, number of used features: 7\n",
            "[LightGBM] [Info] Start training from score -0.003920\n",
            "[LightGBM] [Warning] No further splits with positive gain, best gain: -inf\n",
            "[LightGBM] [Warning] No further splits with positive gain, best gain: -inf\n",
            "[LightGBM] [Warning] No further splits with positive gain, best gain: -inf\n",
            "[LightGBM] [Warning] No further splits with positive gain, best gain: -inf\n",
            "[LightGBM] [Warning] No further splits with positive gain, best gain: -inf\n",
            "[LightGBM] [Warning] No further splits with positive gain, best gain: -inf\n",
            "[LightGBM] [Warning] No further splits with positive gain, best gain: -inf\n",
            "[LightGBM] [Warning] No further splits with positive gain, best gain: -inf\n",
            "[LightGBM] [Warning] No further splits with positive gain, best gain: -inf\n",
            "[LightGBM] [Warning] No further splits with positive gain, best gain: -inf\n",
            "[LightGBM] [Warning] No further splits with positive gain, best gain: -inf\n",
            "[LightGBM] [Warning] No further splits with positive gain, best gain: -inf\n",
            "[LightGBM] [Warning] No further splits with positive gain, best gain: -inf\n",
            "[LightGBM] [Warning] No further splits with positive gain, best gain: -inf\n",
            "[LightGBM] [Warning] No further splits with positive gain, best gain: -inf\n",
            "[LightGBM] [Warning] No further splits with positive gain, best gain: -inf\n",
            "[LightGBM] [Warning] No further splits with positive gain, best gain: -inf\n",
            "[LightGBM] [Warning] No further splits with positive gain, best gain: -inf\n",
            "[LightGBM] [Warning] No further splits with positive gain, best gain: -inf\n",
            "[LightGBM] [Warning] No further splits with positive gain, best gain: -inf\n",
            "[LightGBM] [Warning] No further splits with positive gain, best gain: -inf\n",
            "[LightGBM] [Warning] No further splits with positive gain, best gain: -inf\n",
            "[LightGBM] [Warning] No further splits with positive gain, best gain: -inf\n",
            "[LightGBM] [Warning] No further splits with positive gain, best gain: -inf\n",
            "[LightGBM] [Warning] No further splits with positive gain, best gain: -inf\n",
            "[LightGBM] [Warning] No further splits with positive gain, best gain: -inf\n",
            "[LightGBM] [Warning] No further splits with positive gain, best gain: -inf\n",
            "[LightGBM] [Warning] No further splits with positive gain, best gain: -inf\n",
            "[LightGBM] [Warning] No further splits with positive gain, best gain: -inf\n",
            "[LightGBM] [Warning] No further splits with positive gain, best gain: -inf\n",
            "[LightGBM] [Warning] No further splits with positive gain, best gain: -inf\n",
            "[LightGBM] [Warning] No further splits with positive gain, best gain: -inf\n",
            "[LightGBM] [Warning] No further splits with positive gain, best gain: -inf\n",
            "[LightGBM] [Warning] No further splits with positive gain, best gain: -inf\n",
            "[LightGBM] [Warning] No further splits with positive gain, best gain: -inf\n"
          ]
        },
        {
          "output_type": "execute_result",
          "data": {
            "text/plain": [
              "LGBMRegressor()"
            ],
            "text/html": [
              "<style>#sk-container-id-15 {color: black;}#sk-container-id-15 pre{padding: 0;}#sk-container-id-15 div.sk-toggleable {background-color: white;}#sk-container-id-15 label.sk-toggleable__label {cursor: pointer;display: block;width: 100%;margin-bottom: 0;padding: 0.3em;box-sizing: border-box;text-align: center;}#sk-container-id-15 label.sk-toggleable__label-arrow:before {content: \"▸\";float: left;margin-right: 0.25em;color: #696969;}#sk-container-id-15 label.sk-toggleable__label-arrow:hover:before {color: black;}#sk-container-id-15 div.sk-estimator:hover label.sk-toggleable__label-arrow:before {color: black;}#sk-container-id-15 div.sk-toggleable__content {max-height: 0;max-width: 0;overflow: hidden;text-align: left;background-color: #f0f8ff;}#sk-container-id-15 div.sk-toggleable__content pre {margin: 0.2em;color: black;border-radius: 0.25em;background-color: #f0f8ff;}#sk-container-id-15 input.sk-toggleable__control:checked~div.sk-toggleable__content {max-height: 200px;max-width: 100%;overflow: auto;}#sk-container-id-15 input.sk-toggleable__control:checked~label.sk-toggleable__label-arrow:before {content: \"▾\";}#sk-container-id-15 div.sk-estimator input.sk-toggleable__control:checked~label.sk-toggleable__label {background-color: #d4ebff;}#sk-container-id-15 div.sk-label input.sk-toggleable__control:checked~label.sk-toggleable__label {background-color: #d4ebff;}#sk-container-id-15 input.sk-hidden--visually {border: 0;clip: rect(1px 1px 1px 1px);clip: rect(1px, 1px, 1px, 1px);height: 1px;margin: -1px;overflow: hidden;padding: 0;position: absolute;width: 1px;}#sk-container-id-15 div.sk-estimator {font-family: monospace;background-color: #f0f8ff;border: 1px dotted black;border-radius: 0.25em;box-sizing: border-box;margin-bottom: 0.5em;}#sk-container-id-15 div.sk-estimator:hover {background-color: #d4ebff;}#sk-container-id-15 div.sk-parallel-item::after {content: \"\";width: 100%;border-bottom: 1px solid gray;flex-grow: 1;}#sk-container-id-15 div.sk-label:hover label.sk-toggleable__label {background-color: #d4ebff;}#sk-container-id-15 div.sk-serial::before {content: \"\";position: absolute;border-left: 1px solid gray;box-sizing: border-box;top: 0;bottom: 0;left: 50%;z-index: 0;}#sk-container-id-15 div.sk-serial {display: flex;flex-direction: column;align-items: center;background-color: white;padding-right: 0.2em;padding-left: 0.2em;position: relative;}#sk-container-id-15 div.sk-item {position: relative;z-index: 1;}#sk-container-id-15 div.sk-parallel {display: flex;align-items: stretch;justify-content: center;background-color: white;position: relative;}#sk-container-id-15 div.sk-item::before, #sk-container-id-15 div.sk-parallel-item::before {content: \"\";position: absolute;border-left: 1px solid gray;box-sizing: border-box;top: 0;bottom: 0;left: 50%;z-index: -1;}#sk-container-id-15 div.sk-parallel-item {display: flex;flex-direction: column;z-index: 1;position: relative;background-color: white;}#sk-container-id-15 div.sk-parallel-item:first-child::after {align-self: flex-end;width: 50%;}#sk-container-id-15 div.sk-parallel-item:last-child::after {align-self: flex-start;width: 50%;}#sk-container-id-15 div.sk-parallel-item:only-child::after {width: 0;}#sk-container-id-15 div.sk-dashed-wrapped {border: 1px dashed gray;margin: 0 0.4em 0.5em 0.4em;box-sizing: border-box;padding-bottom: 0.4em;background-color: white;}#sk-container-id-15 div.sk-label label {font-family: monospace;font-weight: bold;display: inline-block;line-height: 1.2em;}#sk-container-id-15 div.sk-label-container {text-align: center;}#sk-container-id-15 div.sk-container {/* jupyter's `normalize.less` sets `[hidden] { display: none; }` but bootstrap.min.css set `[hidden] { display: none !important; }` so we also need the `!important` here to be able to override the default hidden behavior on the sphinx rendered scikit-learn.org. See: https://github.com/scikit-learn/scikit-learn/issues/21755 */display: inline-block !important;position: relative;}#sk-container-id-15 div.sk-text-repr-fallback {display: none;}</style><div id=\"sk-container-id-15\" class=\"sk-top-container\"><div class=\"sk-text-repr-fallback\"><pre>LGBMRegressor()</pre><b>In a Jupyter environment, please rerun this cell to show the HTML representation or trust the notebook. <br />On GitHub, the HTML representation is unable to render, please try loading this page with nbviewer.org.</b></div><div class=\"sk-container\" hidden><div class=\"sk-item\"><div class=\"sk-estimator sk-toggleable\"><input class=\"sk-toggleable__control sk-hidden--visually\" id=\"sk-estimator-id-15\" type=\"checkbox\" checked><label for=\"sk-estimator-id-15\" class=\"sk-toggleable__label sk-toggleable__label-arrow\">LGBMRegressor</label><div class=\"sk-toggleable__content\"><pre>LGBMRegressor()</pre></div></div></div></div></div>"
            ]
          },
          "metadata": {},
          "execution_count": 95
        }
      ],
      "source": [
        "from lightgbm import LGBMRegressor\n",
        "model = LGBMRegressor()\n",
        "model.fit(xtrain,ytrain)"
      ]
    },
    {
      "cell_type": "code",
      "execution_count": null,
      "metadata": {
        "id": "7jv2GzgsIIG0"
      },
      "outputs": [],
      "source": [
        "trainpred = model.predict(xtrain)\n",
        "testpred = model.predict(xtest)"
      ]
    },
    {
      "cell_type": "code",
      "execution_count": null,
      "metadata": {
        "colab": {
          "base_uri": "https://localhost:8080/"
        },
        "id": "ntEnxvd8IQQZ",
        "outputId": "cea93ebc-33d3-4ac7-ab43-fd95e58bfb49"
      },
      "outputs": [
        {
          "output_type": "execute_result",
          "data": {
            "text/plain": [
              "0.2254139387639832"
            ]
          },
          "metadata": {},
          "execution_count": 97
        }
      ],
      "source": [
        "from sklearn.metrics import mean_squared_error\n",
        "mse_train = mean_squared_error(ytrain,trainpred)\n",
        "mse_train"
      ]
    },
    {
      "cell_type": "code",
      "execution_count": null,
      "metadata": {
        "colab": {
          "base_uri": "https://localhost:8080/"
        },
        "id": "O_KThM-fIW_t",
        "outputId": "1a333b1a-3648-458f-882f-f505a07573a7"
      },
      "outputs": [
        {
          "output_type": "execute_result",
          "data": {
            "text/plain": [
              "1.1447851083441052"
            ]
          },
          "metadata": {},
          "execution_count": 98
        }
      ],
      "source": [
        "mse_test = mean_squared_error(ytest,testpred)\n",
        "mse_test"
      ]
    },
    {
      "cell_type": "code",
      "source": [
        "models.append(\"LGBMRegressor\")\n",
        "training_errors.append(mse_train)\n",
        "testing_errors.append(mse_test)"
      ],
      "metadata": {
        "id": "G4nngt0iDGM9"
      },
      "execution_count": null,
      "outputs": []
    },
    {
      "cell_type": "markdown",
      "metadata": {
        "id": "5gfGje14Ieud"
      },
      "source": [
        "## CATBOOST REGRESSION"
      ]
    },
    {
      "cell_type": "code",
      "execution_count": null,
      "metadata": {
        "id": "8IG2EtSvIdWo",
        "colab": {
          "base_uri": "https://localhost:8080/"
        },
        "outputId": "c1c1d4ff-a7b6-41d4-8074-56c3add6a2a6"
      },
      "outputs": [
        {
          "output_type": "stream",
          "name": "stdout",
          "text": [
            "Collecting catboost\n",
            "  Downloading catboost-1.2.5-cp310-cp310-manylinux2014_x86_64.whl.metadata (1.2 kB)\n",
            "Requirement already satisfied: graphviz in /usr/local/lib/python3.10/dist-packages (from catboost) (0.20.3)\n",
            "Requirement already satisfied: matplotlib in /usr/local/lib/python3.10/dist-packages (from catboost) (3.7.1)\n",
            "Requirement already satisfied: numpy>=1.16.0 in /usr/local/lib/python3.10/dist-packages (from catboost) (1.26.4)\n",
            "Requirement already satisfied: pandas>=0.24 in /usr/local/lib/python3.10/dist-packages (from catboost) (2.1.4)\n",
            "Requirement already satisfied: scipy in /usr/local/lib/python3.10/dist-packages (from catboost) (1.13.1)\n",
            "Requirement already satisfied: plotly in /usr/local/lib/python3.10/dist-packages (from catboost) (5.15.0)\n",
            "Requirement already satisfied: six in /usr/local/lib/python3.10/dist-packages (from catboost) (1.16.0)\n",
            "Requirement already satisfied: python-dateutil>=2.8.2 in /usr/local/lib/python3.10/dist-packages (from pandas>=0.24->catboost) (2.8.2)\n",
            "Requirement already satisfied: pytz>=2020.1 in /usr/local/lib/python3.10/dist-packages (from pandas>=0.24->catboost) (2024.1)\n",
            "Requirement already satisfied: tzdata>=2022.1 in /usr/local/lib/python3.10/dist-packages (from pandas>=0.24->catboost) (2024.1)\n",
            "Requirement already satisfied: contourpy>=1.0.1 in /usr/local/lib/python3.10/dist-packages (from matplotlib->catboost) (1.2.1)\n",
            "Requirement already satisfied: cycler>=0.10 in /usr/local/lib/python3.10/dist-packages (from matplotlib->catboost) (0.12.1)\n",
            "Requirement already satisfied: fonttools>=4.22.0 in /usr/local/lib/python3.10/dist-packages (from matplotlib->catboost) (4.53.1)\n",
            "Requirement already satisfied: kiwisolver>=1.0.1 in /usr/local/lib/python3.10/dist-packages (from matplotlib->catboost) (1.4.5)\n",
            "Requirement already satisfied: packaging>=20.0 in /usr/local/lib/python3.10/dist-packages (from matplotlib->catboost) (24.1)\n",
            "Requirement already satisfied: pillow>=6.2.0 in /usr/local/lib/python3.10/dist-packages (from matplotlib->catboost) (9.4.0)\n",
            "Requirement already satisfied: pyparsing>=2.3.1 in /usr/local/lib/python3.10/dist-packages (from matplotlib->catboost) (3.1.2)\n",
            "Requirement already satisfied: tenacity>=6.2.0 in /usr/local/lib/python3.10/dist-packages (from plotly->catboost) (9.0.0)\n",
            "Downloading catboost-1.2.5-cp310-cp310-manylinux2014_x86_64.whl (98.2 MB)\n",
            "\u001b[2K   \u001b[90m━━━━━━━━━━━━━━━━━━━━━━━━━━━━━━━━━━━━━━━━\u001b[0m \u001b[32m98.2/98.2 MB\u001b[0m \u001b[31m7.9 MB/s\u001b[0m eta \u001b[36m0:00:00\u001b[0m\n",
            "\u001b[?25hInstalling collected packages: catboost\n",
            "Successfully installed catboost-1.2.5\n"
          ]
        }
      ],
      "source": [
        "!pip install catboost"
      ]
    },
    {
      "cell_type": "code",
      "execution_count": null,
      "metadata": {
        "colab": {
          "base_uri": "https://localhost:8080/"
        },
        "id": "2oIJfa1aIsH8",
        "outputId": "9d7a2986-8e6c-4b20-8695-a911e65643c7"
      },
      "outputs": [
        {
          "output_type": "stream",
          "name": "stdout",
          "text": [
            "Learning rate set to 0.039525\n",
            "0:\tlearn: 1.0014553\ttotal: 48ms\tremaining: 47.9s\n",
            "1:\tlearn: 0.9990380\ttotal: 49.7ms\tremaining: 24.8s\n",
            "2:\tlearn: 0.9969343\ttotal: 50.9ms\tremaining: 16.9s\n",
            "3:\tlearn: 0.9948288\ttotal: 52ms\tremaining: 13s\n",
            "4:\tlearn: 0.9930851\ttotal: 55.1ms\tremaining: 11s\n",
            "5:\tlearn: 0.9921046\ttotal: 56.5ms\tremaining: 9.36s\n",
            "6:\tlearn: 0.9908436\ttotal: 59.2ms\tremaining: 8.39s\n",
            "7:\tlearn: 0.9896202\ttotal: 61.7ms\tremaining: 7.65s\n",
            "8:\tlearn: 0.9881072\ttotal: 64.2ms\tremaining: 7.07s\n",
            "9:\tlearn: 0.9860836\ttotal: 66.3ms\tremaining: 6.57s\n",
            "10:\tlearn: 0.9844309\ttotal: 68.5ms\tremaining: 6.16s\n",
            "11:\tlearn: 0.9817662\ttotal: 71.1ms\tremaining: 5.85s\n",
            "12:\tlearn: 0.9801613\ttotal: 73.6ms\tremaining: 5.58s\n",
            "13:\tlearn: 0.9785577\ttotal: 77.1ms\tremaining: 5.43s\n",
            "14:\tlearn: 0.9769040\ttotal: 78.8ms\tremaining: 5.17s\n",
            "15:\tlearn: 0.9752172\ttotal: 81.6ms\tremaining: 5.02s\n",
            "16:\tlearn: 0.9729836\ttotal: 84.3ms\tremaining: 4.87s\n",
            "17:\tlearn: 0.9706249\ttotal: 90.5ms\tremaining: 4.93s\n",
            "18:\tlearn: 0.9692698\ttotal: 93.3ms\tremaining: 4.82s\n",
            "19:\tlearn: 0.9675216\ttotal: 96ms\tremaining: 4.7s\n",
            "20:\tlearn: 0.9660437\ttotal: 98.7ms\tremaining: 4.6s\n",
            "21:\tlearn: 0.9648121\ttotal: 102ms\tremaining: 4.52s\n",
            "22:\tlearn: 0.9642045\ttotal: 104ms\tremaining: 4.4s\n",
            "23:\tlearn: 0.9628335\ttotal: 106ms\tremaining: 4.3s\n",
            "24:\tlearn: 0.9608581\ttotal: 109ms\tremaining: 4.24s\n",
            "25:\tlearn: 0.9586796\ttotal: 111ms\tremaining: 4.17s\n",
            "26:\tlearn: 0.9574125\ttotal: 114ms\tremaining: 4.12s\n",
            "27:\tlearn: 0.9554280\ttotal: 116ms\tremaining: 4.04s\n",
            "28:\tlearn: 0.9544506\ttotal: 119ms\tremaining: 3.98s\n",
            "29:\tlearn: 0.9524955\ttotal: 134ms\tremaining: 4.32s\n",
            "30:\tlearn: 0.9518718\ttotal: 136ms\tremaining: 4.25s\n",
            "31:\tlearn: 0.9505517\ttotal: 138ms\tremaining: 4.18s\n",
            "32:\tlearn: 0.9496803\ttotal: 142ms\tremaining: 4.15s\n",
            "33:\tlearn: 0.9473597\ttotal: 143ms\tremaining: 4.08s\n",
            "34:\tlearn: 0.9457001\ttotal: 146ms\tremaining: 4.03s\n",
            "35:\tlearn: 0.9444158\ttotal: 150ms\tremaining: 4.01s\n",
            "36:\tlearn: 0.9435017\ttotal: 151ms\tremaining: 3.94s\n",
            "37:\tlearn: 0.9419948\ttotal: 155ms\tremaining: 3.92s\n",
            "38:\tlearn: 0.9400604\ttotal: 156ms\tremaining: 3.85s\n",
            "39:\tlearn: 0.9394595\ttotal: 159ms\tremaining: 3.81s\n",
            "40:\tlearn: 0.9386093\ttotal: 161ms\tremaining: 3.77s\n",
            "41:\tlearn: 0.9373518\ttotal: 164ms\tremaining: 3.74s\n",
            "42:\tlearn: 0.9358493\ttotal: 167ms\tremaining: 3.71s\n",
            "43:\tlearn: 0.9350153\ttotal: 171ms\tremaining: 3.71s\n",
            "44:\tlearn: 0.9344413\ttotal: 173ms\tremaining: 3.67s\n",
            "45:\tlearn: 0.9337199\ttotal: 176ms\tremaining: 3.64s\n",
            "46:\tlearn: 0.9324256\ttotal: 178ms\tremaining: 3.61s\n",
            "47:\tlearn: 0.9307809\ttotal: 180ms\tremaining: 3.58s\n",
            "48:\tlearn: 0.9292611\ttotal: 183ms\tremaining: 3.56s\n",
            "49:\tlearn: 0.9287473\ttotal: 199ms\tremaining: 3.77s\n",
            "50:\tlearn: 0.9269909\ttotal: 201ms\tremaining: 3.75s\n",
            "51:\tlearn: 0.9257460\ttotal: 204ms\tremaining: 3.71s\n",
            "52:\tlearn: 0.9235638\ttotal: 206ms\tremaining: 3.69s\n",
            "53:\tlearn: 0.9220100\ttotal: 209ms\tremaining: 3.66s\n",
            "54:\tlearn: 0.9210258\ttotal: 212ms\tremaining: 3.64s\n",
            "55:\tlearn: 0.9193572\ttotal: 214ms\tremaining: 3.61s\n",
            "56:\tlearn: 0.9178813\ttotal: 217ms\tremaining: 3.59s\n",
            "57:\tlearn: 0.9166790\ttotal: 220ms\tremaining: 3.57s\n",
            "58:\tlearn: 0.9155091\ttotal: 222ms\tremaining: 3.54s\n",
            "59:\tlearn: 0.9139878\ttotal: 225ms\tremaining: 3.52s\n",
            "60:\tlearn: 0.9121288\ttotal: 227ms\tremaining: 3.5s\n",
            "61:\tlearn: 0.9120972\ttotal: 230ms\tremaining: 3.48s\n",
            "62:\tlearn: 0.9120262\ttotal: 231ms\tremaining: 3.43s\n",
            "63:\tlearn: 0.9103383\ttotal: 233ms\tremaining: 3.4s\n",
            "64:\tlearn: 0.9095536\ttotal: 235ms\tremaining: 3.38s\n",
            "65:\tlearn: 0.9081136\ttotal: 238ms\tremaining: 3.36s\n",
            "66:\tlearn: 0.9071425\ttotal: 240ms\tremaining: 3.34s\n",
            "67:\tlearn: 0.9060696\ttotal: 242ms\tremaining: 3.32s\n",
            "68:\tlearn: 0.9051138\ttotal: 245ms\tremaining: 3.31s\n",
            "69:\tlearn: 0.9047963\ttotal: 247ms\tremaining: 3.28s\n",
            "70:\tlearn: 0.9035598\ttotal: 249ms\tremaining: 3.26s\n",
            "71:\tlearn: 0.9029291\ttotal: 253ms\tremaining: 3.26s\n",
            "72:\tlearn: 0.9012741\ttotal: 255ms\tremaining: 3.24s\n",
            "73:\tlearn: 0.9003870\ttotal: 258ms\tremaining: 3.22s\n",
            "74:\tlearn: 0.8991898\ttotal: 260ms\tremaining: 3.21s\n",
            "75:\tlearn: 0.8982510\ttotal: 263ms\tremaining: 3.19s\n",
            "76:\tlearn: 0.8970684\ttotal: 265ms\tremaining: 3.18s\n",
            "77:\tlearn: 0.8961322\ttotal: 268ms\tremaining: 3.16s\n",
            "78:\tlearn: 0.8950881\ttotal: 270ms\tremaining: 3.15s\n",
            "79:\tlearn: 0.8940508\ttotal: 273ms\tremaining: 3.14s\n",
            "80:\tlearn: 0.8930971\ttotal: 275ms\tremaining: 3.13s\n",
            "81:\tlearn: 0.8919551\ttotal: 281ms\tremaining: 3.15s\n",
            "82:\tlearn: 0.8907525\ttotal: 283ms\tremaining: 3.12s\n",
            "83:\tlearn: 0.8895509\ttotal: 285ms\tremaining: 3.11s\n",
            "84:\tlearn: 0.8887972\ttotal: 288ms\tremaining: 3.1s\n",
            "85:\tlearn: 0.8869183\ttotal: 290ms\tremaining: 3.08s\n",
            "86:\tlearn: 0.8859061\ttotal: 293ms\tremaining: 3.07s\n",
            "87:\tlearn: 0.8845222\ttotal: 295ms\tremaining: 3.06s\n",
            "88:\tlearn: 0.8835694\ttotal: 297ms\tremaining: 3.04s\n",
            "89:\tlearn: 0.8825346\ttotal: 313ms\tremaining: 3.17s\n",
            "90:\tlearn: 0.8813961\ttotal: 316ms\tremaining: 3.16s\n",
            "91:\tlearn: 0.8802415\ttotal: 319ms\tremaining: 3.15s\n",
            "92:\tlearn: 0.8794437\ttotal: 321ms\tremaining: 3.13s\n",
            "93:\tlearn: 0.8787412\ttotal: 324ms\tremaining: 3.12s\n",
            "94:\tlearn: 0.8781835\ttotal: 331ms\tremaining: 3.15s\n",
            "95:\tlearn: 0.8771769\ttotal: 333ms\tremaining: 3.13s\n",
            "96:\tlearn: 0.8759623\ttotal: 335ms\tremaining: 3.12s\n",
            "97:\tlearn: 0.8751187\ttotal: 338ms\tremaining: 3.11s\n",
            "98:\tlearn: 0.8741970\ttotal: 341ms\tremaining: 3.1s\n",
            "99:\tlearn: 0.8730984\ttotal: 343ms\tremaining: 3.09s\n",
            "100:\tlearn: 0.8722147\ttotal: 346ms\tremaining: 3.08s\n",
            "101:\tlearn: 0.8713426\ttotal: 349ms\tremaining: 3.07s\n",
            "102:\tlearn: 0.8696310\ttotal: 354ms\tremaining: 3.08s\n",
            "103:\tlearn: 0.8685142\ttotal: 357ms\tremaining: 3.07s\n",
            "104:\tlearn: 0.8673767\ttotal: 358ms\tremaining: 3.05s\n",
            "105:\tlearn: 0.8669491\ttotal: 361ms\tremaining: 3.04s\n",
            "106:\tlearn: 0.8660057\ttotal: 364ms\tremaining: 3.03s\n",
            "107:\tlearn: 0.8654165\ttotal: 365ms\tremaining: 3.02s\n",
            "108:\tlearn: 0.8647964\ttotal: 369ms\tremaining: 3.02s\n",
            "109:\tlearn: 0.8637196\ttotal: 371ms\tremaining: 3s\n",
            "110:\tlearn: 0.8624662\ttotal: 373ms\tremaining: 2.99s\n",
            "111:\tlearn: 0.8617653\ttotal: 376ms\tremaining: 2.98s\n",
            "112:\tlearn: 0.8607855\ttotal: 378ms\tremaining: 2.96s\n",
            "113:\tlearn: 0.8591172\ttotal: 380ms\tremaining: 2.95s\n",
            "114:\tlearn: 0.8581577\ttotal: 382ms\tremaining: 2.94s\n",
            "115:\tlearn: 0.8572643\ttotal: 385ms\tremaining: 2.93s\n",
            "116:\tlearn: 0.8561356\ttotal: 387ms\tremaining: 2.92s\n",
            "117:\tlearn: 0.8551255\ttotal: 389ms\tremaining: 2.91s\n",
            "118:\tlearn: 0.8539492\ttotal: 391ms\tremaining: 2.9s\n",
            "119:\tlearn: 0.8529647\ttotal: 394ms\tremaining: 2.89s\n",
            "120:\tlearn: 0.8519845\ttotal: 397ms\tremaining: 2.88s\n",
            "121:\tlearn: 0.8509672\ttotal: 399ms\tremaining: 2.87s\n",
            "122:\tlearn: 0.8506438\ttotal: 401ms\tremaining: 2.86s\n",
            "123:\tlearn: 0.8492613\ttotal: 403ms\tremaining: 2.85s\n",
            "124:\tlearn: 0.8483506\ttotal: 405ms\tremaining: 2.84s\n",
            "125:\tlearn: 0.8476024\ttotal: 409ms\tremaining: 2.84s\n",
            "126:\tlearn: 0.8471159\ttotal: 411ms\tremaining: 2.82s\n",
            "127:\tlearn: 0.8465308\ttotal: 426ms\tremaining: 2.9s\n",
            "128:\tlearn: 0.8459301\ttotal: 432ms\tremaining: 2.92s\n",
            "129:\tlearn: 0.8451187\ttotal: 435ms\tremaining: 2.91s\n",
            "130:\tlearn: 0.8435153\ttotal: 441ms\tremaining: 2.93s\n",
            "131:\tlearn: 0.8426685\ttotal: 445ms\tremaining: 2.92s\n",
            "132:\tlearn: 0.8420012\ttotal: 448ms\tremaining: 2.92s\n",
            "133:\tlearn: 0.8410704\ttotal: 453ms\tremaining: 2.92s\n",
            "134:\tlearn: 0.8400489\ttotal: 456ms\tremaining: 2.92s\n",
            "135:\tlearn: 0.8391845\ttotal: 459ms\tremaining: 2.92s\n",
            "136:\tlearn: 0.8385415\ttotal: 463ms\tremaining: 2.92s\n",
            "137:\tlearn: 0.8373262\ttotal: 465ms\tremaining: 2.9s\n",
            "138:\tlearn: 0.8360229\ttotal: 468ms\tremaining: 2.9s\n",
            "139:\tlearn: 0.8351100\ttotal: 471ms\tremaining: 2.89s\n",
            "140:\tlearn: 0.8335595\ttotal: 473ms\tremaining: 2.88s\n",
            "141:\tlearn: 0.8324158\ttotal: 481ms\tremaining: 2.91s\n",
            "142:\tlearn: 0.8312990\ttotal: 483ms\tremaining: 2.89s\n",
            "143:\tlearn: 0.8298411\ttotal: 486ms\tremaining: 2.89s\n",
            "144:\tlearn: 0.8291317\ttotal: 488ms\tremaining: 2.88s\n",
            "145:\tlearn: 0.8280159\ttotal: 491ms\tremaining: 2.87s\n",
            "146:\tlearn: 0.8273798\ttotal: 493ms\tremaining: 2.86s\n",
            "147:\tlearn: 0.8267094\ttotal: 496ms\tremaining: 2.85s\n",
            "148:\tlearn: 0.8256936\ttotal: 502ms\tremaining: 2.86s\n",
            "149:\tlearn: 0.8256239\ttotal: 503ms\tremaining: 2.85s\n",
            "150:\tlearn: 0.8248787\ttotal: 512ms\tremaining: 2.88s\n",
            "151:\tlearn: 0.8237180\ttotal: 515ms\tremaining: 2.87s\n",
            "152:\tlearn: 0.8228374\ttotal: 518ms\tremaining: 2.87s\n",
            "153:\tlearn: 0.8219496\ttotal: 520ms\tremaining: 2.86s\n",
            "154:\tlearn: 0.8213502\ttotal: 523ms\tremaining: 2.85s\n",
            "155:\tlearn: 0.8206002\ttotal: 525ms\tremaining: 2.84s\n",
            "156:\tlearn: 0.8194376\ttotal: 528ms\tremaining: 2.83s\n",
            "157:\tlearn: 0.8186335\ttotal: 530ms\tremaining: 2.82s\n",
            "158:\tlearn: 0.8175840\ttotal: 532ms\tremaining: 2.81s\n",
            "159:\tlearn: 0.8172191\ttotal: 535ms\tremaining: 2.81s\n",
            "160:\tlearn: 0.8160598\ttotal: 537ms\tremaining: 2.8s\n",
            "161:\tlearn: 0.8151700\ttotal: 540ms\tremaining: 2.79s\n",
            "162:\tlearn: 0.8141574\ttotal: 542ms\tremaining: 2.78s\n",
            "163:\tlearn: 0.8135483\ttotal: 544ms\tremaining: 2.77s\n",
            "164:\tlearn: 0.8130395\ttotal: 546ms\tremaining: 2.76s\n",
            "165:\tlearn: 0.8125150\ttotal: 549ms\tremaining: 2.75s\n",
            "166:\tlearn: 0.8120785\ttotal: 551ms\tremaining: 2.75s\n",
            "167:\tlearn: 0.8114871\ttotal: 554ms\tremaining: 2.74s\n",
            "168:\tlearn: 0.8103415\ttotal: 557ms\tremaining: 2.74s\n",
            "169:\tlearn: 0.8095565\ttotal: 558ms\tremaining: 2.73s\n",
            "170:\tlearn: 0.8086570\ttotal: 561ms\tremaining: 2.72s\n",
            "171:\tlearn: 0.8079865\ttotal: 563ms\tremaining: 2.71s\n",
            "172:\tlearn: 0.8071692\ttotal: 566ms\tremaining: 2.7s\n",
            "173:\tlearn: 0.8064425\ttotal: 568ms\tremaining: 2.69s\n",
            "174:\tlearn: 0.8054112\ttotal: 570ms\tremaining: 2.69s\n",
            "175:\tlearn: 0.8043455\ttotal: 572ms\tremaining: 2.68s\n",
            "176:\tlearn: 0.8035013\ttotal: 575ms\tremaining: 2.67s\n",
            "177:\tlearn: 0.8026236\ttotal: 577ms\tremaining: 2.66s\n",
            "178:\tlearn: 0.8021244\ttotal: 580ms\tremaining: 2.66s\n",
            "179:\tlearn: 0.8014265\ttotal: 582ms\tremaining: 2.65s\n",
            "180:\tlearn: 0.8008816\ttotal: 584ms\tremaining: 2.64s\n",
            "181:\tlearn: 0.8001592\ttotal: 586ms\tremaining: 2.63s\n",
            "182:\tlearn: 0.7993549\ttotal: 587ms\tremaining: 2.62s\n",
            "183:\tlearn: 0.7986968\ttotal: 588ms\tremaining: 2.61s\n",
            "184:\tlearn: 0.7972021\ttotal: 589ms\tremaining: 2.6s\n",
            "185:\tlearn: 0.7964164\ttotal: 591ms\tremaining: 2.58s\n",
            "186:\tlearn: 0.7956285\ttotal: 592ms\tremaining: 2.57s\n",
            "187:\tlearn: 0.7949147\ttotal: 593ms\tremaining: 2.56s\n",
            "188:\tlearn: 0.7942079\ttotal: 594ms\tremaining: 2.55s\n",
            "189:\tlearn: 0.7933583\ttotal: 596ms\tremaining: 2.54s\n",
            "190:\tlearn: 0.7927315\ttotal: 597ms\tremaining: 2.53s\n",
            "191:\tlearn: 0.7917545\ttotal: 598ms\tremaining: 2.52s\n",
            "192:\tlearn: 0.7909991\ttotal: 599ms\tremaining: 2.5s\n",
            "193:\tlearn: 0.7899501\ttotal: 600ms\tremaining: 2.49s\n",
            "194:\tlearn: 0.7890403\ttotal: 601ms\tremaining: 2.48s\n",
            "195:\tlearn: 0.7880266\ttotal: 602ms\tremaining: 2.47s\n",
            "196:\tlearn: 0.7871479\ttotal: 603ms\tremaining: 2.46s\n",
            "197:\tlearn: 0.7861900\ttotal: 604ms\tremaining: 2.45s\n",
            "198:\tlearn: 0.7856753\ttotal: 605ms\tremaining: 2.44s\n",
            "199:\tlearn: 0.7851662\ttotal: 606ms\tremaining: 2.42s\n",
            "200:\tlearn: 0.7847155\ttotal: 607ms\tremaining: 2.41s\n",
            "201:\tlearn: 0.7839637\ttotal: 609ms\tremaining: 2.4s\n",
            "202:\tlearn: 0.7835495\ttotal: 610ms\tremaining: 2.4s\n",
            "203:\tlearn: 0.7826282\ttotal: 612ms\tremaining: 2.39s\n",
            "204:\tlearn: 0.7823152\ttotal: 614ms\tremaining: 2.38s\n",
            "205:\tlearn: 0.7810846\ttotal: 615ms\tremaining: 2.37s\n",
            "206:\tlearn: 0.7800227\ttotal: 616ms\tremaining: 2.36s\n",
            "207:\tlearn: 0.7795205\ttotal: 617ms\tremaining: 2.35s\n",
            "208:\tlearn: 0.7790196\ttotal: 618ms\tremaining: 2.34s\n",
            "209:\tlearn: 0.7783333\ttotal: 619ms\tremaining: 2.33s\n",
            "210:\tlearn: 0.7777444\ttotal: 622ms\tremaining: 2.33s\n",
            "211:\tlearn: 0.7764707\ttotal: 624ms\tremaining: 2.32s\n",
            "212:\tlearn: 0.7760023\ttotal: 625ms\tremaining: 2.31s\n",
            "213:\tlearn: 0.7753581\ttotal: 626ms\tremaining: 2.3s\n",
            "214:\tlearn: 0.7748238\ttotal: 628ms\tremaining: 2.29s\n",
            "215:\tlearn: 0.7740148\ttotal: 628ms\tremaining: 2.28s\n",
            "216:\tlearn: 0.7730210\ttotal: 629ms\tremaining: 2.27s\n",
            "217:\tlearn: 0.7719555\ttotal: 631ms\tremaining: 2.26s\n",
            "218:\tlearn: 0.7709231\ttotal: 632ms\tremaining: 2.25s\n",
            "219:\tlearn: 0.7703556\ttotal: 633ms\tremaining: 2.24s\n",
            "220:\tlearn: 0.7700130\ttotal: 634ms\tremaining: 2.23s\n",
            "221:\tlearn: 0.7693874\ttotal: 635ms\tremaining: 2.23s\n",
            "222:\tlearn: 0.7689001\ttotal: 636ms\tremaining: 2.22s\n",
            "223:\tlearn: 0.7680661\ttotal: 637ms\tremaining: 2.21s\n",
            "224:\tlearn: 0.7673100\ttotal: 638ms\tremaining: 2.2s\n",
            "225:\tlearn: 0.7668094\ttotal: 640ms\tremaining: 2.19s\n",
            "226:\tlearn: 0.7659913\ttotal: 641ms\tremaining: 2.18s\n",
            "227:\tlearn: 0.7654832\ttotal: 642ms\tremaining: 2.17s\n",
            "228:\tlearn: 0.7651732\ttotal: 643ms\tremaining: 2.17s\n",
            "229:\tlearn: 0.7646398\ttotal: 644ms\tremaining: 2.16s\n",
            "230:\tlearn: 0.7637446\ttotal: 645ms\tremaining: 2.15s\n",
            "231:\tlearn: 0.7631269\ttotal: 648ms\tremaining: 2.15s\n",
            "232:\tlearn: 0.7628171\ttotal: 649ms\tremaining: 2.14s\n",
            "233:\tlearn: 0.7619066\ttotal: 650ms\tremaining: 2.13s\n",
            "234:\tlearn: 0.7616372\ttotal: 652ms\tremaining: 2.12s\n",
            "235:\tlearn: 0.7608893\ttotal: 654ms\tremaining: 2.12s\n",
            "236:\tlearn: 0.7604771\ttotal: 656ms\tremaining: 2.11s\n",
            "237:\tlearn: 0.7597246\ttotal: 657ms\tremaining: 2.1s\n",
            "238:\tlearn: 0.7590642\ttotal: 658ms\tremaining: 2.1s\n",
            "239:\tlearn: 0.7586370\ttotal: 660ms\tremaining: 2.09s\n",
            "240:\tlearn: 0.7577159\ttotal: 661ms\tremaining: 2.08s\n",
            "241:\tlearn: 0.7571130\ttotal: 662ms\tremaining: 2.07s\n",
            "242:\tlearn: 0.7567047\ttotal: 663ms\tremaining: 2.06s\n",
            "243:\tlearn: 0.7558540\ttotal: 664ms\tremaining: 2.06s\n",
            "244:\tlearn: 0.7548427\ttotal: 665ms\tremaining: 2.05s\n",
            "245:\tlearn: 0.7539843\ttotal: 666ms\tremaining: 2.04s\n",
            "246:\tlearn: 0.7531822\ttotal: 667ms\tremaining: 2.03s\n",
            "247:\tlearn: 0.7522880\ttotal: 668ms\tremaining: 2.03s\n",
            "248:\tlearn: 0.7514282\ttotal: 670ms\tremaining: 2.02s\n",
            "249:\tlearn: 0.7510656\ttotal: 671ms\tremaining: 2.01s\n",
            "250:\tlearn: 0.7503747\ttotal: 672ms\tremaining: 2s\n",
            "251:\tlearn: 0.7495578\ttotal: 673ms\tremaining: 2s\n",
            "252:\tlearn: 0.7488393\ttotal: 674ms\tremaining: 1.99s\n",
            "253:\tlearn: 0.7482496\ttotal: 675ms\tremaining: 1.98s\n",
            "254:\tlearn: 0.7474788\ttotal: 676ms\tremaining: 1.98s\n",
            "255:\tlearn: 0.7470134\ttotal: 677ms\tremaining: 1.97s\n",
            "256:\tlearn: 0.7468009\ttotal: 678ms\tremaining: 1.96s\n",
            "257:\tlearn: 0.7463190\ttotal: 679ms\tremaining: 1.95s\n",
            "258:\tlearn: 0.7450982\ttotal: 680ms\tremaining: 1.95s\n",
            "259:\tlearn: 0.7448425\ttotal: 681ms\tremaining: 1.94s\n",
            "260:\tlearn: 0.7438635\ttotal: 683ms\tremaining: 1.93s\n",
            "261:\tlearn: 0.7430676\ttotal: 684ms\tremaining: 1.93s\n",
            "262:\tlearn: 0.7426265\ttotal: 686ms\tremaining: 1.92s\n",
            "263:\tlearn: 0.7423177\ttotal: 688ms\tremaining: 1.92s\n",
            "264:\tlearn: 0.7420333\ttotal: 689ms\tremaining: 1.91s\n",
            "265:\tlearn: 0.7415267\ttotal: 690ms\tremaining: 1.9s\n",
            "266:\tlearn: 0.7405079\ttotal: 691ms\tremaining: 1.9s\n",
            "267:\tlearn: 0.7398167\ttotal: 692ms\tremaining: 1.89s\n",
            "268:\tlearn: 0.7389347\ttotal: 693ms\tremaining: 1.88s\n",
            "269:\tlearn: 0.7384391\ttotal: 694ms\tremaining: 1.88s\n",
            "270:\tlearn: 0.7377388\ttotal: 695ms\tremaining: 1.87s\n",
            "271:\tlearn: 0.7372296\ttotal: 696ms\tremaining: 1.86s\n",
            "272:\tlearn: 0.7363370\ttotal: 697ms\tremaining: 1.86s\n",
            "273:\tlearn: 0.7355006\ttotal: 699ms\tremaining: 1.85s\n",
            "274:\tlearn: 0.7345069\ttotal: 700ms\tremaining: 1.84s\n",
            "275:\tlearn: 0.7333665\ttotal: 701ms\tremaining: 1.84s\n",
            "276:\tlearn: 0.7326586\ttotal: 702ms\tremaining: 1.83s\n",
            "277:\tlearn: 0.7317906\ttotal: 703ms\tremaining: 1.82s\n",
            "278:\tlearn: 0.7308590\ttotal: 704ms\tremaining: 1.82s\n",
            "279:\tlearn: 0.7306297\ttotal: 705ms\tremaining: 1.81s\n",
            "280:\tlearn: 0.7301419\ttotal: 706ms\tremaining: 1.81s\n",
            "281:\tlearn: 0.7293029\ttotal: 707ms\tremaining: 1.8s\n",
            "282:\tlearn: 0.7286137\ttotal: 709ms\tremaining: 1.79s\n",
            "283:\tlearn: 0.7273879\ttotal: 710ms\tremaining: 1.79s\n",
            "284:\tlearn: 0.7265503\ttotal: 711ms\tremaining: 1.78s\n",
            "285:\tlearn: 0.7261619\ttotal: 712ms\tremaining: 1.78s\n",
            "286:\tlearn: 0.7257760\ttotal: 713ms\tremaining: 1.77s\n",
            "287:\tlearn: 0.7253331\ttotal: 714ms\tremaining: 1.76s\n",
            "288:\tlearn: 0.7251016\ttotal: 715ms\tremaining: 1.76s\n",
            "289:\tlearn: 0.7241796\ttotal: 716ms\tremaining: 1.75s\n",
            "290:\tlearn: 0.7231201\ttotal: 717ms\tremaining: 1.75s\n",
            "291:\tlearn: 0.7225114\ttotal: 718ms\tremaining: 1.74s\n",
            "292:\tlearn: 0.7223361\ttotal: 719ms\tremaining: 1.74s\n",
            "293:\tlearn: 0.7220205\ttotal: 720ms\tremaining: 1.73s\n",
            "294:\tlearn: 0.7213732\ttotal: 722ms\tremaining: 1.72s\n",
            "295:\tlearn: 0.7206003\ttotal: 723ms\tremaining: 1.72s\n",
            "296:\tlearn: 0.7198326\ttotal: 724ms\tremaining: 1.71s\n",
            "297:\tlearn: 0.7193830\ttotal: 725ms\tremaining: 1.71s\n",
            "298:\tlearn: 0.7190303\ttotal: 726ms\tremaining: 1.7s\n",
            "299:\tlearn: 0.7183349\ttotal: 727ms\tremaining: 1.7s\n",
            "300:\tlearn: 0.7176843\ttotal: 728ms\tremaining: 1.69s\n",
            "301:\tlearn: 0.7170673\ttotal: 729ms\tremaining: 1.69s\n",
            "302:\tlearn: 0.7163841\ttotal: 730ms\tremaining: 1.68s\n",
            "303:\tlearn: 0.7156821\ttotal: 731ms\tremaining: 1.67s\n",
            "304:\tlearn: 0.7146322\ttotal: 732ms\tremaining: 1.67s\n",
            "305:\tlearn: 0.7139315\ttotal: 733ms\tremaining: 1.66s\n",
            "306:\tlearn: 0.7137578\ttotal: 734ms\tremaining: 1.66s\n",
            "307:\tlearn: 0.7134760\ttotal: 735ms\tremaining: 1.65s\n",
            "308:\tlearn: 0.7130244\ttotal: 736ms\tremaining: 1.65s\n",
            "309:\tlearn: 0.7124662\ttotal: 737ms\tremaining: 1.64s\n",
            "310:\tlearn: 0.7115523\ttotal: 738ms\tremaining: 1.64s\n",
            "311:\tlearn: 0.7108787\ttotal: 740ms\tremaining: 1.63s\n",
            "312:\tlearn: 0.7103942\ttotal: 741ms\tremaining: 1.63s\n",
            "313:\tlearn: 0.7097628\ttotal: 742ms\tremaining: 1.62s\n",
            "314:\tlearn: 0.7094432\ttotal: 743ms\tremaining: 1.61s\n",
            "315:\tlearn: 0.7090178\ttotal: 744ms\tremaining: 1.61s\n",
            "316:\tlearn: 0.7079457\ttotal: 745ms\tremaining: 1.6s\n",
            "317:\tlearn: 0.7077113\ttotal: 746ms\tremaining: 1.6s\n",
            "318:\tlearn: 0.7074236\ttotal: 747ms\tremaining: 1.59s\n",
            "319:\tlearn: 0.7069144\ttotal: 748ms\tremaining: 1.59s\n",
            "320:\tlearn: 0.7063006\ttotal: 749ms\tremaining: 1.58s\n",
            "321:\tlearn: 0.7057323\ttotal: 750ms\tremaining: 1.58s\n",
            "322:\tlearn: 0.7052498\ttotal: 751ms\tremaining: 1.57s\n",
            "323:\tlearn: 0.7048776\ttotal: 752ms\tremaining: 1.57s\n",
            "324:\tlearn: 0.7043656\ttotal: 753ms\tremaining: 1.56s\n",
            "325:\tlearn: 0.7036184\ttotal: 754ms\tremaining: 1.56s\n",
            "326:\tlearn: 0.7029554\ttotal: 755ms\tremaining: 1.55s\n",
            "327:\tlearn: 0.7020655\ttotal: 756ms\tremaining: 1.55s\n",
            "328:\tlearn: 0.7018845\ttotal: 758ms\tremaining: 1.54s\n",
            "329:\tlearn: 0.7015710\ttotal: 759ms\tremaining: 1.54s\n",
            "330:\tlearn: 0.7009146\ttotal: 760ms\tremaining: 1.53s\n",
            "331:\tlearn: 0.7001567\ttotal: 761ms\tremaining: 1.53s\n",
            "332:\tlearn: 0.6999033\ttotal: 762ms\tremaining: 1.53s\n",
            "333:\tlearn: 0.6993962\ttotal: 763ms\tremaining: 1.52s\n",
            "334:\tlearn: 0.6992132\ttotal: 764ms\tremaining: 1.52s\n",
            "335:\tlearn: 0.6984183\ttotal: 765ms\tremaining: 1.51s\n",
            "336:\tlearn: 0.6976842\ttotal: 766ms\tremaining: 1.51s\n",
            "337:\tlearn: 0.6969853\ttotal: 767ms\tremaining: 1.5s\n",
            "338:\tlearn: 0.6965533\ttotal: 768ms\tremaining: 1.5s\n",
            "339:\tlearn: 0.6957314\ttotal: 770ms\tremaining: 1.49s\n",
            "340:\tlearn: 0.6951310\ttotal: 771ms\tremaining: 1.49s\n",
            "341:\tlearn: 0.6948301\ttotal: 772ms\tremaining: 1.48s\n",
            "342:\tlearn: 0.6941243\ttotal: 773ms\tremaining: 1.48s\n",
            "343:\tlearn: 0.6934581\ttotal: 774ms\tremaining: 1.48s\n",
            "344:\tlearn: 0.6928106\ttotal: 775ms\tremaining: 1.47s\n",
            "345:\tlearn: 0.6925178\ttotal: 776ms\tremaining: 1.47s\n",
            "346:\tlearn: 0.6919846\ttotal: 777ms\tremaining: 1.46s\n",
            "347:\tlearn: 0.6917197\ttotal: 778ms\tremaining: 1.46s\n",
            "348:\tlearn: 0.6911541\ttotal: 779ms\tremaining: 1.45s\n",
            "349:\tlearn: 0.6904038\ttotal: 780ms\tremaining: 1.45s\n",
            "350:\tlearn: 0.6894713\ttotal: 782ms\tremaining: 1.45s\n",
            "351:\tlearn: 0.6891914\ttotal: 783ms\tremaining: 1.44s\n",
            "352:\tlearn: 0.6889764\ttotal: 784ms\tremaining: 1.44s\n",
            "353:\tlearn: 0.6881913\ttotal: 785ms\tremaining: 1.43s\n",
            "354:\tlearn: 0.6878323\ttotal: 786ms\tremaining: 1.43s\n",
            "355:\tlearn: 0.6874643\ttotal: 787ms\tremaining: 1.42s\n",
            "356:\tlearn: 0.6869543\ttotal: 788ms\tremaining: 1.42s\n",
            "357:\tlearn: 0.6864433\ttotal: 789ms\tremaining: 1.42s\n",
            "358:\tlearn: 0.6862891\ttotal: 790ms\tremaining: 1.41s\n",
            "359:\tlearn: 0.6860847\ttotal: 791ms\tremaining: 1.41s\n",
            "360:\tlearn: 0.6854311\ttotal: 792ms\tremaining: 1.4s\n",
            "361:\tlearn: 0.6850637\ttotal: 793ms\tremaining: 1.4s\n",
            "362:\tlearn: 0.6846586\ttotal: 794ms\tremaining: 1.39s\n",
            "363:\tlearn: 0.6840719\ttotal: 796ms\tremaining: 1.39s\n",
            "364:\tlearn: 0.6834698\ttotal: 797ms\tremaining: 1.39s\n",
            "365:\tlearn: 0.6829948\ttotal: 798ms\tremaining: 1.38s\n",
            "366:\tlearn: 0.6823626\ttotal: 799ms\tremaining: 1.38s\n",
            "367:\tlearn: 0.6822142\ttotal: 800ms\tremaining: 1.37s\n",
            "368:\tlearn: 0.6820648\ttotal: 801ms\tremaining: 1.37s\n",
            "369:\tlearn: 0.6817938\ttotal: 802ms\tremaining: 1.36s\n",
            "370:\tlearn: 0.6813236\ttotal: 803ms\tremaining: 1.36s\n",
            "371:\tlearn: 0.6801451\ttotal: 804ms\tremaining: 1.36s\n",
            "372:\tlearn: 0.6796672\ttotal: 805ms\tremaining: 1.35s\n",
            "373:\tlearn: 0.6792094\ttotal: 806ms\tremaining: 1.35s\n",
            "374:\tlearn: 0.6789949\ttotal: 807ms\tremaining: 1.34s\n",
            "375:\tlearn: 0.6787974\ttotal: 808ms\tremaining: 1.34s\n",
            "376:\tlearn: 0.6784656\ttotal: 809ms\tremaining: 1.34s\n",
            "377:\tlearn: 0.6777763\ttotal: 811ms\tremaining: 1.33s\n",
            "378:\tlearn: 0.6771559\ttotal: 812ms\tremaining: 1.33s\n",
            "379:\tlearn: 0.6766159\ttotal: 813ms\tremaining: 1.33s\n",
            "380:\tlearn: 0.6763760\ttotal: 814ms\tremaining: 1.32s\n",
            "381:\tlearn: 0.6761119\ttotal: 815ms\tremaining: 1.32s\n",
            "382:\tlearn: 0.6756801\ttotal: 816ms\tremaining: 1.31s\n",
            "383:\tlearn: 0.6753521\ttotal: 818ms\tremaining: 1.31s\n",
            "384:\tlearn: 0.6748129\ttotal: 819ms\tremaining: 1.31s\n",
            "385:\tlearn: 0.6746321\ttotal: 820ms\tremaining: 1.3s\n",
            "386:\tlearn: 0.6741881\ttotal: 822ms\tremaining: 1.3s\n",
            "387:\tlearn: 0.6736527\ttotal: 823ms\tremaining: 1.3s\n",
            "388:\tlearn: 0.6731326\ttotal: 825ms\tremaining: 1.29s\n",
            "389:\tlearn: 0.6726940\ttotal: 826ms\tremaining: 1.29s\n",
            "390:\tlearn: 0.6721284\ttotal: 827ms\tremaining: 1.29s\n",
            "391:\tlearn: 0.6717816\ttotal: 828ms\tremaining: 1.28s\n",
            "392:\tlearn: 0.6713667\ttotal: 829ms\tremaining: 1.28s\n",
            "393:\tlearn: 0.6709196\ttotal: 830ms\tremaining: 1.28s\n",
            "394:\tlearn: 0.6706125\ttotal: 831ms\tremaining: 1.27s\n",
            "395:\tlearn: 0.6702359\ttotal: 833ms\tremaining: 1.27s\n",
            "396:\tlearn: 0.6692438\ttotal: 836ms\tremaining: 1.27s\n",
            "397:\tlearn: 0.6687904\ttotal: 838ms\tremaining: 1.27s\n",
            "398:\tlearn: 0.6676952\ttotal: 839ms\tremaining: 1.26s\n",
            "399:\tlearn: 0.6673229\ttotal: 840ms\tremaining: 1.26s\n",
            "400:\tlearn: 0.6668756\ttotal: 841ms\tremaining: 1.26s\n",
            "401:\tlearn: 0.6664034\ttotal: 842ms\tremaining: 1.25s\n",
            "402:\tlearn: 0.6659244\ttotal: 843ms\tremaining: 1.25s\n",
            "403:\tlearn: 0.6654379\ttotal: 844ms\tremaining: 1.25s\n",
            "404:\tlearn: 0.6650881\ttotal: 845ms\tremaining: 1.24s\n",
            "405:\tlearn: 0.6645134\ttotal: 846ms\tremaining: 1.24s\n",
            "406:\tlearn: 0.6641880\ttotal: 847ms\tremaining: 1.23s\n",
            "407:\tlearn: 0.6639543\ttotal: 848ms\tremaining: 1.23s\n",
            "408:\tlearn: 0.6636663\ttotal: 849ms\tremaining: 1.23s\n",
            "409:\tlearn: 0.6630895\ttotal: 850ms\tremaining: 1.22s\n",
            "410:\tlearn: 0.6628209\ttotal: 851ms\tremaining: 1.22s\n",
            "411:\tlearn: 0.6622880\ttotal: 852ms\tremaining: 1.22s\n",
            "412:\tlearn: 0.6618484\ttotal: 853ms\tremaining: 1.21s\n",
            "413:\tlearn: 0.6614619\ttotal: 855ms\tremaining: 1.21s\n",
            "414:\tlearn: 0.6609408\ttotal: 856ms\tremaining: 1.21s\n",
            "415:\tlearn: 0.6605275\ttotal: 857ms\tremaining: 1.2s\n",
            "416:\tlearn: 0.6602833\ttotal: 858ms\tremaining: 1.2s\n",
            "417:\tlearn: 0.6600035\ttotal: 859ms\tremaining: 1.2s\n",
            "418:\tlearn: 0.6594251\ttotal: 860ms\tremaining: 1.19s\n",
            "419:\tlearn: 0.6590288\ttotal: 861ms\tremaining: 1.19s\n",
            "420:\tlearn: 0.6586702\ttotal: 862ms\tremaining: 1.19s\n",
            "421:\tlearn: 0.6581329\ttotal: 863ms\tremaining: 1.18s\n",
            "422:\tlearn: 0.6578161\ttotal: 864ms\tremaining: 1.18s\n",
            "423:\tlearn: 0.6572508\ttotal: 865ms\tremaining: 1.18s\n",
            "424:\tlearn: 0.6571378\ttotal: 866ms\tremaining: 1.17s\n",
            "425:\tlearn: 0.6568409\ttotal: 867ms\tremaining: 1.17s\n",
            "426:\tlearn: 0.6564359\ttotal: 868ms\tremaining: 1.17s\n",
            "427:\tlearn: 0.6556715\ttotal: 869ms\tremaining: 1.16s\n",
            "428:\tlearn: 0.6553192\ttotal: 870ms\tremaining: 1.16s\n",
            "429:\tlearn: 0.6544426\ttotal: 871ms\tremaining: 1.16s\n",
            "430:\tlearn: 0.6536190\ttotal: 872ms\tremaining: 1.15s\n",
            "431:\tlearn: 0.6532510\ttotal: 873ms\tremaining: 1.15s\n",
            "432:\tlearn: 0.6527358\ttotal: 877ms\tremaining: 1.15s\n",
            "433:\tlearn: 0.6521466\ttotal: 878ms\tremaining: 1.15s\n",
            "434:\tlearn: 0.6517917\ttotal: 880ms\tremaining: 1.14s\n",
            "435:\tlearn: 0.6510068\ttotal: 884ms\tremaining: 1.14s\n",
            "436:\tlearn: 0.6505982\ttotal: 885ms\tremaining: 1.14s\n",
            "437:\tlearn: 0.6497809\ttotal: 886ms\tremaining: 1.14s\n",
            "438:\tlearn: 0.6491730\ttotal: 887ms\tremaining: 1.13s\n",
            "439:\tlearn: 0.6486571\ttotal: 888ms\tremaining: 1.13s\n",
            "440:\tlearn: 0.6484278\ttotal: 889ms\tremaining: 1.13s\n",
            "441:\tlearn: 0.6476369\ttotal: 890ms\tremaining: 1.12s\n",
            "442:\tlearn: 0.6473399\ttotal: 891ms\tremaining: 1.12s\n",
            "443:\tlearn: 0.6466991\ttotal: 892ms\tremaining: 1.12s\n",
            "444:\tlearn: 0.6461675\ttotal: 894ms\tremaining: 1.11s\n",
            "445:\tlearn: 0.6456024\ttotal: 895ms\tremaining: 1.11s\n",
            "446:\tlearn: 0.6453310\ttotal: 896ms\tremaining: 1.11s\n",
            "447:\tlearn: 0.6450137\ttotal: 897ms\tremaining: 1.1s\n",
            "448:\tlearn: 0.6444371\ttotal: 898ms\tremaining: 1.1s\n",
            "449:\tlearn: 0.6439101\ttotal: 899ms\tremaining: 1.1s\n",
            "450:\tlearn: 0.6436126\ttotal: 900ms\tremaining: 1.09s\n",
            "451:\tlearn: 0.6432064\ttotal: 902ms\tremaining: 1.09s\n",
            "452:\tlearn: 0.6424941\ttotal: 903ms\tremaining: 1.09s\n",
            "453:\tlearn: 0.6420990\ttotal: 904ms\tremaining: 1.09s\n",
            "454:\tlearn: 0.6417792\ttotal: 905ms\tremaining: 1.08s\n",
            "455:\tlearn: 0.6413177\ttotal: 907ms\tremaining: 1.08s\n",
            "456:\tlearn: 0.6410784\ttotal: 908ms\tremaining: 1.08s\n",
            "457:\tlearn: 0.6404502\ttotal: 909ms\tremaining: 1.07s\n",
            "458:\tlearn: 0.6401303\ttotal: 910ms\tremaining: 1.07s\n",
            "459:\tlearn: 0.6397953\ttotal: 911ms\tremaining: 1.07s\n",
            "460:\tlearn: 0.6390828\ttotal: 912ms\tremaining: 1.07s\n",
            "461:\tlearn: 0.6388403\ttotal: 913ms\tremaining: 1.06s\n",
            "462:\tlearn: 0.6382520\ttotal: 914ms\tremaining: 1.06s\n",
            "463:\tlearn: 0.6378019\ttotal: 915ms\tremaining: 1.06s\n",
            "464:\tlearn: 0.6373667\ttotal: 916ms\tremaining: 1.05s\n",
            "465:\tlearn: 0.6371169\ttotal: 918ms\tremaining: 1.05s\n",
            "466:\tlearn: 0.6368559\ttotal: 919ms\tremaining: 1.05s\n",
            "467:\tlearn: 0.6367432\ttotal: 920ms\tremaining: 1.04s\n",
            "468:\tlearn: 0.6364986\ttotal: 921ms\tremaining: 1.04s\n",
            "469:\tlearn: 0.6361473\ttotal: 922ms\tremaining: 1.04s\n",
            "470:\tlearn: 0.6356866\ttotal: 923ms\tremaining: 1.04s\n",
            "471:\tlearn: 0.6352022\ttotal: 924ms\tremaining: 1.03s\n",
            "472:\tlearn: 0.6347946\ttotal: 925ms\tremaining: 1.03s\n",
            "473:\tlearn: 0.6344847\ttotal: 926ms\tremaining: 1.03s\n",
            "474:\tlearn: 0.6340602\ttotal: 927ms\tremaining: 1.02s\n",
            "475:\tlearn: 0.6335669\ttotal: 929ms\tremaining: 1.02s\n",
            "476:\tlearn: 0.6326198\ttotal: 930ms\tremaining: 1.02s\n",
            "477:\tlearn: 0.6321709\ttotal: 931ms\tremaining: 1.02s\n",
            "478:\tlearn: 0.6318969\ttotal: 932ms\tremaining: 1.01s\n",
            "479:\tlearn: 0.6315778\ttotal: 933ms\tremaining: 1.01s\n",
            "480:\tlearn: 0.6312877\ttotal: 934ms\tremaining: 1.01s\n",
            "481:\tlearn: 0.6307288\ttotal: 935ms\tremaining: 1s\n",
            "482:\tlearn: 0.6303741\ttotal: 936ms\tremaining: 1s\n",
            "483:\tlearn: 0.6301505\ttotal: 937ms\tremaining: 999ms\n",
            "484:\tlearn: 0.6297318\ttotal: 939ms\tremaining: 997ms\n",
            "485:\tlearn: 0.6292186\ttotal: 940ms\tremaining: 994ms\n",
            "486:\tlearn: 0.6288963\ttotal: 941ms\tremaining: 991ms\n",
            "487:\tlearn: 0.6283056\ttotal: 942ms\tremaining: 988ms\n",
            "488:\tlearn: 0.6279112\ttotal: 943ms\tremaining: 985ms\n",
            "489:\tlearn: 0.6274604\ttotal: 944ms\tremaining: 982ms\n",
            "490:\tlearn: 0.6269274\ttotal: 945ms\tremaining: 980ms\n",
            "491:\tlearn: 0.6266507\ttotal: 946ms\tremaining: 977ms\n",
            "492:\tlearn: 0.6261165\ttotal: 947ms\tremaining: 974ms\n",
            "493:\tlearn: 0.6256570\ttotal: 948ms\tremaining: 971ms\n",
            "494:\tlearn: 0.6250264\ttotal: 950ms\tremaining: 969ms\n",
            "495:\tlearn: 0.6244328\ttotal: 951ms\tremaining: 966ms\n",
            "496:\tlearn: 0.6239859\ttotal: 952ms\tremaining: 963ms\n",
            "497:\tlearn: 0.6236965\ttotal: 953ms\tremaining: 960ms\n",
            "498:\tlearn: 0.6230311\ttotal: 954ms\tremaining: 958ms\n",
            "499:\tlearn: 0.6228649\ttotal: 955ms\tremaining: 955ms\n",
            "500:\tlearn: 0.6225841\ttotal: 956ms\tremaining: 952ms\n",
            "501:\tlearn: 0.6223211\ttotal: 957ms\tremaining: 950ms\n",
            "502:\tlearn: 0.6220205\ttotal: 958ms\tremaining: 947ms\n",
            "503:\tlearn: 0.6214819\ttotal: 959ms\tremaining: 944ms\n",
            "504:\tlearn: 0.6209250\ttotal: 960ms\tremaining: 941ms\n",
            "505:\tlearn: 0.6206359\ttotal: 962ms\tremaining: 939ms\n",
            "506:\tlearn: 0.6203724\ttotal: 963ms\tremaining: 936ms\n",
            "507:\tlearn: 0.6200971\ttotal: 964ms\tremaining: 933ms\n",
            "508:\tlearn: 0.6197125\ttotal: 965ms\tremaining: 931ms\n",
            "509:\tlearn: 0.6193618\ttotal: 966ms\tremaining: 928ms\n",
            "510:\tlearn: 0.6191212\ttotal: 967ms\tremaining: 925ms\n",
            "511:\tlearn: 0.6185220\ttotal: 968ms\tremaining: 923ms\n",
            "512:\tlearn: 0.6182231\ttotal: 969ms\tremaining: 920ms\n",
            "513:\tlearn: 0.6177916\ttotal: 970ms\tremaining: 918ms\n",
            "514:\tlearn: 0.6173872\ttotal: 971ms\tremaining: 915ms\n",
            "515:\tlearn: 0.6168345\ttotal: 973ms\tremaining: 912ms\n",
            "516:\tlearn: 0.6162909\ttotal: 974ms\tremaining: 910ms\n",
            "517:\tlearn: 0.6158215\ttotal: 975ms\tremaining: 907ms\n",
            "518:\tlearn: 0.6153976\ttotal: 976ms\tremaining: 904ms\n",
            "519:\tlearn: 0.6147856\ttotal: 977ms\tremaining: 902ms\n",
            "520:\tlearn: 0.6145480\ttotal: 978ms\tremaining: 899ms\n",
            "521:\tlearn: 0.6142073\ttotal: 979ms\tremaining: 897ms\n",
            "522:\tlearn: 0.6137861\ttotal: 980ms\tremaining: 894ms\n",
            "523:\tlearn: 0.6136405\ttotal: 981ms\tremaining: 891ms\n",
            "524:\tlearn: 0.6135057\ttotal: 982ms\tremaining: 889ms\n",
            "525:\tlearn: 0.6130425\ttotal: 984ms\tremaining: 886ms\n",
            "526:\tlearn: 0.6123491\ttotal: 985ms\tremaining: 884ms\n",
            "527:\tlearn: 0.6118699\ttotal: 986ms\tremaining: 881ms\n",
            "528:\tlearn: 0.6113973\ttotal: 987ms\tremaining: 879ms\n",
            "529:\tlearn: 0.6109902\ttotal: 988ms\tremaining: 876ms\n",
            "530:\tlearn: 0.6107069\ttotal: 989ms\tremaining: 873ms\n",
            "531:\tlearn: 0.6103343\ttotal: 990ms\tremaining: 871ms\n",
            "532:\tlearn: 0.6099368\ttotal: 991ms\tremaining: 868ms\n",
            "533:\tlearn: 0.6097990\ttotal: 992ms\tremaining: 866ms\n",
            "534:\tlearn: 0.6090436\ttotal: 993ms\tremaining: 863ms\n",
            "535:\tlearn: 0.6087247\ttotal: 994ms\tremaining: 861ms\n",
            "536:\tlearn: 0.6079762\ttotal: 995ms\tremaining: 858ms\n",
            "537:\tlearn: 0.6076928\ttotal: 996ms\tremaining: 856ms\n",
            "538:\tlearn: 0.6074157\ttotal: 997ms\tremaining: 853ms\n",
            "539:\tlearn: 0.6067257\ttotal: 998ms\tremaining: 851ms\n",
            "540:\tlearn: 0.6060042\ttotal: 1000ms\tremaining: 848ms\n",
            "541:\tlearn: 0.6057283\ttotal: 1s\tremaining: 846ms\n",
            "542:\tlearn: 0.6051665\ttotal: 1s\tremaining: 843ms\n",
            "543:\tlearn: 0.6046733\ttotal: 1s\tremaining: 841ms\n",
            "544:\tlearn: 0.6045148\ttotal: 1s\tremaining: 838ms\n",
            "545:\tlearn: 0.6041994\ttotal: 1s\tremaining: 836ms\n",
            "546:\tlearn: 0.6034882\ttotal: 1s\tremaining: 833ms\n",
            "547:\tlearn: 0.6029439\ttotal: 1.01s\tremaining: 831ms\n",
            "548:\tlearn: 0.6022175\ttotal: 1.01s\tremaining: 828ms\n",
            "549:\tlearn: 0.6019262\ttotal: 1.01s\tremaining: 826ms\n",
            "550:\tlearn: 0.6012072\ttotal: 1.01s\tremaining: 823ms\n",
            "551:\tlearn: 0.6008302\ttotal: 1.01s\tremaining: 821ms\n",
            "552:\tlearn: 0.6004135\ttotal: 1.01s\tremaining: 820ms\n",
            "553:\tlearn: 0.5997325\ttotal: 1.01s\tremaining: 817ms\n",
            "554:\tlearn: 0.5992241\ttotal: 1.02s\tremaining: 816ms\n",
            "555:\tlearn: 0.5989823\ttotal: 1.02s\tremaining: 814ms\n",
            "556:\tlearn: 0.5982304\ttotal: 1.02s\tremaining: 811ms\n",
            "557:\tlearn: 0.5981316\ttotal: 1.02s\tremaining: 809ms\n",
            "558:\tlearn: 0.5976096\ttotal: 1.02s\tremaining: 806ms\n",
            "559:\tlearn: 0.5969865\ttotal: 1.02s\tremaining: 804ms\n",
            "560:\tlearn: 0.5967272\ttotal: 1.02s\tremaining: 802ms\n",
            "561:\tlearn: 0.5962313\ttotal: 1.02s\tremaining: 799ms\n",
            "562:\tlearn: 0.5959254\ttotal: 1.03s\tremaining: 797ms\n",
            "563:\tlearn: 0.5955628\ttotal: 1.03s\tremaining: 794ms\n",
            "564:\tlearn: 0.5952870\ttotal: 1.03s\tremaining: 792ms\n",
            "565:\tlearn: 0.5949920\ttotal: 1.03s\tremaining: 790ms\n",
            "566:\tlearn: 0.5945172\ttotal: 1.03s\tremaining: 787ms\n",
            "567:\tlearn: 0.5941295\ttotal: 1.03s\tremaining: 785ms\n",
            "568:\tlearn: 0.5937693\ttotal: 1.03s\tremaining: 783ms\n",
            "569:\tlearn: 0.5932461\ttotal: 1.03s\tremaining: 780ms\n",
            "570:\tlearn: 0.5929331\ttotal: 1.03s\tremaining: 778ms\n",
            "571:\tlearn: 0.5926970\ttotal: 1.04s\tremaining: 775ms\n",
            "572:\tlearn: 0.5921512\ttotal: 1.04s\tremaining: 773ms\n",
            "573:\tlearn: 0.5917465\ttotal: 1.04s\tremaining: 771ms\n",
            "574:\tlearn: 0.5914076\ttotal: 1.04s\tremaining: 768ms\n",
            "575:\tlearn: 0.5910266\ttotal: 1.04s\tremaining: 766ms\n",
            "576:\tlearn: 0.5907753\ttotal: 1.04s\tremaining: 764ms\n",
            "577:\tlearn: 0.5906000\ttotal: 1.04s\tremaining: 761ms\n",
            "578:\tlearn: 0.5902456\ttotal: 1.04s\tremaining: 759ms\n",
            "579:\tlearn: 0.5897591\ttotal: 1.04s\tremaining: 757ms\n",
            "580:\tlearn: 0.5891775\ttotal: 1.04s\tremaining: 754ms\n",
            "581:\tlearn: 0.5890850\ttotal: 1.05s\tremaining: 752ms\n",
            "582:\tlearn: 0.5885903\ttotal: 1.05s\tremaining: 750ms\n",
            "583:\tlearn: 0.5880126\ttotal: 1.05s\tremaining: 747ms\n",
            "584:\tlearn: 0.5875387\ttotal: 1.05s\tremaining: 745ms\n",
            "585:\tlearn: 0.5870895\ttotal: 1.05s\tremaining: 743ms\n",
            "586:\tlearn: 0.5867628\ttotal: 1.05s\tremaining: 741ms\n",
            "587:\tlearn: 0.5865843\ttotal: 1.05s\tremaining: 738ms\n",
            "588:\tlearn: 0.5862137\ttotal: 1.05s\tremaining: 736ms\n",
            "589:\tlearn: 0.5859212\ttotal: 1.05s\tremaining: 734ms\n",
            "590:\tlearn: 0.5856031\ttotal: 1.06s\tremaining: 731ms\n",
            "591:\tlearn: 0.5854084\ttotal: 1.06s\tremaining: 729ms\n",
            "592:\tlearn: 0.5847562\ttotal: 1.06s\tremaining: 727ms\n",
            "593:\tlearn: 0.5843269\ttotal: 1.06s\tremaining: 725ms\n",
            "594:\tlearn: 0.5838094\ttotal: 1.06s\tremaining: 722ms\n",
            "595:\tlearn: 0.5831111\ttotal: 1.06s\tremaining: 720ms\n",
            "596:\tlearn: 0.5826989\ttotal: 1.06s\tremaining: 718ms\n",
            "597:\tlearn: 0.5823898\ttotal: 1.06s\tremaining: 716ms\n",
            "598:\tlearn: 0.5819008\ttotal: 1.06s\tremaining: 713ms\n",
            "599:\tlearn: 0.5814750\ttotal: 1.07s\tremaining: 711ms\n",
            "600:\tlearn: 0.5812058\ttotal: 1.07s\tremaining: 709ms\n",
            "601:\tlearn: 0.5805576\ttotal: 1.07s\tremaining: 707ms\n",
            "602:\tlearn: 0.5802266\ttotal: 1.07s\tremaining: 704ms\n",
            "603:\tlearn: 0.5800152\ttotal: 1.07s\tremaining: 702ms\n",
            "604:\tlearn: 0.5795960\ttotal: 1.07s\tremaining: 700ms\n",
            "605:\tlearn: 0.5792150\ttotal: 1.07s\tremaining: 698ms\n",
            "606:\tlearn: 0.5789633\ttotal: 1.07s\tremaining: 696ms\n",
            "607:\tlearn: 0.5785222\ttotal: 1.07s\tremaining: 693ms\n",
            "608:\tlearn: 0.5782408\ttotal: 1.08s\tremaining: 691ms\n",
            "609:\tlearn: 0.5772436\ttotal: 1.08s\tremaining: 689ms\n",
            "610:\tlearn: 0.5770355\ttotal: 1.08s\tremaining: 687ms\n",
            "611:\tlearn: 0.5762676\ttotal: 1.08s\tremaining: 685ms\n",
            "612:\tlearn: 0.5760349\ttotal: 1.08s\tremaining: 683ms\n",
            "613:\tlearn: 0.5756969\ttotal: 1.08s\tremaining: 682ms\n",
            "614:\tlearn: 0.5752648\ttotal: 1.09s\tremaining: 680ms\n",
            "615:\tlearn: 0.5749084\ttotal: 1.09s\tremaining: 678ms\n",
            "616:\tlearn: 0.5744686\ttotal: 1.09s\tremaining: 677ms\n",
            "617:\tlearn: 0.5740955\ttotal: 1.09s\tremaining: 674ms\n",
            "618:\tlearn: 0.5734986\ttotal: 1.09s\tremaining: 672ms\n",
            "619:\tlearn: 0.5730580\ttotal: 1.09s\tremaining: 670ms\n",
            "620:\tlearn: 0.5726344\ttotal: 1.09s\tremaining: 668ms\n",
            "621:\tlearn: 0.5722575\ttotal: 1.09s\tremaining: 666ms\n",
            "622:\tlearn: 0.5716754\ttotal: 1.1s\tremaining: 664ms\n",
            "623:\tlearn: 0.5712724\ttotal: 1.1s\tremaining: 661ms\n",
            "624:\tlearn: 0.5709872\ttotal: 1.1s\tremaining: 659ms\n",
            "625:\tlearn: 0.5702245\ttotal: 1.1s\tremaining: 657ms\n",
            "626:\tlearn: 0.5700658\ttotal: 1.1s\tremaining: 655ms\n",
            "627:\tlearn: 0.5698388\ttotal: 1.1s\tremaining: 653ms\n",
            "628:\tlearn: 0.5695032\ttotal: 1.1s\tremaining: 651ms\n",
            "629:\tlearn: 0.5691918\ttotal: 1.1s\tremaining: 649ms\n",
            "630:\tlearn: 0.5688256\ttotal: 1.1s\tremaining: 646ms\n",
            "631:\tlearn: 0.5683117\ttotal: 1.11s\tremaining: 644ms\n",
            "632:\tlearn: 0.5680234\ttotal: 1.11s\tremaining: 642ms\n",
            "633:\tlearn: 0.5676541\ttotal: 1.11s\tremaining: 640ms\n",
            "634:\tlearn: 0.5672374\ttotal: 1.11s\tremaining: 638ms\n",
            "635:\tlearn: 0.5671133\ttotal: 1.11s\tremaining: 636ms\n",
            "636:\tlearn: 0.5661751\ttotal: 1.11s\tremaining: 634ms\n",
            "637:\tlearn: 0.5658432\ttotal: 1.11s\tremaining: 632ms\n",
            "638:\tlearn: 0.5654914\ttotal: 1.11s\tremaining: 630ms\n",
            "639:\tlearn: 0.5650038\ttotal: 1.11s\tremaining: 628ms\n",
            "640:\tlearn: 0.5645104\ttotal: 1.12s\tremaining: 625ms\n",
            "641:\tlearn: 0.5640310\ttotal: 1.12s\tremaining: 623ms\n",
            "642:\tlearn: 0.5636488\ttotal: 1.12s\tremaining: 622ms\n",
            "643:\tlearn: 0.5631710\ttotal: 1.12s\tremaining: 620ms\n",
            "644:\tlearn: 0.5627366\ttotal: 1.12s\tremaining: 618ms\n",
            "645:\tlearn: 0.5625391\ttotal: 1.12s\tremaining: 615ms\n",
            "646:\tlearn: 0.5621167\ttotal: 1.12s\tremaining: 613ms\n",
            "647:\tlearn: 0.5619188\ttotal: 1.13s\tremaining: 611ms\n",
            "648:\tlearn: 0.5617647\ttotal: 1.13s\tremaining: 609ms\n",
            "649:\tlearn: 0.5615940\ttotal: 1.13s\tremaining: 607ms\n",
            "650:\tlearn: 0.5611818\ttotal: 1.13s\tremaining: 605ms\n",
            "651:\tlearn: 0.5608801\ttotal: 1.13s\tremaining: 603ms\n",
            "652:\tlearn: 0.5604117\ttotal: 1.13s\tremaining: 601ms\n",
            "653:\tlearn: 0.5600252\ttotal: 1.13s\tremaining: 599ms\n",
            "654:\tlearn: 0.5597308\ttotal: 1.13s\tremaining: 597ms\n",
            "655:\tlearn: 0.5595832\ttotal: 1.13s\tremaining: 595ms\n",
            "656:\tlearn: 0.5590896\ttotal: 1.14s\tremaining: 593ms\n",
            "657:\tlearn: 0.5588737\ttotal: 1.14s\tremaining: 591ms\n",
            "658:\tlearn: 0.5586328\ttotal: 1.14s\tremaining: 589ms\n",
            "659:\tlearn: 0.5585504\ttotal: 1.14s\tremaining: 587ms\n",
            "660:\tlearn: 0.5581301\ttotal: 1.14s\tremaining: 584ms\n",
            "661:\tlearn: 0.5579255\ttotal: 1.14s\tremaining: 582ms\n",
            "662:\tlearn: 0.5577933\ttotal: 1.14s\tremaining: 582ms\n",
            "663:\tlearn: 0.5575197\ttotal: 1.15s\tremaining: 580ms\n",
            "664:\tlearn: 0.5573760\ttotal: 1.15s\tremaining: 578ms\n",
            "665:\tlearn: 0.5568432\ttotal: 1.15s\tremaining: 576ms\n",
            "666:\tlearn: 0.5565736\ttotal: 1.16s\tremaining: 577ms\n",
            "667:\tlearn: 0.5563237\ttotal: 1.16s\tremaining: 575ms\n",
            "668:\tlearn: 0.5559460\ttotal: 1.16s\tremaining: 573ms\n",
            "669:\tlearn: 0.5556753\ttotal: 1.16s\tremaining: 571ms\n",
            "670:\tlearn: 0.5555055\ttotal: 1.16s\tremaining: 569ms\n",
            "671:\tlearn: 0.5550972\ttotal: 1.16s\tremaining: 567ms\n",
            "672:\tlearn: 0.5549795\ttotal: 1.16s\tremaining: 565ms\n",
            "673:\tlearn: 0.5542545\ttotal: 1.16s\tremaining: 563ms\n",
            "674:\tlearn: 0.5541119\ttotal: 1.16s\tremaining: 561ms\n",
            "675:\tlearn: 0.5534739\ttotal: 1.17s\tremaining: 559ms\n",
            "676:\tlearn: 0.5529899\ttotal: 1.17s\tremaining: 556ms\n",
            "677:\tlearn: 0.5528298\ttotal: 1.17s\tremaining: 555ms\n",
            "678:\tlearn: 0.5525128\ttotal: 1.17s\tremaining: 552ms\n",
            "679:\tlearn: 0.5521600\ttotal: 1.17s\tremaining: 550ms\n",
            "680:\tlearn: 0.5519104\ttotal: 1.17s\tremaining: 548ms\n",
            "681:\tlearn: 0.5517735\ttotal: 1.17s\tremaining: 547ms\n",
            "682:\tlearn: 0.5516131\ttotal: 1.17s\tremaining: 545ms\n",
            "683:\tlearn: 0.5509353\ttotal: 1.18s\tremaining: 543ms\n",
            "684:\tlearn: 0.5506128\ttotal: 1.18s\tremaining: 542ms\n",
            "685:\tlearn: 0.5503302\ttotal: 1.18s\tremaining: 540ms\n",
            "686:\tlearn: 0.5500913\ttotal: 1.18s\tremaining: 538ms\n",
            "687:\tlearn: 0.5494883\ttotal: 1.18s\tremaining: 536ms\n",
            "688:\tlearn: 0.5489099\ttotal: 1.18s\tremaining: 534ms\n",
            "689:\tlearn: 0.5487157\ttotal: 1.18s\tremaining: 532ms\n",
            "690:\tlearn: 0.5485384\ttotal: 1.18s\tremaining: 530ms\n",
            "691:\tlearn: 0.5483350\ttotal: 1.19s\tremaining: 528ms\n",
            "692:\tlearn: 0.5474380\ttotal: 1.19s\tremaining: 526ms\n",
            "693:\tlearn: 0.5471638\ttotal: 1.19s\tremaining: 524ms\n",
            "694:\tlearn: 0.5462163\ttotal: 1.19s\tremaining: 522ms\n",
            "695:\tlearn: 0.5459530\ttotal: 1.19s\tremaining: 520ms\n",
            "696:\tlearn: 0.5454129\ttotal: 1.19s\tremaining: 518ms\n",
            "697:\tlearn: 0.5449371\ttotal: 1.19s\tremaining: 516ms\n",
            "698:\tlearn: 0.5445935\ttotal: 1.19s\tremaining: 514ms\n",
            "699:\tlearn: 0.5438904\ttotal: 1.19s\tremaining: 512ms\n",
            "700:\tlearn: 0.5436581\ttotal: 1.2s\tremaining: 510ms\n",
            "701:\tlearn: 0.5435546\ttotal: 1.2s\tremaining: 508ms\n",
            "702:\tlearn: 0.5432311\ttotal: 1.2s\tremaining: 506ms\n",
            "703:\tlearn: 0.5431155\ttotal: 1.2s\tremaining: 504ms\n",
            "704:\tlearn: 0.5428940\ttotal: 1.2s\tremaining: 502ms\n",
            "705:\tlearn: 0.5424142\ttotal: 1.2s\tremaining: 500ms\n",
            "706:\tlearn: 0.5419246\ttotal: 1.2s\tremaining: 498ms\n",
            "707:\tlearn: 0.5416366\ttotal: 1.2s\tremaining: 496ms\n",
            "708:\tlearn: 0.5411873\ttotal: 1.2s\tremaining: 494ms\n",
            "709:\tlearn: 0.5409956\ttotal: 1.21s\tremaining: 492ms\n",
            "710:\tlearn: 0.5407429\ttotal: 1.21s\tremaining: 491ms\n",
            "711:\tlearn: 0.5403257\ttotal: 1.21s\tremaining: 489ms\n",
            "712:\tlearn: 0.5399952\ttotal: 1.21s\tremaining: 487ms\n",
            "713:\tlearn: 0.5398391\ttotal: 1.21s\tremaining: 486ms\n",
            "714:\tlearn: 0.5395414\ttotal: 1.21s\tremaining: 484ms\n",
            "715:\tlearn: 0.5390872\ttotal: 1.22s\tremaining: 483ms\n",
            "716:\tlearn: 0.5384246\ttotal: 1.22s\tremaining: 481ms\n",
            "717:\tlearn: 0.5379256\ttotal: 1.22s\tremaining: 480ms\n",
            "718:\tlearn: 0.5376457\ttotal: 1.23s\tremaining: 479ms\n",
            "719:\tlearn: 0.5373073\ttotal: 1.23s\tremaining: 477ms\n",
            "720:\tlearn: 0.5370902\ttotal: 1.23s\tremaining: 476ms\n",
            "721:\tlearn: 0.5361815\ttotal: 1.23s\tremaining: 475ms\n",
            "722:\tlearn: 0.5360467\ttotal: 1.24s\tremaining: 473ms\n",
            "723:\tlearn: 0.5357206\ttotal: 1.24s\tremaining: 472ms\n",
            "724:\tlearn: 0.5355461\ttotal: 1.24s\tremaining: 470ms\n",
            "725:\tlearn: 0.5353666\ttotal: 1.24s\tremaining: 469ms\n",
            "726:\tlearn: 0.5352520\ttotal: 1.25s\tremaining: 468ms\n",
            "727:\tlearn: 0.5350328\ttotal: 1.25s\tremaining: 466ms\n",
            "728:\tlearn: 0.5342222\ttotal: 1.25s\tremaining: 465ms\n",
            "729:\tlearn: 0.5339063\ttotal: 1.25s\tremaining: 464ms\n",
            "730:\tlearn: 0.5336295\ttotal: 1.26s\tremaining: 463ms\n",
            "731:\tlearn: 0.5330277\ttotal: 1.26s\tremaining: 461ms\n",
            "732:\tlearn: 0.5325885\ttotal: 1.26s\tremaining: 460ms\n",
            "733:\tlearn: 0.5321635\ttotal: 1.26s\tremaining: 459ms\n",
            "734:\tlearn: 0.5316915\ttotal: 1.27s\tremaining: 457ms\n",
            "735:\tlearn: 0.5311698\ttotal: 1.27s\tremaining: 456ms\n",
            "736:\tlearn: 0.5307418\ttotal: 1.27s\tremaining: 454ms\n",
            "737:\tlearn: 0.5305341\ttotal: 1.27s\tremaining: 453ms\n",
            "738:\tlearn: 0.5303422\ttotal: 1.28s\tremaining: 451ms\n",
            "739:\tlearn: 0.5293763\ttotal: 1.28s\tremaining: 450ms\n",
            "740:\tlearn: 0.5290515\ttotal: 1.28s\tremaining: 449ms\n",
            "741:\tlearn: 0.5283634\ttotal: 1.28s\tremaining: 447ms\n",
            "742:\tlearn: 0.5281099\ttotal: 1.29s\tremaining: 446ms\n",
            "743:\tlearn: 0.5277665\ttotal: 1.29s\tremaining: 444ms\n",
            "744:\tlearn: 0.5275456\ttotal: 1.29s\tremaining: 443ms\n",
            "745:\tlearn: 0.5273576\ttotal: 1.29s\tremaining: 441ms\n",
            "746:\tlearn: 0.5270983\ttotal: 1.3s\tremaining: 440ms\n",
            "747:\tlearn: 0.5268321\ttotal: 1.3s\tremaining: 438ms\n",
            "748:\tlearn: 0.5265863\ttotal: 1.3s\tremaining: 437ms\n",
            "749:\tlearn: 0.5261058\ttotal: 1.31s\tremaining: 435ms\n",
            "750:\tlearn: 0.5256329\ttotal: 1.31s\tremaining: 434ms\n",
            "751:\tlearn: 0.5253019\ttotal: 1.31s\tremaining: 433ms\n",
            "752:\tlearn: 0.5251518\ttotal: 1.32s\tremaining: 432ms\n",
            "753:\tlearn: 0.5247505\ttotal: 1.32s\tremaining: 431ms\n",
            "754:\tlearn: 0.5246197\ttotal: 1.33s\tremaining: 430ms\n",
            "755:\tlearn: 0.5239672\ttotal: 1.33s\tremaining: 429ms\n",
            "756:\tlearn: 0.5237315\ttotal: 1.33s\tremaining: 428ms\n",
            "757:\tlearn: 0.5231162\ttotal: 1.34s\tremaining: 427ms\n",
            "758:\tlearn: 0.5226486\ttotal: 1.34s\tremaining: 426ms\n",
            "759:\tlearn: 0.5223784\ttotal: 1.34s\tremaining: 425ms\n",
            "760:\tlearn: 0.5220027\ttotal: 1.35s\tremaining: 423ms\n",
            "761:\tlearn: 0.5213502\ttotal: 1.35s\tremaining: 422ms\n",
            "762:\tlearn: 0.5209677\ttotal: 1.35s\tremaining: 421ms\n",
            "763:\tlearn: 0.5204654\ttotal: 1.36s\tremaining: 420ms\n",
            "764:\tlearn: 0.5198778\ttotal: 1.36s\tremaining: 418ms\n",
            "765:\tlearn: 0.5192708\ttotal: 1.36s\tremaining: 417ms\n",
            "766:\tlearn: 0.5190321\ttotal: 1.37s\tremaining: 416ms\n",
            "767:\tlearn: 0.5184671\ttotal: 1.37s\tremaining: 415ms\n",
            "768:\tlearn: 0.5181810\ttotal: 1.38s\tremaining: 413ms\n",
            "769:\tlearn: 0.5180303\ttotal: 1.38s\tremaining: 412ms\n",
            "770:\tlearn: 0.5178915\ttotal: 1.38s\tremaining: 410ms\n",
            "771:\tlearn: 0.5174261\ttotal: 1.38s\tremaining: 409ms\n",
            "772:\tlearn: 0.5168346\ttotal: 1.39s\tremaining: 407ms\n",
            "773:\tlearn: 0.5165304\ttotal: 1.39s\tremaining: 405ms\n",
            "774:\tlearn: 0.5160750\ttotal: 1.39s\tremaining: 404ms\n",
            "775:\tlearn: 0.5159754\ttotal: 1.39s\tremaining: 402ms\n",
            "776:\tlearn: 0.5158023\ttotal: 1.4s\tremaining: 401ms\n",
            "777:\tlearn: 0.5154430\ttotal: 1.4s\tremaining: 399ms\n",
            "778:\tlearn: 0.5150974\ttotal: 1.4s\tremaining: 397ms\n",
            "779:\tlearn: 0.5146340\ttotal: 1.4s\tremaining: 396ms\n",
            "780:\tlearn: 0.5145216\ttotal: 1.41s\tremaining: 395ms\n",
            "781:\tlearn: 0.5143968\ttotal: 1.41s\tremaining: 393ms\n",
            "782:\tlearn: 0.5141666\ttotal: 1.41s\tremaining: 391ms\n",
            "783:\tlearn: 0.5139040\ttotal: 1.42s\tremaining: 391ms\n",
            "784:\tlearn: 0.5136915\ttotal: 1.42s\tremaining: 389ms\n",
            "785:\tlearn: 0.5135250\ttotal: 1.43s\tremaining: 389ms\n",
            "786:\tlearn: 0.5133828\ttotal: 1.43s\tremaining: 388ms\n",
            "787:\tlearn: 0.5130794\ttotal: 1.43s\tremaining: 386ms\n",
            "788:\tlearn: 0.5129260\ttotal: 1.44s\tremaining: 384ms\n",
            "789:\tlearn: 0.5125540\ttotal: 1.44s\tremaining: 383ms\n",
            "790:\tlearn: 0.5122871\ttotal: 1.44s\tremaining: 381ms\n",
            "791:\tlearn: 0.5119251\ttotal: 1.44s\tremaining: 379ms\n",
            "792:\tlearn: 0.5117483\ttotal: 1.45s\tremaining: 378ms\n",
            "793:\tlearn: 0.5115699\ttotal: 1.45s\tremaining: 377ms\n",
            "794:\tlearn: 0.5113278\ttotal: 1.46s\tremaining: 376ms\n",
            "795:\tlearn: 0.5107515\ttotal: 1.46s\tremaining: 374ms\n",
            "796:\tlearn: 0.5103924\ttotal: 1.46s\tremaining: 373ms\n",
            "797:\tlearn: 0.5098077\ttotal: 1.47s\tremaining: 371ms\n",
            "798:\tlearn: 0.5093808\ttotal: 1.47s\tremaining: 370ms\n",
            "799:\tlearn: 0.5088201\ttotal: 1.47s\tremaining: 368ms\n",
            "800:\tlearn: 0.5087091\ttotal: 1.48s\tremaining: 367ms\n",
            "801:\tlearn: 0.5083128\ttotal: 1.48s\tremaining: 365ms\n",
            "802:\tlearn: 0.5081877\ttotal: 1.48s\tremaining: 363ms\n",
            "803:\tlearn: 0.5079122\ttotal: 1.48s\tremaining: 362ms\n",
            "804:\tlearn: 0.5078255\ttotal: 1.49s\tremaining: 360ms\n",
            "805:\tlearn: 0.5077421\ttotal: 1.49s\tremaining: 358ms\n",
            "806:\tlearn: 0.5073421\ttotal: 1.49s\tremaining: 357ms\n",
            "807:\tlearn: 0.5070456\ttotal: 1.5s\tremaining: 355ms\n",
            "808:\tlearn: 0.5065355\ttotal: 1.5s\tremaining: 354ms\n",
            "809:\tlearn: 0.5061643\ttotal: 1.5s\tremaining: 352ms\n",
            "810:\tlearn: 0.5058500\ttotal: 1.5s\tremaining: 350ms\n",
            "811:\tlearn: 0.5052867\ttotal: 1.51s\tremaining: 349ms\n",
            "812:\tlearn: 0.5050513\ttotal: 1.51s\tremaining: 347ms\n",
            "813:\tlearn: 0.5048349\ttotal: 1.51s\tremaining: 346ms\n",
            "814:\tlearn: 0.5044452\ttotal: 1.52s\tremaining: 344ms\n",
            "815:\tlearn: 0.5039288\ttotal: 1.52s\tremaining: 343ms\n",
            "816:\tlearn: 0.5035650\ttotal: 1.52s\tremaining: 341ms\n",
            "817:\tlearn: 0.5029224\ttotal: 1.53s\tremaining: 340ms\n",
            "818:\tlearn: 0.5025201\ttotal: 1.53s\tremaining: 338ms\n",
            "819:\tlearn: 0.5023295\ttotal: 1.53s\tremaining: 336ms\n",
            "820:\tlearn: 0.5021191\ttotal: 1.53s\tremaining: 334ms\n",
            "821:\tlearn: 0.5018169\ttotal: 1.53s\tremaining: 333ms\n",
            "822:\tlearn: 0.5013013\ttotal: 1.54s\tremaining: 331ms\n",
            "823:\tlearn: 0.5009454\ttotal: 1.54s\tremaining: 330ms\n",
            "824:\tlearn: 0.5002206\ttotal: 1.54s\tremaining: 328ms\n",
            "825:\tlearn: 0.4999809\ttotal: 1.55s\tremaining: 326ms\n",
            "826:\tlearn: 0.4993074\ttotal: 1.55s\tremaining: 324ms\n",
            "827:\tlearn: 0.4989655\ttotal: 1.55s\tremaining: 323ms\n",
            "828:\tlearn: 0.4988448\ttotal: 1.56s\tremaining: 321ms\n",
            "829:\tlearn: 0.4984045\ttotal: 1.56s\tremaining: 319ms\n",
            "830:\tlearn: 0.4982062\ttotal: 1.56s\tremaining: 317ms\n",
            "831:\tlearn: 0.4979992\ttotal: 1.56s\tremaining: 316ms\n",
            "832:\tlearn: 0.4977024\ttotal: 1.56s\tremaining: 314ms\n",
            "833:\tlearn: 0.4974629\ttotal: 1.57s\tremaining: 312ms\n",
            "834:\tlearn: 0.4973164\ttotal: 1.57s\tremaining: 310ms\n",
            "835:\tlearn: 0.4969678\ttotal: 1.57s\tremaining: 309ms\n",
            "836:\tlearn: 0.4966495\ttotal: 1.58s\tremaining: 307ms\n",
            "837:\tlearn: 0.4963077\ttotal: 1.58s\tremaining: 305ms\n",
            "838:\tlearn: 0.4962276\ttotal: 1.58s\tremaining: 303ms\n",
            "839:\tlearn: 0.4959452\ttotal: 1.58s\tremaining: 302ms\n",
            "840:\tlearn: 0.4956312\ttotal: 1.59s\tremaining: 300ms\n",
            "841:\tlearn: 0.4953765\ttotal: 1.59s\tremaining: 299ms\n",
            "842:\tlearn: 0.4949891\ttotal: 1.59s\tremaining: 297ms\n",
            "843:\tlearn: 0.4944754\ttotal: 1.6s\tremaining: 295ms\n",
            "844:\tlearn: 0.4940469\ttotal: 1.6s\tremaining: 294ms\n",
            "845:\tlearn: 0.4937176\ttotal: 1.6s\tremaining: 292ms\n",
            "846:\tlearn: 0.4935924\ttotal: 1.6s\tremaining: 290ms\n",
            "847:\tlearn: 0.4928499\ttotal: 1.61s\tremaining: 288ms\n",
            "848:\tlearn: 0.4922665\ttotal: 1.61s\tremaining: 287ms\n",
            "849:\tlearn: 0.4921687\ttotal: 1.61s\tremaining: 285ms\n",
            "850:\tlearn: 0.4918459\ttotal: 1.62s\tremaining: 283ms\n",
            "851:\tlearn: 0.4914716\ttotal: 1.62s\tremaining: 281ms\n",
            "852:\tlearn: 0.4911378\ttotal: 1.62s\tremaining: 279ms\n",
            "853:\tlearn: 0.4909822\ttotal: 1.62s\tremaining: 278ms\n",
            "854:\tlearn: 0.4902079\ttotal: 1.63s\tremaining: 276ms\n",
            "855:\tlearn: 0.4898519\ttotal: 1.63s\tremaining: 274ms\n",
            "856:\tlearn: 0.4894213\ttotal: 1.63s\tremaining: 272ms\n",
            "857:\tlearn: 0.4892958\ttotal: 1.63s\tremaining: 270ms\n",
            "858:\tlearn: 0.4888824\ttotal: 1.64s\tremaining: 269ms\n",
            "859:\tlearn: 0.4886329\ttotal: 1.64s\tremaining: 267ms\n",
            "860:\tlearn: 0.4881709\ttotal: 1.64s\tremaining: 265ms\n",
            "861:\tlearn: 0.4879689\ttotal: 1.64s\tremaining: 263ms\n",
            "862:\tlearn: 0.4878761\ttotal: 1.65s\tremaining: 261ms\n",
            "863:\tlearn: 0.4877633\ttotal: 1.65s\tremaining: 259ms\n",
            "864:\tlearn: 0.4872581\ttotal: 1.65s\tremaining: 258ms\n",
            "865:\tlearn: 0.4869395\ttotal: 1.65s\tremaining: 256ms\n",
            "866:\tlearn: 0.4864841\ttotal: 1.66s\tremaining: 254ms\n",
            "867:\tlearn: 0.4861991\ttotal: 1.66s\tremaining: 252ms\n",
            "868:\tlearn: 0.4858770\ttotal: 1.66s\tremaining: 250ms\n",
            "869:\tlearn: 0.4855650\ttotal: 1.66s\tremaining: 249ms\n",
            "870:\tlearn: 0.4854137\ttotal: 1.67s\tremaining: 247ms\n",
            "871:\tlearn: 0.4851664\ttotal: 1.67s\tremaining: 245ms\n",
            "872:\tlearn: 0.4846534\ttotal: 1.67s\tremaining: 243ms\n",
            "873:\tlearn: 0.4845389\ttotal: 1.67s\tremaining: 241ms\n",
            "874:\tlearn: 0.4840156\ttotal: 1.68s\tremaining: 239ms\n",
            "875:\tlearn: 0.4838121\ttotal: 1.68s\tremaining: 238ms\n",
            "876:\tlearn: 0.4835537\ttotal: 1.69s\tremaining: 237ms\n",
            "877:\tlearn: 0.4831268\ttotal: 1.69s\tremaining: 235ms\n",
            "878:\tlearn: 0.4829770\ttotal: 1.69s\tremaining: 233ms\n",
            "879:\tlearn: 0.4826105\ttotal: 1.7s\tremaining: 232ms\n",
            "880:\tlearn: 0.4822841\ttotal: 1.7s\tremaining: 230ms\n",
            "881:\tlearn: 0.4818192\ttotal: 1.7s\tremaining: 228ms\n",
            "882:\tlearn: 0.4813921\ttotal: 1.7s\tremaining: 226ms\n",
            "883:\tlearn: 0.4811403\ttotal: 1.71s\tremaining: 224ms\n",
            "884:\tlearn: 0.4808280\ttotal: 1.71s\tremaining: 222ms\n",
            "885:\tlearn: 0.4807414\ttotal: 1.71s\tremaining: 220ms\n",
            "886:\tlearn: 0.4805556\ttotal: 1.71s\tremaining: 218ms\n",
            "887:\tlearn: 0.4804339\ttotal: 1.71s\tremaining: 216ms\n",
            "888:\tlearn: 0.4799436\ttotal: 1.71s\tremaining: 214ms\n",
            "889:\tlearn: 0.4795577\ttotal: 1.71s\tremaining: 212ms\n",
            "890:\tlearn: 0.4792901\ttotal: 1.72s\tremaining: 210ms\n",
            "891:\tlearn: 0.4787102\ttotal: 1.72s\tremaining: 208ms\n",
            "892:\tlearn: 0.4786294\ttotal: 1.72s\tremaining: 206ms\n",
            "893:\tlearn: 0.4784455\ttotal: 1.72s\tremaining: 204ms\n",
            "894:\tlearn: 0.4779917\ttotal: 1.73s\tremaining: 203ms\n",
            "895:\tlearn: 0.4773906\ttotal: 1.73s\tremaining: 201ms\n",
            "896:\tlearn: 0.4771985\ttotal: 1.73s\tremaining: 199ms\n",
            "897:\tlearn: 0.4768703\ttotal: 1.73s\tremaining: 197ms\n",
            "898:\tlearn: 0.4765296\ttotal: 1.74s\tremaining: 195ms\n",
            "899:\tlearn: 0.4762823\ttotal: 1.74s\tremaining: 193ms\n",
            "900:\tlearn: 0.4761391\ttotal: 1.74s\tremaining: 191ms\n",
            "901:\tlearn: 0.4759825\ttotal: 1.74s\tremaining: 189ms\n",
            "902:\tlearn: 0.4759367\ttotal: 1.75s\tremaining: 188ms\n",
            "903:\tlearn: 0.4754016\ttotal: 1.75s\tremaining: 186ms\n",
            "904:\tlearn: 0.4749675\ttotal: 1.76s\tremaining: 184ms\n",
            "905:\tlearn: 0.4745846\ttotal: 1.76s\tremaining: 183ms\n",
            "906:\tlearn: 0.4742186\ttotal: 1.76s\tremaining: 181ms\n",
            "907:\tlearn: 0.4738555\ttotal: 1.76s\tremaining: 179ms\n",
            "908:\tlearn: 0.4735179\ttotal: 1.77s\tremaining: 177ms\n",
            "909:\tlearn: 0.4733637\ttotal: 1.77s\tremaining: 175ms\n",
            "910:\tlearn: 0.4731164\ttotal: 1.77s\tremaining: 173ms\n",
            "911:\tlearn: 0.4729013\ttotal: 1.77s\tremaining: 171ms\n",
            "912:\tlearn: 0.4724018\ttotal: 1.78s\tremaining: 169ms\n",
            "913:\tlearn: 0.4720975\ttotal: 1.78s\tremaining: 167ms\n",
            "914:\tlearn: 0.4718783\ttotal: 1.78s\tremaining: 166ms\n",
            "915:\tlearn: 0.4717641\ttotal: 1.78s\tremaining: 164ms\n",
            "916:\tlearn: 0.4713525\ttotal: 1.79s\tremaining: 162ms\n",
            "917:\tlearn: 0.4712774\ttotal: 1.79s\tremaining: 160ms\n",
            "918:\tlearn: 0.4710917\ttotal: 1.79s\tremaining: 158ms\n",
            "919:\tlearn: 0.4708027\ttotal: 1.79s\tremaining: 156ms\n",
            "920:\tlearn: 0.4704299\ttotal: 1.8s\tremaining: 154ms\n",
            "921:\tlearn: 0.4698000\ttotal: 1.8s\tremaining: 152ms\n",
            "922:\tlearn: 0.4696674\ttotal: 1.8s\tremaining: 150ms\n",
            "923:\tlearn: 0.4691253\ttotal: 1.8s\tremaining: 149ms\n",
            "924:\tlearn: 0.4685962\ttotal: 1.81s\tremaining: 147ms\n",
            "925:\tlearn: 0.4683885\ttotal: 1.81s\tremaining: 144ms\n",
            "926:\tlearn: 0.4680990\ttotal: 1.81s\tremaining: 142ms\n",
            "927:\tlearn: 0.4679504\ttotal: 1.81s\tremaining: 140ms\n",
            "928:\tlearn: 0.4677012\ttotal: 1.81s\tremaining: 138ms\n",
            "929:\tlearn: 0.4674891\ttotal: 1.81s\tremaining: 136ms\n",
            "930:\tlearn: 0.4672783\ttotal: 1.81s\tremaining: 135ms\n",
            "931:\tlearn: 0.4671361\ttotal: 1.82s\tremaining: 133ms\n",
            "932:\tlearn: 0.4667537\ttotal: 1.82s\tremaining: 131ms\n",
            "933:\tlearn: 0.4665752\ttotal: 1.82s\tremaining: 129ms\n",
            "934:\tlearn: 0.4661457\ttotal: 1.82s\tremaining: 127ms\n",
            "935:\tlearn: 0.4657198\ttotal: 1.83s\tremaining: 125ms\n",
            "936:\tlearn: 0.4654078\ttotal: 1.83s\tremaining: 123ms\n",
            "937:\tlearn: 0.4648507\ttotal: 1.83s\tremaining: 121ms\n",
            "938:\tlearn: 0.4644597\ttotal: 1.83s\tremaining: 119ms\n",
            "939:\tlearn: 0.4643501\ttotal: 1.84s\tremaining: 117ms\n",
            "940:\tlearn: 0.4642548\ttotal: 1.84s\tremaining: 115ms\n",
            "941:\tlearn: 0.4635836\ttotal: 1.84s\tremaining: 113ms\n",
            "942:\tlearn: 0.4630203\ttotal: 1.84s\tremaining: 111ms\n",
            "943:\tlearn: 0.4629167\ttotal: 1.84s\tremaining: 109ms\n",
            "944:\tlearn: 0.4625788\ttotal: 1.85s\tremaining: 108ms\n",
            "945:\tlearn: 0.4621191\ttotal: 1.85s\tremaining: 106ms\n",
            "946:\tlearn: 0.4619306\ttotal: 1.86s\tremaining: 104ms\n",
            "947:\tlearn: 0.4614789\ttotal: 1.86s\tremaining: 102ms\n",
            "948:\tlearn: 0.4612141\ttotal: 1.86s\tremaining: 100ms\n",
            "949:\tlearn: 0.4606893\ttotal: 1.86s\tremaining: 98.1ms\n",
            "950:\tlearn: 0.4604677\ttotal: 1.86s\tremaining: 96.1ms\n",
            "951:\tlearn: 0.4599254\ttotal: 1.87s\tremaining: 94.2ms\n",
            "952:\tlearn: 0.4596553\ttotal: 1.87s\tremaining: 92.2ms\n",
            "953:\tlearn: 0.4594268\ttotal: 1.87s\tremaining: 90.3ms\n",
            "954:\tlearn: 0.4592845\ttotal: 1.87s\tremaining: 88.3ms\n",
            "955:\tlearn: 0.4588815\ttotal: 1.88s\tremaining: 86.4ms\n",
            "956:\tlearn: 0.4587991\ttotal: 1.88s\tremaining: 84.4ms\n",
            "957:\tlearn: 0.4584493\ttotal: 1.88s\tremaining: 82.5ms\n",
            "958:\tlearn: 0.4581918\ttotal: 1.88s\tremaining: 80.5ms\n",
            "959:\tlearn: 0.4580150\ttotal: 1.89s\tremaining: 78.6ms\n",
            "960:\tlearn: 0.4576461\ttotal: 1.89s\tremaining: 76.7ms\n",
            "961:\tlearn: 0.4573251\ttotal: 1.89s\tremaining: 74.7ms\n",
            "962:\tlearn: 0.4572329\ttotal: 1.89s\tremaining: 72.8ms\n",
            "963:\tlearn: 0.4568653\ttotal: 1.9s\tremaining: 70.8ms\n",
            "964:\tlearn: 0.4563989\ttotal: 1.9s\tremaining: 68.9ms\n",
            "965:\tlearn: 0.4559803\ttotal: 1.9s\tremaining: 66.9ms\n",
            "966:\tlearn: 0.4558504\ttotal: 1.9s\tremaining: 65ms\n",
            "967:\tlearn: 0.4554800\ttotal: 1.91s\tremaining: 63ms\n",
            "968:\tlearn: 0.4551560\ttotal: 1.91s\tremaining: 61.1ms\n",
            "969:\tlearn: 0.4548856\ttotal: 1.91s\tremaining: 59.1ms\n",
            "970:\tlearn: 0.4546383\ttotal: 1.91s\tremaining: 57.2ms\n",
            "971:\tlearn: 0.4543766\ttotal: 1.92s\tremaining: 55.2ms\n",
            "972:\tlearn: 0.4541002\ttotal: 1.92s\tremaining: 53.2ms\n",
            "973:\tlearn: 0.4539064\ttotal: 1.92s\tremaining: 51.3ms\n",
            "974:\tlearn: 0.4538592\ttotal: 1.92s\tremaining: 49.3ms\n",
            "975:\tlearn: 0.4532280\ttotal: 1.93s\tremaining: 47.4ms\n",
            "976:\tlearn: 0.4527427\ttotal: 1.94s\tremaining: 45.6ms\n",
            "977:\tlearn: 0.4524005\ttotal: 1.94s\tremaining: 43.6ms\n",
            "978:\tlearn: 0.4522335\ttotal: 1.94s\tremaining: 41.7ms\n",
            "979:\tlearn: 0.4520509\ttotal: 1.95s\tremaining: 39.7ms\n",
            "980:\tlearn: 0.4516921\ttotal: 1.95s\tremaining: 37.7ms\n",
            "981:\tlearn: 0.4516121\ttotal: 1.95s\tremaining: 35.7ms\n",
            "982:\tlearn: 0.4515520\ttotal: 1.96s\tremaining: 33.9ms\n",
            "983:\tlearn: 0.4513828\ttotal: 1.96s\tremaining: 31.9ms\n",
            "984:\tlearn: 0.4510330\ttotal: 1.96s\tremaining: 29.9ms\n",
            "985:\tlearn: 0.4508120\ttotal: 1.96s\tremaining: 27.9ms\n",
            "986:\tlearn: 0.4507612\ttotal: 1.97s\tremaining: 25.9ms\n",
            "987:\tlearn: 0.4505951\ttotal: 1.97s\tremaining: 23.9ms\n",
            "988:\tlearn: 0.4502462\ttotal: 1.97s\tremaining: 21.9ms\n",
            "989:\tlearn: 0.4499669\ttotal: 1.97s\tremaining: 19.9ms\n",
            "990:\tlearn: 0.4495525\ttotal: 1.98s\tremaining: 18ms\n",
            "991:\tlearn: 0.4493455\ttotal: 1.98s\tremaining: 16ms\n",
            "992:\tlearn: 0.4490321\ttotal: 1.98s\tremaining: 14ms\n",
            "993:\tlearn: 0.4488579\ttotal: 1.99s\tremaining: 12ms\n",
            "994:\tlearn: 0.4483344\ttotal: 1.99s\tremaining: 9.98ms\n",
            "995:\tlearn: 0.4480835\ttotal: 1.99s\tremaining: 7.99ms\n",
            "996:\tlearn: 0.4478716\ttotal: 2s\tremaining: 6.01ms\n",
            "997:\tlearn: 0.4473214\ttotal: 2s\tremaining: 4.01ms\n",
            "998:\tlearn: 0.4467092\ttotal: 2s\tremaining: 2.01ms\n",
            "999:\tlearn: 0.4462973\ttotal: 2.01s\tremaining: 0us\n"
          ]
        },
        {
          "output_type": "execute_result",
          "data": {
            "text/plain": [
              "<catboost.core.CatBoostRegressor at 0x7a6586a9bf70>"
            ]
          },
          "metadata": {},
          "execution_count": 101
        }
      ],
      "source": [
        "from catboost import CatBoostRegressor\n",
        "model = CatBoostRegressor()\n",
        "model.fit(xtrain,ytrain)"
      ]
    },
    {
      "cell_type": "code",
      "execution_count": null,
      "metadata": {
        "id": "lUUFlmVXI9AE"
      },
      "outputs": [],
      "source": [
        "trainpred = model.predict(xtrain)\n",
        "testpred = model.predict(xtest)"
      ]
    },
    {
      "cell_type": "code",
      "execution_count": null,
      "metadata": {
        "id": "u44cADBUJGK7",
        "colab": {
          "base_uri": "https://localhost:8080/"
        },
        "outputId": "f1edf610-83f5-45d4-efc9-918338878534"
      },
      "outputs": [
        {
          "output_type": "execute_result",
          "data": {
            "text/plain": [
              "0.19918123732420817"
            ]
          },
          "metadata": {},
          "execution_count": 103
        }
      ],
      "source": [
        "from sklearn.metrics import mean_squared_error\n",
        "mse_train = mean_squared_error(ytrain,trainpred)\n",
        "mse_train"
      ]
    },
    {
      "cell_type": "code",
      "execution_count": null,
      "metadata": {
        "id": "CJEAsSREJKPt",
        "colab": {
          "base_uri": "https://localhost:8080/"
        },
        "outputId": "dea9921f-518b-434d-8332-931da9f24a70"
      },
      "outputs": [
        {
          "output_type": "execute_result",
          "data": {
            "text/plain": [
              "1.1451547970191573"
            ]
          },
          "metadata": {},
          "execution_count": 104
        }
      ],
      "source": [
        "mse_test = mean_squared_error(ytest,testpred)\n",
        "mse_test"
      ]
    },
    {
      "cell_type": "code",
      "source": [
        "models.append(\"CatBoostRegressor\")\n",
        "training_errors.append(mse_train)\n",
        "testing_errors.append(mse_test)"
      ],
      "metadata": {
        "id": "gY1nnex2DQBQ"
      },
      "execution_count": null,
      "outputs": []
    },
    {
      "cell_type": "code",
      "source": [
        "evaluation['models'] = models\n",
        "evaluation['training_errors'] = training_errors\n",
        "evaluation['testing_errors'] = testing_errors"
      ],
      "metadata": {
        "id": "hxVrNpXN9enn"
      },
      "execution_count": null,
      "outputs": []
    },
    {
      "cell_type": "code",
      "source": [
        "import pandas as pd\n",
        "evaluation = pd.DataFrame(evaluation)"
      ],
      "metadata": {
        "id": "5GNz-BM9Gxg_"
      },
      "execution_count": null,
      "outputs": []
    },
    {
      "cell_type": "code",
      "source": [
        "import matplotlib.pyplot as plt\n",
        "import seaborn as sns\n",
        "bar_plot = sns.barplot(x='models', y='value', hue='variable',\n",
        "                       data=pd.melt(evaluation, ['models']))\n",
        "bar_plot.set_title('Training and Testing Errors of Different ML Models')\n",
        "bar_plot.set_xlabel('Machine Learning Models')\n",
        "bar_plot.set_ylabel('Error')\n",
        "bar_plot.set_xticklabels(bar_plot.get_xticklabels(),rotation=45,horizontalalignment=\"right\")\n",
        "plt.tight_layout()\n",
        "plt.show()\n"
      ],
      "metadata": {
        "colab": {
          "base_uri": "https://localhost:8080/",
          "height": 517
        },
        "id": "DitaWiYHDgKr",
        "outputId": "6a378365-ed1d-46cd-bf06-5640fd72f4a0"
      },
      "execution_count": null,
      "outputs": [
        {
          "output_type": "stream",
          "name": "stderr",
          "text": [
            "<ipython-input-113-c0e1b767a67d>:8: UserWarning: FixedFormatter should only be used together with FixedLocator\n",
            "  bar_plot.set_xticklabels(bar_plot.get_xticklabels(),rotation=45,horizontalalignment=\"right\")\n"
          ]
        },
        {
          "output_type": "display_data",
          "data": {
            "text/plain": [
              "<Figure size 640x480 with 1 Axes>"
            ],
            "image/png": "[encoded data removed]"
          },
          "metadata": {}
        }
      ]
    },
    {
      "cell_type": "markdown",
      "source": [
        "## MODEL TRAINING"
      ],
      "metadata": {
        "id": "AuUtwbZXH4S9"
      }
    },
    {
      "cell_type": "code",
      "source": [
        "from sklearn.ensemble import RandomForestRegressor\n",
        "\n",
        "model = RandomForestRegressor(n_estimators = 100)\n",
        "model.fit(xtrain,ytrain)"
      ],
      "metadata": {
        "colab": {
          "base_uri": "https://localhost:8080/",
          "height": 74
        },
        "id": "WKoiZmUyH9OD",
        "outputId": "96e29d7d-1f5e-40b2-86e3-8068f9e4a76b"
      },
      "execution_count": null,
      "outputs": [
        {
          "output_type": "execute_result",
          "data": {
            "text/plain": [
              "RandomForestRegressor()"
            ],
            "text/html": [
              "<style>#sk-container-id-16 {color: black;}#sk-container-id-16 pre{padding: 0;}#sk-container-id-16 div.sk-toggleable {background-color: white;}#sk-container-id-16 label.sk-toggleable__label {cursor: pointer;display: block;width: 100%;margin-bottom: 0;padding: 0.3em;box-sizing: border-box;text-align: center;}#sk-container-id-16 label.sk-toggleable__label-arrow:before {content: \"▸\";float: left;margin-right: 0.25em;color: #696969;}#sk-container-id-16 label.sk-toggleable__label-arrow:hover:before {color: black;}#sk-container-id-16 div.sk-estimator:hover label.sk-toggleable__label-arrow:before {color: black;}#sk-container-id-16 div.sk-toggleable__content {max-height: 0;max-width: 0;overflow: hidden;text-align: left;background-color: #f0f8ff;}#sk-container-id-16 div.sk-toggleable__content pre {margin: 0.2em;color: black;border-radius: 0.25em;background-color: #f0f8ff;}#sk-container-id-16 input.sk-toggleable__control:checked~div.sk-toggleable__content {max-height: 200px;max-width: 100%;overflow: auto;}#sk-container-id-16 input.sk-toggleable__control:checked~label.sk-toggleable__label-arrow:before {content: \"▾\";}#sk-container-id-16 div.sk-estimator input.sk-toggleable__control:checked~label.sk-toggleable__label {background-color: #d4ebff;}#sk-container-id-16 div.sk-label input.sk-toggleable__control:checked~label.sk-toggleable__label {background-color: #d4ebff;}#sk-container-id-16 input.sk-hidden--visually {border: 0;clip: rect(1px 1px 1px 1px);clip: rect(1px, 1px, 1px, 1px);height: 1px;margin: -1px;overflow: hidden;padding: 0;position: absolute;width: 1px;}#sk-container-id-16 div.sk-estimator {font-family: monospace;background-color: #f0f8ff;border: 1px dotted black;border-radius: 0.25em;box-sizing: border-box;margin-bottom: 0.5em;}#sk-container-id-16 div.sk-estimator:hover {background-color: #d4ebff;}#sk-container-id-16 div.sk-parallel-item::after {content: \"\";width: 100%;border-bottom: 1px solid gray;flex-grow: 1;}#sk-container-id-16 div.sk-label:hover label.sk-toggleable__label {background-color: #d4ebff;}#sk-container-id-16 div.sk-serial::before {content: \"\";position: absolute;border-left: 1px solid gray;box-sizing: border-box;top: 0;bottom: 0;left: 50%;z-index: 0;}#sk-container-id-16 div.sk-serial {display: flex;flex-direction: column;align-items: center;background-color: white;padding-right: 0.2em;padding-left: 0.2em;position: relative;}#sk-container-id-16 div.sk-item {position: relative;z-index: 1;}#sk-container-id-16 div.sk-parallel {display: flex;align-items: stretch;justify-content: center;background-color: white;position: relative;}#sk-container-id-16 div.sk-item::before, #sk-container-id-16 div.sk-parallel-item::before {content: \"\";position: absolute;border-left: 1px solid gray;box-sizing: border-box;top: 0;bottom: 0;left: 50%;z-index: -1;}#sk-container-id-16 div.sk-parallel-item {display: flex;flex-direction: column;z-index: 1;position: relative;background-color: white;}#sk-container-id-16 div.sk-parallel-item:first-child::after {align-self: flex-end;width: 50%;}#sk-container-id-16 div.sk-parallel-item:last-child::after {align-self: flex-start;width: 50%;}#sk-container-id-16 div.sk-parallel-item:only-child::after {width: 0;}#sk-container-id-16 div.sk-dashed-wrapped {border: 1px dashed gray;margin: 0 0.4em 0.5em 0.4em;box-sizing: border-box;padding-bottom: 0.4em;background-color: white;}#sk-container-id-16 div.sk-label label {font-family: monospace;font-weight: bold;display: inline-block;line-height: 1.2em;}#sk-container-id-16 div.sk-label-container {text-align: center;}#sk-container-id-16 div.sk-container {/* jupyter's `normalize.less` sets `[hidden] { display: none; }` but bootstrap.min.css set `[hidden] { display: none !important; }` so we also need the `!important` here to be able to override the default hidden behavior on the sphinx rendered scikit-learn.org. See: https://github.com/scikit-learn/scikit-learn/issues/21755 */display: inline-block !important;position: relative;}#sk-container-id-16 div.sk-text-repr-fallback {display: none;}</style><div id=\"sk-container-id-16\" class=\"sk-top-container\"><div class=\"sk-text-repr-fallback\"><pre>RandomForestRegressor()</pre><b>In a Jupyter environment, please rerun this cell to show the HTML representation or trust the notebook. <br />On GitHub, the HTML representation is unable to render, please try loading this page with nbviewer.org.</b></div><div class=\"sk-container\" hidden><div class=\"sk-item\"><div class=\"sk-estimator sk-toggleable\"><input class=\"sk-toggleable__control sk-hidden--visually\" id=\"sk-estimator-id-16\" type=\"checkbox\" checked><label for=\"sk-estimator-id-16\" class=\"sk-toggleable__label sk-toggleable__label-arrow\">RandomForestRegressor</label><div class=\"sk-toggleable__content\"><pre>RandomForestRegressor()</pre></div></div></div></div></div>"
            ]
          },
          "metadata": {},
          "execution_count": 114
        }
      ]
    },
    {
      "cell_type": "markdown",
      "source": [
        "## MODEL EVALUATION"
      ],
      "metadata": {
        "id": "kXyL-qIUH-d8"
      }
    },
    {
      "cell_type": "code",
      "source": [
        "trainpred = model.predict(xtrain)\n",
        "testpredict = model.predict(xtest)"
      ],
      "metadata": {
        "id": "dQ-XjMCRIGmO"
      },
      "execution_count": null,
      "outputs": []
    },
    {
      "cell_type": "code",
      "source": [
        "from sklearn.metrics import mean_squared_error\n",
        "mse_train = mean_squared_error(ytrain,trainpred)\n",
        "mse_train"
      ],
      "metadata": {
        "colab": {
          "base_uri": "https://localhost:8080/"
        },
        "id": "Mm7phAfaI2ga",
        "outputId": "c1a1b3c3-16b8-497c-e8a0-391fa07aa178"
      },
      "execution_count": null,
      "outputs": [
        {
          "output_type": "execute_result",
          "data": {
            "text/plain": [
              "0.15161143804097893"
            ]
          },
          "metadata": {},
          "execution_count": 116
        }
      ]
    },
    {
      "cell_type": "code",
      "source": [
        "mse_test = mean_squared_error(ytest,testpred)\n",
        "mse_test"
      ],
      "metadata": {
        "colab": {
          "base_uri": "https://localhost:8080/"
        },
        "id": "WzYax29PI9Z-",
        "outputId": "71ed51df-d483-4b2f-a65b-2ce680e4edab"
      },
      "execution_count": null,
      "outputs": [
        {
          "output_type": "execute_result",
          "data": {
            "text/plain": [
              "1.1451547970191573"
            ]
          },
          "metadata": {},
          "execution_count": 117
        }
      ]
    }
  ],
  "metadata": {
    "colab": {
      "provenance": [],
      "authorship_tag": "ABX9TyMvRvkhBkxCn23Mmz2qWBtR",
      "include_colab_link": true
    },
    "kernelspec": {
      "display_name": "Python 3",
      "name": "python3"
    },
    "language_info": {
      "name": "python"
    }
  },
  "nbformat": 4,
  "nbformat_minor": 0
}